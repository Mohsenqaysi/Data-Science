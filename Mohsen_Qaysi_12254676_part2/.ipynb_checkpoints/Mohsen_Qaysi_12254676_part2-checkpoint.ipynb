{
 "cells": [
  {
   "cell_type": "markdown",
   "metadata": {},
   "source": [
    "# Mohsen Qaysi - 122544676\n",
    "### Assignment Part 2\n",
    "- Pleae Run All Cells ... the code will not take long to downlaod data 1:18 seconds to be exact.\n",
    "- I have included a data sample in a zip file in a CSV format.\n",
    "- The script will regenerate them as we."
   ]
  },
  {
   "cell_type": "markdown",
   "metadata": {},
   "source": [
    "# ++++++++++++++++++++++++++++++++++++++++++++++++++++++"
   ]
  },
  {
   "cell_type": "markdown",
   "metadata": {},
   "source": [
    "# Part 1\n",
    "## Data collection"
   ]
  },
  {
   "cell_type": "code",
   "execution_count": 693,
   "metadata": {
    "collapsed": true
   },
   "outputs": [],
   "source": [
    "import pandas as pd\n",
    "import numpy as np\n",
    "import re\n",
    "import csv\n",
    "import os.path as pathFile\n",
    "import os\n",
    "import urllib.request as request\n",
    "from bs4 import BeautifulSoup as bs\n",
    "\n",
    "import matplotlib\n",
    "import itertools\n",
    "import matplotlib.pyplot as plt\n",
    "%matplotlib inline\n",
    "url = 'http://mlg.ucd.ie/modules/COMP41680/archive/index.html'\n",
    "url_prefix = 'http://mlg.ucd.ie/modules/COMP41680/archive/'"
   ]
  },
  {
   "cell_type": "markdown",
   "metadata": {},
   "source": [
    "### Fetch All the Articales URLs\n",
    "- I am using ***mode = 'a'*** because I am writing data for each link.\n",
    "this might add new data to old ones if the file exist before. "
   ]
  },
  {
   "cell_type": "code",
   "execution_count": 694,
   "metadata": {
    "collapsed": true
   },
   "outputs": [],
   "source": [
    "# Article Category , Article Title\n",
    "def write_Articles_to_CSV(fileName, key,link):\n",
    "    for i,df in enumerate(pd.read_html(link)):\n",
    "        sum_articles =+ len(df)\n",
    "#         return sum_articles\n",
    "#         print('{} {}'.format(key, sum))\n",
    "\n",
    "# Drop the NaN Value from the table\n",
    "        df = df.dropna(axis=0,how='any')\n",
    "        df.to_csv(fileName, mode='a', index = False, header = False)\n",
    "        return sum_articles"
   ]
  },
  {
   "cell_type": "markdown",
   "metadata": {},
   "source": [
    "#### Parse each Month's URLs."
   ]
  },
  {
   "cell_type": "code",
   "execution_count": 695,
   "metadata": {},
   "outputs": [],
   "source": [
    "def fetch_data_from_url(prefix, url_to_fetch):\n",
    "\n",
    "    try:\n",
    "        html_page = request.urlopen(url_to_fetch)\n",
    "        soup = bs(html_page, 'html.parser')\n",
    "        main_page_months_links_keys = []\n",
    "        main_page_months_links = []\n",
    "\n",
    "        for link in soup.find_all('a', attrs={'href': re.compile('')}):\n",
    "            newURL = url_prefix + link.get('href')\n",
    "            if newURL in main_page_months_links:\n",
    "                pass\n",
    "            else:\n",
    "                key = newURL.rsplit('/', 1)[1]\n",
    "                main_page_months_links_keys.append(key)\n",
    "                main_page_months_links.append(newURL)\n",
    "\n",
    "        '''\n",
    "        pop() => the last elements ... because it is the main url_prefixes URL\n",
    "        '''\n",
    "        main_page_months_links_keys.pop()\n",
    "        main_page_months_links.pop()\n",
    "        dictionary = dict(zip(main_page_months_links_keys, main_page_months_links))\n",
    "        return dictionary\n",
    "    except Exception as e:\n",
    "        print(e)"
   ]
  },
  {
   "cell_type": "markdown",
   "metadata": {},
   "source": [
    "#### This block acts as the main "
   ]
  },
  {
   "cell_type": "code",
   "execution_count": 696,
   "metadata": {},
   "outputs": [
    {
     "name": "stdout",
     "output_type": "stream",
     "text": [
      "12\n",
      "Create a file\n"
     ]
    }
   ],
   "source": [
    "def main():\n",
    "    all_articles_categories = 'all_articles_categories.csv'\n",
    "    News_Article_Archive_linkes = fetch_data_from_url(url_prefix, url)\n",
    "    print(len(News_Article_Archive_linkes))\n",
    "    # if file is there delete it\n",
    "    if pathFile.isfile(all_articles_categories):\n",
    "            print('The file does exists')\n",
    "            os.remove(all_articles_categories)\n",
    "\n",
    "    print('Create a file')\n",
    "    # create a file and poplaute it with data.\n",
    "    overAllDict = []\n",
    "    month_number_of_articles = []\n",
    "    for key,link in News_Article_Archive_linkes.items():\n",
    "    #     print('month: ', key)\n",
    "    #     print('link: ',link)\n",
    "       # Get the month and the total number of artiles published in it\n",
    "        numer_of_articles = write_Articles_to_CSV(all_articles_categories,key,link)\n",
    "        month_number_of_articles.append({key : numer_of_articles})\n",
    "        all_news_articles = fetch_data_from_url(url_prefix, link)\n",
    "        # get all article links for each month\n",
    "        # print(all_news_articles)\n",
    "        overAllDict.append(all_news_articles)\n",
    "    month_number_of_articles\n",
    "\n",
    "if __name__ == '__main__':\n",
    "    main()"
   ]
  },
  {
   "cell_type": "markdown",
   "metadata": {},
   "source": [
    "### Write each article URLs in CSV file for later use"
   ]
  },
  {
   "cell_type": "code",
   "execution_count": 697,
   "metadata": {
    "collapsed": true
   },
   "outputs": [],
   "source": [
    "def write_articles_to_CSV(fileName,data_dict,operation = 'w'):\n",
    "    try:\n",
    "        with open(fileName, operation) as csvfile:\n",
    "            fieldnames = ['Article', 'URL']\n",
    "            writer = csv.DictWriter(csvfile, fieldnames=fieldnames)\n",
    "            writer.writeheader()\n",
    "            for key,values in enumerate(data_dict):\n",
    "                for key,value in values.items():\n",
    "                    # Pass the home page\n",
    "                    if key == 'index.html':\n",
    "                        pass\n",
    "                    else:\n",
    "                        newURL = url_prefix + key\n",
    "                        writer.writerow({'Article': key , 'URL': newURL})\n",
    "    except Exception as e:\n",
    "        print('write_articles_to_CSV: {}'.format(e))"
   ]
  },
  {
   "cell_type": "markdown",
   "metadata": {},
   "source": [
    "### Write each article content:\n",
    "- ***{key: title, vlaue: body}*** in CSV file for later use.\n",
    "- I had to pass the acual extracted vlaues: title and body raw to the fucntion."
   ]
  },
  {
   "cell_type": "code",
   "execution_count": 698,
   "metadata": {
    "collapsed": true
   },
   "outputs": [],
   "source": [
    "def write_articles_Contents_to_CSV(fileName,key,value,operation = 'w'):\n",
    "    try:\n",
    "        with open(fileName, operation) as csvfile:\n",
    "            writer = csv.writer(csvfile)\n",
    "            writer.writerow([key , value])\n",
    "    except Exception as e:\n",
    "        print('write_articles_Contents_to_CSV: {}'.format(e))"
   ]
  },
  {
   "cell_type": "code",
   "execution_count": 699,
   "metadata": {
    "collapsed": true
   },
   "outputs": [],
   "source": [
    "all_articles_URL_File = 'all_articles_URLs.csv'\n",
    "write_articles_to_CSV(all_articles_URL_File,overAllDict)"
   ]
  },
  {
   "cell_type": "markdown",
   "metadata": {},
   "source": [
    "#### Read the saved URLs back "
   ]
  },
  {
   "cell_type": "code",
   "execution_count": 700,
   "metadata": {
    "collapsed": true
   },
   "outputs": [],
   "source": [
    "get_all_Articles_URLs_from_CSV = []\n",
    "def read_articles_from_CSV(fileName):\n",
    "    try:\n",
    "        with open(fileName) as csvfile:\n",
    "            reader = csv.DictReader(csvfile)\n",
    "            for row in reader:\n",
    "                get_all_Articles_URLs_from_CSV.append((row['URL']))\n",
    "        return get_all_Articles_URLs_from_CSV\n",
    "    except Exception as e:\n",
    "        print('read_articles_from_CSV: {}'.format(e))"
   ]
  },
  {
   "cell_type": "markdown",
   "metadata": {},
   "source": [
    "### read the html page content:\n",
    "- Extract the title and body."
   ]
  },
  {
   "cell_type": "code",
   "execution_count": 701,
   "metadata": {
    "collapsed": true
   },
   "outputs": [],
   "source": [
    "def read_html_page_Content(url):\n",
    "    body_content = ''\n",
    "    try:\n",
    "        html_page = request.urlopen(url)\n",
    "        soup = bs(html_page, 'html.parser')\n",
    "        # get the article title:\n",
    "        title = soup.find('h2').text\n",
    "        # Remove the notice tag from the <div>\n",
    "        soup.find('p',attrs={\"class\":\"notice\"}).decompose()\n",
    "        # get the article body\n",
    "        article = soup.find(\"div\", {\"class\":\"main\"}).find_all('p')\n",
    "        for element in article:\n",
    "            body_content += '\\n' + ''.join(element.find_all(text = True))\n",
    "#         print(body_content)\n",
    "        return title, body_content #dict(zip(title, body.getText()))\n",
    "    except Exception as e:\n",
    "        print('read_html_page_Content: {}'.format(e))"
   ]
  },
  {
   "cell_type": "markdown",
   "metadata": {},
   "source": [
    "### Get all the articles URLs for the CSV file"
   ]
  },
  {
   "cell_type": "code",
   "execution_count": 702,
   "metadata": {
    "collapsed": true
   },
   "outputs": [],
   "source": [
    "all_URLs = read_articles_from_CSV(all_articles_URL_File)"
   ]
  },
  {
   "cell_type": "markdown",
   "metadata": {},
   "source": [
    "### Number of Articles obtained"
   ]
  },
  {
   "cell_type": "code",
   "execution_count": 703,
   "metadata": {},
   "outputs": [
    {
     "name": "stdout",
     "output_type": "stream",
     "text": [
      "1408\n"
     ]
    }
   ],
   "source": [
    "print(len(all_URLs))"
   ]
  },
  {
   "cell_type": "markdown",
   "metadata": {},
   "source": [
    "### For Each Article Get its Conetents:\n",
    "* H2 => header\n",
    "* Body => text content"
   ]
  },
  {
   "cell_type": "code",
   "execution_count": 704,
   "metadata": {},
   "outputs": [
    {
     "name": "stdout",
     "output_type": "stream",
     "text": [
      "Scraping Articles Contents... please wait!\n",
      "Done Scraping Articles Contents.\n"
     ]
    }
   ],
   "source": [
    "print('Scraping Articles Contents... please wait!')\n",
    "articles_Contents = 'articles_Contents.csv'\n",
    "if pathFile.isfile(articles_Contents):\n",
    "        print('The file does exists')\n",
    "        os.remove(articles_Contents)\n",
    "for eachURL in all_URLs:\n",
    "    title,body = read_html_page_Content(eachURL)\n",
    "    write_articles_Contents_to_CSV(articles_Contents,title,body,'a')\n",
    "#     print('Title: {}\\nBody: {}\\n-------------'.format(title,body))\n",
    "print('Done Scraping Articles Contents.')"
   ]
  },
  {
   "cell_type": "markdown",
   "metadata": {},
   "source": [
    "### All the data collection is done above"
   ]
  },
  {
   "cell_type": "markdown",
   "metadata": {},
   "source": [
    "# ++++++++++++++++++++++++++++++++++++++++++++++++++++++"
   ]
  },
  {
   "cell_type": "markdown",
   "metadata": {},
   "source": [
    "# Part 2"
   ]
  },
  {
   "cell_type": "markdown",
   "metadata": {},
   "source": [
    "### Analyse the collected data"
   ]
  },
  {
   "cell_type": "markdown",
   "metadata": {},
   "source": [
    "# Use panda to read all saved csv files\n",
    "- add missing headers."
   ]
  },
  {
   "cell_type": "code",
   "execution_count": 705,
   "metadata": {
    "collapsed": true
   },
   "outputs": [],
   "source": [
    "# read in all data from files \n",
    "all_articles_categories_df = pd.read_csv(all_articles_categories, names = ['Category','Titile'])\n",
    "all_articles_URL_File_df = pd.read_csv(all_articles_URL_File)\n",
    "articles_Contents_df = pd.read_csv(articles_Contents,names = ['Titile','Body'])"
   ]
  },
  {
   "cell_type": "code",
   "execution_count": 706,
   "metadata": {},
   "outputs": [
    {
     "data": {
      "text/html": [
       "<div>\n",
       "<style>\n",
       "    .dataframe thead tr:only-child th {\n",
       "        text-align: right;\n",
       "    }\n",
       "\n",
       "    .dataframe thead th {\n",
       "        text-align: left;\n",
       "    }\n",
       "\n",
       "    .dataframe tbody tr th {\n",
       "        vertical-align: top;\n",
       "    }\n",
       "</style>\n",
       "<table border=\"1\" class=\"dataframe\">\n",
       "  <thead>\n",
       "    <tr style=\"text-align: right;\">\n",
       "      <th></th>\n",
       "      <th>Category</th>\n",
       "      <th>Titile</th>\n",
       "    </tr>\n",
       "  </thead>\n",
       "  <tbody>\n",
       "    <tr>\n",
       "      <th>0</th>\n",
       "      <td>technology</td>\n",
       "      <td>21st-Century Sports: How Digital Technology Is...</td>\n",
       "    </tr>\n",
       "    <tr>\n",
       "      <th>1</th>\n",
       "      <td>business</td>\n",
       "      <td>Asian quake hits European shares</td>\n",
       "    </tr>\n",
       "    <tr>\n",
       "      <th>2</th>\n",
       "      <td>technology</td>\n",
       "      <td>BT offers free net phone calls</td>\n",
       "    </tr>\n",
       "    <tr>\n",
       "      <th>3</th>\n",
       "      <td>business</td>\n",
       "      <td>Barclays shares up on merger talk</td>\n",
       "    </tr>\n",
       "    <tr>\n",
       "      <th>4</th>\n",
       "      <td>sport</td>\n",
       "      <td>Barkley fit for match in Ireland</td>\n",
       "    </tr>\n",
       "  </tbody>\n",
       "</table>\n",
       "</div>"
      ],
      "text/plain": [
       "     Category                                             Titile\n",
       "0  technology  21st-Century Sports: How Digital Technology Is...\n",
       "1    business                   Asian quake hits European shares\n",
       "2  technology                     BT offers free net phone calls\n",
       "3    business                  Barclays shares up on merger talk\n",
       "4       sport                   Barkley fit for match in Ireland"
      ]
     },
     "execution_count": 706,
     "metadata": {},
     "output_type": "execute_result"
    }
   ],
   "source": [
    "all_articles_categories_df.head()"
   ]
  },
  {
   "cell_type": "code",
   "execution_count": 707,
   "metadata": {},
   "outputs": [
    {
     "data": {
      "text/plain": [
       "(1408, 2)"
      ]
     },
     "execution_count": 707,
     "metadata": {},
     "output_type": "execute_result"
    }
   ],
   "source": [
    "# print the shape\n",
    "all_articles_categories_df.shape"
   ]
  },
  {
   "cell_type": "code",
   "execution_count": 708,
   "metadata": {},
   "outputs": [
    {
     "data": {
      "text/html": [
       "<div>\n",
       "<style>\n",
       "    .dataframe thead tr:only-child th {\n",
       "        text-align: right;\n",
       "    }\n",
       "\n",
       "    .dataframe thead th {\n",
       "        text-align: left;\n",
       "    }\n",
       "\n",
       "    .dataframe tbody tr th {\n",
       "        vertical-align: top;\n",
       "    }\n",
       "</style>\n",
       "<table border=\"1\" class=\"dataframe\">\n",
       "  <thead>\n",
       "    <tr style=\"text-align: right;\">\n",
       "      <th></th>\n",
       "      <th>Article</th>\n",
       "      <th>URL</th>\n",
       "    </tr>\n",
       "  </thead>\n",
       "  <tbody>\n",
       "    <tr>\n",
       "      <th>0</th>\n",
       "      <td>article-jan-0418.html</td>\n",
       "      <td>http://mlg.ucd.ie/modules/COMP41680/archive/ar...</td>\n",
       "    </tr>\n",
       "    <tr>\n",
       "      <th>1</th>\n",
       "      <td>article-jan-0027.html</td>\n",
       "      <td>http://mlg.ucd.ie/modules/COMP41680/archive/ar...</td>\n",
       "    </tr>\n",
       "    <tr>\n",
       "      <th>2</th>\n",
       "      <td>article-jan-0631.html</td>\n",
       "      <td>http://mlg.ucd.ie/modules/COMP41680/archive/ar...</td>\n",
       "    </tr>\n",
       "    <tr>\n",
       "      <th>3</th>\n",
       "      <td>article-jan-2105.html</td>\n",
       "      <td>http://mlg.ucd.ie/modules/COMP41680/archive/ar...</td>\n",
       "    </tr>\n",
       "    <tr>\n",
       "      <th>4</th>\n",
       "      <td>article-jan-3300.html</td>\n",
       "      <td>http://mlg.ucd.ie/modules/COMP41680/archive/ar...</td>\n",
       "    </tr>\n",
       "    <tr>\n",
       "      <th>5</th>\n",
       "      <td>article-jan-4187.html</td>\n",
       "      <td>http://mlg.ucd.ie/modules/COMP41680/archive/ar...</td>\n",
       "    </tr>\n",
       "    <tr>\n",
       "      <th>6</th>\n",
       "      <td>article-jan-1974.html</td>\n",
       "      <td>http://mlg.ucd.ie/modules/COMP41680/archive/ar...</td>\n",
       "    </tr>\n",
       "    <tr>\n",
       "      <th>7</th>\n",
       "      <td>article-jan-3666.html</td>\n",
       "      <td>http://mlg.ucd.ie/modules/COMP41680/archive/ar...</td>\n",
       "    </tr>\n",
       "    <tr>\n",
       "      <th>8</th>\n",
       "      <td>article-jan-2629.html</td>\n",
       "      <td>http://mlg.ucd.ie/modules/COMP41680/archive/ar...</td>\n",
       "    </tr>\n",
       "    <tr>\n",
       "      <th>9</th>\n",
       "      <td>article-jan-2415.html</td>\n",
       "      <td>http://mlg.ucd.ie/modules/COMP41680/archive/ar...</td>\n",
       "    </tr>\n",
       "  </tbody>\n",
       "</table>\n",
       "</div>"
      ],
      "text/plain": [
       "                 Article                                                URL\n",
       "0  article-jan-0418.html  http://mlg.ucd.ie/modules/COMP41680/archive/ar...\n",
       "1  article-jan-0027.html  http://mlg.ucd.ie/modules/COMP41680/archive/ar...\n",
       "2  article-jan-0631.html  http://mlg.ucd.ie/modules/COMP41680/archive/ar...\n",
       "3  article-jan-2105.html  http://mlg.ucd.ie/modules/COMP41680/archive/ar...\n",
       "4  article-jan-3300.html  http://mlg.ucd.ie/modules/COMP41680/archive/ar...\n",
       "5  article-jan-4187.html  http://mlg.ucd.ie/modules/COMP41680/archive/ar...\n",
       "6  article-jan-1974.html  http://mlg.ucd.ie/modules/COMP41680/archive/ar...\n",
       "7  article-jan-3666.html  http://mlg.ucd.ie/modules/COMP41680/archive/ar...\n",
       "8  article-jan-2629.html  http://mlg.ucd.ie/modules/COMP41680/archive/ar...\n",
       "9  article-jan-2415.html  http://mlg.ucd.ie/modules/COMP41680/archive/ar..."
      ]
     },
     "execution_count": 708,
     "metadata": {},
     "output_type": "execute_result"
    }
   ],
   "source": [
    "# show the df frist 10 values\n",
    "all_articles_URL_File_df.head(10)"
   ]
  },
  {
   "cell_type": "code",
   "execution_count": 709,
   "metadata": {},
   "outputs": [
    {
     "data": {
      "text/plain": [
       "(1408, 2)"
      ]
     },
     "execution_count": 709,
     "metadata": {},
     "output_type": "execute_result"
    }
   ],
   "source": [
    "all_articles_URL_File_df.shape"
   ]
  },
  {
   "cell_type": "code",
   "execution_count": 710,
   "metadata": {},
   "outputs": [
    {
     "data": {
      "text/html": [
       "<div>\n",
       "<style>\n",
       "    .dataframe thead tr:only-child th {\n",
       "        text-align: right;\n",
       "    }\n",
       "\n",
       "    .dataframe thead th {\n",
       "        text-align: left;\n",
       "    }\n",
       "\n",
       "    .dataframe tbody tr th {\n",
       "        vertical-align: top;\n",
       "    }\n",
       "</style>\n",
       "<table border=\"1\" class=\"dataframe\">\n",
       "  <thead>\n",
       "    <tr style=\"text-align: right;\">\n",
       "      <th></th>\n",
       "      <th>Titile</th>\n",
       "      <th>Body</th>\n",
       "    </tr>\n",
       "  </thead>\n",
       "  <tbody>\n",
       "    <tr>\n",
       "      <th>0</th>\n",
       "      <td>21st-Century Sports: How Digital Technology Is...</td>\n",
       "      <td>\\n\\nThe sporting industry has come a long way ...</td>\n",
       "    </tr>\n",
       "    <tr>\n",
       "      <th>1</th>\n",
       "      <td>Asian quake hits European shares</td>\n",
       "      <td>\\nAsian quake hits European shares\\n\\nShares i...</td>\n",
       "    </tr>\n",
       "    <tr>\n",
       "      <th>2</th>\n",
       "      <td>BT offers free net phone calls</td>\n",
       "      <td>\\n\\nBT is offering customers free internet tel...</td>\n",
       "    </tr>\n",
       "    <tr>\n",
       "      <th>3</th>\n",
       "      <td>Barclays shares up on merger talk</td>\n",
       "      <td>\\nBarclays shares up on merger talk\\n\\nShares ...</td>\n",
       "    </tr>\n",
       "    <tr>\n",
       "      <th>4</th>\n",
       "      <td>Barkley fit for match in Ireland</td>\n",
       "      <td>\\n\\nEngland centre Olly Barkley has been passe...</td>\n",
       "    </tr>\n",
       "    <tr>\n",
       "      <th>5</th>\n",
       "      <td>Bellamy under new fire</td>\n",
       "      <td>\\nBellamy under new fire\\n\\nNewcastle boss Gra...</td>\n",
       "    </tr>\n",
       "    <tr>\n",
       "      <th>6</th>\n",
       "      <td>Benitez 'to launch Morientes bid'</td>\n",
       "      <td>\\nBenitez 'to launch Morientes bid'\\n\\nLiverpo...</td>\n",
       "    </tr>\n",
       "    <tr>\n",
       "      <th>7</th>\n",
       "      <td>Benitez delight after crucial win</td>\n",
       "      <td>\\n\\nLiverpool manager Rafael Benitez admitted ...</td>\n",
       "    </tr>\n",
       "    <tr>\n",
       "      <th>8</th>\n",
       "      <td>Big war games battle it out</td>\n",
       "      <td>\\n\\nThe arrival of new titles in the popular M...</td>\n",
       "    </tr>\n",
       "    <tr>\n",
       "      <th>9</th>\n",
       "      <td>British Library gets wireless net</td>\n",
       "      <td>\\n\\nVisitors to the British Library will be ab...</td>\n",
       "    </tr>\n",
       "  </tbody>\n",
       "</table>\n",
       "</div>"
      ],
      "text/plain": [
       "                                              Titile  \\\n",
       "0  21st-Century Sports: How Digital Technology Is...   \n",
       "1                   Asian quake hits European shares   \n",
       "2                     BT offers free net phone calls   \n",
       "3                  Barclays shares up on merger talk   \n",
       "4                   Barkley fit for match in Ireland   \n",
       "5                             Bellamy under new fire   \n",
       "6                  Benitez 'to launch Morientes bid'   \n",
       "7                  Benitez delight after crucial win   \n",
       "8                        Big war games battle it out   \n",
       "9                  British Library gets wireless net   \n",
       "\n",
       "                                                Body  \n",
       "0  \\n\\nThe sporting industry has come a long way ...  \n",
       "1  \\nAsian quake hits European shares\\n\\nShares i...  \n",
       "2  \\n\\nBT is offering customers free internet tel...  \n",
       "3  \\nBarclays shares up on merger talk\\n\\nShares ...  \n",
       "4  \\n\\nEngland centre Olly Barkley has been passe...  \n",
       "5  \\nBellamy under new fire\\n\\nNewcastle boss Gra...  \n",
       "6  \\nBenitez 'to launch Morientes bid'\\n\\nLiverpo...  \n",
       "7  \\n\\nLiverpool manager Rafael Benitez admitted ...  \n",
       "8  \\n\\nThe arrival of new titles in the popular M...  \n",
       "9  \\n\\nVisitors to the British Library will be ab...  "
      ]
     },
     "execution_count": 710,
     "metadata": {},
     "output_type": "execute_result"
    }
   ],
   "source": [
    "articles_Contents_df.head(10)"
   ]
  },
  {
   "cell_type": "code",
   "execution_count": 711,
   "metadata": {},
   "outputs": [
    {
     "data": {
      "text/plain": [
       "(1408, 2)"
      ]
     },
     "execution_count": 711,
     "metadata": {},
     "output_type": "execute_result"
    }
   ],
   "source": [
    "articles_Contents_df.shape"
   ]
  },
  {
   "cell_type": "code",
   "execution_count": 712,
   "metadata": {},
   "outputs": [],
   "source": [
    "\"\"\"Slices the category colunm for later use\"\"\"\n",
    "all_articles_Category_colm_df = all_articles_categories_df.iloc[:,0]"
   ]
  },
  {
   "cell_type": "code",
   "execution_count": 713,
   "metadata": {},
   "outputs": [
    {
     "data": {
      "text/plain": [
       "pandas.core.series.Series"
      ]
     },
     "execution_count": 713,
     "metadata": {},
     "output_type": "execute_result"
    }
   ],
   "source": [
    "type(all_articles_Category_colm_df)"
   ]
  },
  {
   "cell_type": "markdown",
   "metadata": {},
   "source": [
    "### Merged two data frames togther:\n",
    "+ all_articles_Category_colm_df =>   ***which only contains the categoies column.***\n",
    "+ articles_Contents_df =>   ***which contains the article tilile and voday.***"
   ]
  },
  {
   "cell_type": "code",
   "execution_count": 714,
   "metadata": {},
   "outputs": [],
   "source": [
    "\"\"\"Merge the sliced category df with the articles_Contents_df for easy readability\"\"\"\n",
    "merged_df = pd.concat([all_articles_Category_colm_df, articles_Contents_df], axis=1)"
   ]
  },
  {
   "cell_type": "code",
   "execution_count": 715,
   "metadata": {},
   "outputs": [
    {
     "data": {
      "text/html": [
       "<div>\n",
       "<style>\n",
       "    .dataframe thead tr:only-child th {\n",
       "        text-align: right;\n",
       "    }\n",
       "\n",
       "    .dataframe thead th {\n",
       "        text-align: left;\n",
       "    }\n",
       "\n",
       "    .dataframe tbody tr th {\n",
       "        vertical-align: top;\n",
       "    }\n",
       "</style>\n",
       "<table border=\"1\" class=\"dataframe\">\n",
       "  <thead>\n",
       "    <tr style=\"text-align: right;\">\n",
       "      <th></th>\n",
       "      <th>Category</th>\n",
       "      <th>Titile</th>\n",
       "      <th>Body</th>\n",
       "    </tr>\n",
       "  </thead>\n",
       "  <tbody>\n",
       "    <tr>\n",
       "      <th>0</th>\n",
       "      <td>technology</td>\n",
       "      <td>21st-Century Sports: How Digital Technology Is...</td>\n",
       "      <td>\\n\\nThe sporting industry has come a long way ...</td>\n",
       "    </tr>\n",
       "    <tr>\n",
       "      <th>1</th>\n",
       "      <td>business</td>\n",
       "      <td>Asian quake hits European shares</td>\n",
       "      <td>\\nAsian quake hits European shares\\n\\nShares i...</td>\n",
       "    </tr>\n",
       "    <tr>\n",
       "      <th>2</th>\n",
       "      <td>technology</td>\n",
       "      <td>BT offers free net phone calls</td>\n",
       "      <td>\\n\\nBT is offering customers free internet tel...</td>\n",
       "    </tr>\n",
       "    <tr>\n",
       "      <th>3</th>\n",
       "      <td>business</td>\n",
       "      <td>Barclays shares up on merger talk</td>\n",
       "      <td>\\nBarclays shares up on merger talk\\n\\nShares ...</td>\n",
       "    </tr>\n",
       "    <tr>\n",
       "      <th>4</th>\n",
       "      <td>sport</td>\n",
       "      <td>Barkley fit for match in Ireland</td>\n",
       "      <td>\\n\\nEngland centre Olly Barkley has been passe...</td>\n",
       "    </tr>\n",
       "    <tr>\n",
       "      <th>5</th>\n",
       "      <td>sport</td>\n",
       "      <td>Bellamy under new fire</td>\n",
       "      <td>\\nBellamy under new fire\\n\\nNewcastle boss Gra...</td>\n",
       "    </tr>\n",
       "    <tr>\n",
       "      <th>6</th>\n",
       "      <td>sport</td>\n",
       "      <td>Benitez 'to launch Morientes bid'</td>\n",
       "      <td>\\nBenitez 'to launch Morientes bid'\\n\\nLiverpo...</td>\n",
       "    </tr>\n",
       "    <tr>\n",
       "      <th>7</th>\n",
       "      <td>sport</td>\n",
       "      <td>Benitez delight after crucial win</td>\n",
       "      <td>\\n\\nLiverpool manager Rafael Benitez admitted ...</td>\n",
       "    </tr>\n",
       "    <tr>\n",
       "      <th>8</th>\n",
       "      <td>technology</td>\n",
       "      <td>Big war games battle it out</td>\n",
       "      <td>\\n\\nThe arrival of new titles in the popular M...</td>\n",
       "    </tr>\n",
       "    <tr>\n",
       "      <th>9</th>\n",
       "      <td>technology</td>\n",
       "      <td>British Library gets wireless net</td>\n",
       "      <td>\\n\\nVisitors to the British Library will be ab...</td>\n",
       "    </tr>\n",
       "  </tbody>\n",
       "</table>\n",
       "</div>"
      ],
      "text/plain": [
       "     Category                                             Titile  \\\n",
       "0  technology  21st-Century Sports: How Digital Technology Is...   \n",
       "1    business                   Asian quake hits European shares   \n",
       "2  technology                     BT offers free net phone calls   \n",
       "3    business                  Barclays shares up on merger talk   \n",
       "4       sport                   Barkley fit for match in Ireland   \n",
       "5       sport                             Bellamy under new fire   \n",
       "6       sport                  Benitez 'to launch Morientes bid'   \n",
       "7       sport                  Benitez delight after crucial win   \n",
       "8  technology                        Big war games battle it out   \n",
       "9  technology                  British Library gets wireless net   \n",
       "\n",
       "                                                Body  \n",
       "0  \\n\\nThe sporting industry has come a long way ...  \n",
       "1  \\nAsian quake hits European shares\\n\\nShares i...  \n",
       "2  \\n\\nBT is offering customers free internet tel...  \n",
       "3  \\nBarclays shares up on merger talk\\n\\nShares ...  \n",
       "4  \\n\\nEngland centre Olly Barkley has been passe...  \n",
       "5  \\nBellamy under new fire\\n\\nNewcastle boss Gra...  \n",
       "6  \\nBenitez 'to launch Morientes bid'\\n\\nLiverpo...  \n",
       "7  \\n\\nLiverpool manager Rafael Benitez admitted ...  \n",
       "8  \\n\\nThe arrival of new titles in the popular M...  \n",
       "9  \\n\\nVisitors to the British Library will be ab...  "
      ]
     },
     "execution_count": 715,
     "metadata": {},
     "output_type": "execute_result"
    }
   ],
   "source": [
    "merged_df.head(10)"
   ]
  },
  {
   "cell_type": "markdown",
   "metadata": {},
   "source": [
    "### Clean data before saving them \n",
    "+ ***Remove NaN***"
   ]
  },
  {
   "cell_type": "code",
   "execution_count": 716,
   "metadata": {},
   "outputs": [],
   "source": [
    "\"\"\"Drop any row missing data\"\"\"\n",
    "fileName = 'merged_contents.csv'\n",
    "merged_df = merged_df.dropna(axis=0,how='any')\n",
    "merged_df.to_csv(fileName, mode='w', index = False, header = True)"
   ]
  },
  {
   "cell_type": "code",
   "execution_count": 717,
   "metadata": {},
   "outputs": [
    {
     "data": {
      "text/plain": [
       "4224"
      ]
     },
     "execution_count": 717,
     "metadata": {},
     "output_type": "execute_result"
    }
   ],
   "source": [
    "# check size\n",
    "merged_df.size"
   ]
  },
  {
   "cell_type": "code",
   "execution_count": 718,
   "metadata": {},
   "outputs": [
    {
     "data": {
      "text/plain": [
       "pandas.core.frame.DataFrame"
      ]
     },
     "execution_count": 718,
     "metadata": {},
     "output_type": "execute_result"
    }
   ],
   "source": [
    "# check type\n",
    "type(merged_df)"
   ]
  },
  {
   "cell_type": "markdown",
   "metadata": {},
   "source": [
    "#### Double check for missing vlaues if any"
   ]
  },
  {
   "cell_type": "code",
   "execution_count": 719,
   "metadata": {
    "collapsed": true
   },
   "outputs": [
    {
     "data": {
      "text/plain": [
       "<bound method NDFrame.isnull of      Category                                             Titile\n",
       "0  technology  21st-Century Sports: How Digital Technology Is...\n",
       "1    business                   Asian quake hits European shares\n",
       "2  technology                     BT offers free net phone calls\n",
       "3    business                  Barclays shares up on merger talk\n",
       "4       sport                   Barkley fit for match in Ireland>"
      ]
     },
     "execution_count": 719,
     "metadata": {},
     "output_type": "execute_result"
    }
   ],
   "source": [
    "all_articles_categories_df.head().isnull"
   ]
  },
  {
   "cell_type": "code",
   "execution_count": 720,
   "metadata": {},
   "outputs": [
    {
     "data": {
      "text/plain": [
       "<bound method NDFrame.isnull of                  Article                                                URL\n",
       "0  article-jan-0418.html  http://mlg.ucd.ie/modules/COMP41680/archive/ar...\n",
       "1  article-jan-0027.html  http://mlg.ucd.ie/modules/COMP41680/archive/ar...\n",
       "2  article-jan-0631.html  http://mlg.ucd.ie/modules/COMP41680/archive/ar...\n",
       "3  article-jan-2105.html  http://mlg.ucd.ie/modules/COMP41680/archive/ar...\n",
       "4  article-jan-3300.html  http://mlg.ucd.ie/modules/COMP41680/archive/ar...>"
      ]
     },
     "execution_count": 720,
     "metadata": {},
     "output_type": "execute_result"
    }
   ],
   "source": [
    "all_articles_URL_File_df.head().isnull"
   ]
  },
  {
   "cell_type": "code",
   "execution_count": 721,
   "metadata": {},
   "outputs": [
    {
     "data": {
      "text/plain": [
       "<bound method NDFrame.isnull of                                               Titile  \\\n",
       "0  21st-Century Sports: How Digital Technology Is...   \n",
       "1                   Asian quake hits European shares   \n",
       "2                     BT offers free net phone calls   \n",
       "3                  Barclays shares up on merger talk   \n",
       "4                   Barkley fit for match in Ireland   \n",
       "\n",
       "                                                Body  \n",
       "0  \\n\\nThe sporting industry has come a long way ...  \n",
       "1  \\nAsian quake hits European shares\\n\\nShares i...  \n",
       "2  \\n\\nBT is offering customers free internet tel...  \n",
       "3  \\nBarclays shares up on merger talk\\n\\nShares ...  \n",
       "4  \\n\\nEngland centre Olly Barkley has been passe...  >"
      ]
     },
     "execution_count": 721,
     "metadata": {},
     "output_type": "execute_result"
    }
   ],
   "source": [
    "articles_Contents_df.head().isnull"
   ]
  },
  {
   "cell_type": "markdown",
   "metadata": {},
   "source": [
    "### Get classes labels:"
   ]
  },
  {
   "cell_type": "code",
   "execution_count": 722,
   "metadata": {},
   "outputs": [],
   "source": [
    "lables = [] # we expect those 3 ['technology', 'business', 'sport']\n",
    "for cat,title in all_articles_Category_colm_df.items():\n",
    "#     print(title)\n",
    "    if title in lables:\n",
    "        pass\n",
    "    elif title != 'Article Category':\n",
    "        lables.append(title)"
   ]
  },
  {
   "cell_type": "code",
   "execution_count": 723,
   "metadata": {},
   "outputs": [
    {
     "data": {
      "text/plain": [
       "['technology', 'business', 'sport']"
      ]
     },
     "execution_count": 723,
     "metadata": {},
     "output_type": "execute_result"
    }
   ],
   "source": [
    "lables"
   ]
  },
  {
   "cell_type": "code",
   "execution_count": 724,
   "metadata": {},
   "outputs": [
    {
     "data": {
      "text/plain": [
       "pandas.core.frame.DataFrame"
      ]
     },
     "execution_count": 724,
     "metadata": {},
     "output_type": "execute_result"
    }
   ],
   "source": [
    "type(merged_df)"
   ]
  },
  {
   "cell_type": "markdown",
   "metadata": {},
   "source": [
    "### Check the Category distribution"
   ]
  },
  {
   "cell_type": "code",
   "execution_count": 725,
   "metadata": {},
   "outputs": [
    {
     "data": {
      "text/plain": [
       "sport         526\n",
       "business      491\n",
       "technology    391\n",
       "Name: Category, dtype: int64"
      ]
     },
     "execution_count": 725,
     "metadata": {},
     "output_type": "execute_result"
    }
   ],
   "source": [
    "merged_df.Category.value_counts()"
   ]
  },
  {
   "cell_type": "markdown",
   "metadata": {},
   "source": [
    "### Labels Mapping:\n",
    "we assigned each category a value:\n",
    "+ 0 => technology.\n",
    "+ 1 => business.\n",
    "+ 2 => sport."
   ]
  },
  {
   "cell_type": "markdown",
   "metadata": {},
   "source": [
    "### Convert Category to a numerical variable"
   ]
  },
  {
   "cell_type": "code",
   "execution_count": 726,
   "metadata": {},
   "outputs": [],
   "source": [
    "merged_df['Category_num'] = merged_df.Category.map({lables[0]: 0.0, lables[1]: 1.0, lables[2] : 2.0})"
   ]
  },
  {
   "cell_type": "code",
   "execution_count": 727,
   "metadata": {},
   "outputs": [
    {
     "data": {
      "text/html": [
       "<div>\n",
       "<style>\n",
       "    .dataframe thead tr:only-child th {\n",
       "        text-align: right;\n",
       "    }\n",
       "\n",
       "    .dataframe thead th {\n",
       "        text-align: left;\n",
       "    }\n",
       "\n",
       "    .dataframe tbody tr th {\n",
       "        vertical-align: top;\n",
       "    }\n",
       "</style>\n",
       "<table border=\"1\" class=\"dataframe\">\n",
       "  <thead>\n",
       "    <tr style=\"text-align: right;\">\n",
       "      <th></th>\n",
       "      <th>Category</th>\n",
       "      <th>Titile</th>\n",
       "      <th>Body</th>\n",
       "      <th>Category_num</th>\n",
       "    </tr>\n",
       "  </thead>\n",
       "  <tbody>\n",
       "    <tr>\n",
       "      <th>0</th>\n",
       "      <td>technology</td>\n",
       "      <td>21st-Century Sports: How Digital Technology Is...</td>\n",
       "      <td>\\n\\nThe sporting industry has come a long way ...</td>\n",
       "      <td>0.0</td>\n",
       "    </tr>\n",
       "    <tr>\n",
       "      <th>1</th>\n",
       "      <td>business</td>\n",
       "      <td>Asian quake hits European shares</td>\n",
       "      <td>\\nAsian quake hits European shares\\n\\nShares i...</td>\n",
       "      <td>1.0</td>\n",
       "    </tr>\n",
       "    <tr>\n",
       "      <th>2</th>\n",
       "      <td>technology</td>\n",
       "      <td>BT offers free net phone calls</td>\n",
       "      <td>\\n\\nBT is offering customers free internet tel...</td>\n",
       "      <td>0.0</td>\n",
       "    </tr>\n",
       "    <tr>\n",
       "      <th>3</th>\n",
       "      <td>business</td>\n",
       "      <td>Barclays shares up on merger talk</td>\n",
       "      <td>\\nBarclays shares up on merger talk\\n\\nShares ...</td>\n",
       "      <td>1.0</td>\n",
       "    </tr>\n",
       "    <tr>\n",
       "      <th>4</th>\n",
       "      <td>sport</td>\n",
       "      <td>Barkley fit for match in Ireland</td>\n",
       "      <td>\\n\\nEngland centre Olly Barkley has been passe...</td>\n",
       "      <td>2.0</td>\n",
       "    </tr>\n",
       "    <tr>\n",
       "      <th>5</th>\n",
       "      <td>sport</td>\n",
       "      <td>Bellamy under new fire</td>\n",
       "      <td>\\nBellamy under new fire\\n\\nNewcastle boss Gra...</td>\n",
       "      <td>2.0</td>\n",
       "    </tr>\n",
       "    <tr>\n",
       "      <th>6</th>\n",
       "      <td>sport</td>\n",
       "      <td>Benitez 'to launch Morientes bid'</td>\n",
       "      <td>\\nBenitez 'to launch Morientes bid'\\n\\nLiverpo...</td>\n",
       "      <td>2.0</td>\n",
       "    </tr>\n",
       "    <tr>\n",
       "      <th>7</th>\n",
       "      <td>sport</td>\n",
       "      <td>Benitez delight after crucial win</td>\n",
       "      <td>\\n\\nLiverpool manager Rafael Benitez admitted ...</td>\n",
       "      <td>2.0</td>\n",
       "    </tr>\n",
       "    <tr>\n",
       "      <th>8</th>\n",
       "      <td>technology</td>\n",
       "      <td>Big war games battle it out</td>\n",
       "      <td>\\n\\nThe arrival of new titles in the popular M...</td>\n",
       "      <td>0.0</td>\n",
       "    </tr>\n",
       "    <tr>\n",
       "      <th>9</th>\n",
       "      <td>technology</td>\n",
       "      <td>British Library gets wireless net</td>\n",
       "      <td>\\n\\nVisitors to the British Library will be ab...</td>\n",
       "      <td>0.0</td>\n",
       "    </tr>\n",
       "  </tbody>\n",
       "</table>\n",
       "</div>"
      ],
      "text/plain": [
       "     Category                                             Titile  \\\n",
       "0  technology  21st-Century Sports: How Digital Technology Is...   \n",
       "1    business                   Asian quake hits European shares   \n",
       "2  technology                     BT offers free net phone calls   \n",
       "3    business                  Barclays shares up on merger talk   \n",
       "4       sport                   Barkley fit for match in Ireland   \n",
       "5       sport                             Bellamy under new fire   \n",
       "6       sport                  Benitez 'to launch Morientes bid'   \n",
       "7       sport                  Benitez delight after crucial win   \n",
       "8  technology                        Big war games battle it out   \n",
       "9  technology                  British Library gets wireless net   \n",
       "\n",
       "                                                Body  Category_num  \n",
       "0  \\n\\nThe sporting industry has come a long way ...           0.0  \n",
       "1  \\nAsian quake hits European shares\\n\\nShares i...           1.0  \n",
       "2  \\n\\nBT is offering customers free internet tel...           0.0  \n",
       "3  \\nBarclays shares up on merger talk\\n\\nShares ...           1.0  \n",
       "4  \\n\\nEngland centre Olly Barkley has been passe...           2.0  \n",
       "5  \\nBellamy under new fire\\n\\nNewcastle boss Gra...           2.0  \n",
       "6  \\nBenitez 'to launch Morientes bid'\\n\\nLiverpo...           2.0  \n",
       "7  \\n\\nLiverpool manager Rafael Benitez admitted ...           2.0  \n",
       "8  \\n\\nThe arrival of new titles in the popular M...           0.0  \n",
       "9  \\n\\nVisitors to the British Library will be ab...           0.0  "
      ]
     },
     "execution_count": 727,
     "metadata": {},
     "output_type": "execute_result"
    }
   ],
   "source": [
    "# check that the conversion worked\n",
    "merged_df.head(10)"
   ]
  },
  {
   "cell_type": "code",
   "execution_count": 728,
   "metadata": {},
   "outputs": [],
   "source": [
    "\"\"\"store the feature matrix (X) and response vector (y)\"\"\"\n",
    "X = merged_df.Body\n",
    "y = merged_df.Category_num"
   ]
  },
  {
   "cell_type": "code",
   "execution_count": 729,
   "metadata": {},
   "outputs": [
    {
     "name": "stdout",
     "output_type": "stream",
     "text": [
      "(1408,)\n",
      "(1408,)\n"
     ]
    }
   ],
   "source": [
    "# check the shapes of X and y\n",
    "print(X.shape)\n",
    "print(y.shape)"
   ]
  },
  {
   "cell_type": "markdown",
   "metadata": {},
   "source": [
    "### Using the 20 to 80 precent ration to slices the data."
   ]
  },
  {
   "cell_type": "code",
   "execution_count": 730,
   "metadata": {},
   "outputs": [
    {
     "name": "stdout",
     "output_type": "stream",
     "text": [
      "(1126,)\n",
      "(282,)\n",
      "(1126,)\n",
      "(282,)\n"
     ]
    }
   ],
   "source": [
    "# split X and y into training and testing sets\n",
    "from sklearn.model_selection import train_test_split\n",
    "X_train, X_test, y_train, y_test = train_test_split(X, y, random_state=1,test_size=0.2)\n",
    "print(X_train.shape)\n",
    "print(X_test.shape)\n",
    "print(y_train.shape)\n",
    "print(y_test.shape)"
   ]
  },
  {
   "cell_type": "markdown",
   "metadata": {},
   "source": [
    "## Vectorizing our dataset\n",
    "- user some weighing and filtering matrix"
   ]
  },
  {
   "cell_type": "code",
   "execution_count": 731,
   "metadata": {},
   "outputs": [],
   "source": [
    "\"\"\"import and instantiate CountVectorizer (with the default parameters)\"\"\"\n",
    "from sklearn.feature_extraction.text import CountVectorizer,TfidfVectorizer\n",
    "\"\"\"remove English stop words and include ngram_range=(1, 2) companation\"\"\"\n",
    "# vect = CountVectorizer(stop_words='english',max_df=0.5,min_df=2)\n",
    "vect = TfidfVectorizer(stop_words='english', ngram_range=(1, 2),max_df=0.5)"
   ]
  },
  {
   "cell_type": "code",
   "execution_count": 732,
   "metadata": {},
   "outputs": [],
   "source": [
    "# learn training data vocabulary, then use it to create a document-term matrix\n",
    "X_train_dtm = vect.fit_transform(X_train)"
   ]
  },
  {
   "cell_type": "code",
   "execution_count": 733,
   "metadata": {},
   "outputs": [
    {
     "data": {
      "text/plain": [
       "<1126x195019 sparse matrix of type '<class 'numpy.float64'>'\n",
       "\twith 382177 stored elements in Compressed Sparse Row format>"
      ]
     },
     "execution_count": 733,
     "metadata": {},
     "output_type": "execute_result"
    }
   ],
   "source": [
    "# examine the document-term matrix\n",
    "X_train_dtm"
   ]
  },
  {
   "cell_type": "code",
   "execution_count": 734,
   "metadata": {},
   "outputs": [
    {
     "name": "stdout",
     "output_type": "stream",
     "text": [
      "  (0, 44556)\t0.0326243689375\n",
      "  (0, 160670)\t0.032915747617\n",
      "  (0, 164101)\t0.143480996178\n",
      "  (0, 72805)\t0.110873577225\n",
      "  (0, 120019)\t0.0204972851684\n",
      "  (0, 182398)\t0.0363512826902\n",
      "  (0, 121739)\t0.0217573787296\n",
      "  (0, 64112)\t0.0900302035998\n",
      "  (0, 100346)\t0.0461318862802\n",
      "  (0, 57652)\t0.0301420514658\n",
      "  (0, 65947)\t0.0391535824889\n",
      "  (0, 8573)\t0.0157380722513\n",
      "  (0, 114144)\t0.0220253590954\n",
      "  (0, 42311)\t0.032915747617\n",
      "  (0, 74667)\t0.0263645580952\n",
      "  (0, 59661)\t0.472566674972\n",
      "  (0, 55211)\t0.309060884293\n",
      "  (0, 102509)\t0.0301420514658\n",
      "  (0, 81321)\t0.0363512826902\n",
      "  (0, 19900)\t0.0198354462464\n",
      "  (0, 193960)\t0.0328199626268\n",
      "  (0, 192034)\t0.0101403604364\n",
      "  (0, 97147)\t0.0173213083189\n",
      "  (0, 106539)\t0.0274705533562\n",
      "  (0, 62175)\t0.0190967619183\n",
      "  :\t:\n",
      "  (0, 177110)\t0.0343416235025\n",
      "  (0, 159581)\t0.0363512826902\n",
      "  (0, 29259)\t0.0363512826902\n",
      "  (0, 70352)\t0.0363512826902\n",
      "  (0, 72732)\t0.0363512826902\n",
      "  (0, 17250)\t0.0363512826902\n",
      "  (0, 157123)\t0.0363512826902\n",
      "  (0, 132541)\t0.0363512826902\n",
      "  (0, 103035)\t0.0363512826902\n",
      "  (0, 162434)\t0.0343416235025\n",
      "  (0, 100691)\t0.031809752356\n",
      "  (0, 180384)\t0.0363512826902\n",
      "  (0, 115982)\t0.0363512826902\n",
      "  (0, 61117)\t0.0343416235025\n",
      "  (0, 184233)\t0.0363512826902\n",
      "  (0, 72872)\t0.0363512826902\n",
      "  (0, 44594)\t0.032915747617\n",
      "  (0, 69633)\t0.0363512826902\n",
      "  (0, 36090)\t0.0363512826902\n",
      "  (0, 55215)\t0.0363512826902\n",
      "  (0, 59727)\t0.0363512826902\n",
      "  (0, 24726)\t0.0363512826902\n",
      "  (0, 134758)\t0.0363512826902\n",
      "  (0, 179479)\t0.0363512826902\n",
      "  (0, 69822)\t0.0363512826902\n"
     ]
    }
   ],
   "source": [
    "# display some sample weighted values\n",
    "print(X_train_dtm[0])"
   ]
  },
  {
   "cell_type": "code",
   "execution_count": 735,
   "metadata": {},
   "outputs": [
    {
     "data": {
      "text/plain": [
       "<282x195019 sparse matrix of type '<class 'numpy.float64'>'\n",
       "\twith 57351 stored elements in Compressed Sparse Row format>"
      ]
     },
     "execution_count": 735,
     "metadata": {},
     "output_type": "execute_result"
    }
   ],
   "source": [
    "# transform testing data (using fitted vocabulary) into a document-term matrix\n",
    "X_test_dtm = vect.transform(X_test)\n",
    "X_test_dtm"
   ]
  },
  {
   "cell_type": "code",
   "execution_count": 736,
   "metadata": {},
   "outputs": [
    {
     "name": "stdout",
     "output_type": "stream",
     "text": [
      "Vocabulary has 195019 distinct terms\n"
     ]
    }
   ],
   "source": [
    "\"\"\"Get the some of the vocabualry we have\"\"\"\n",
    "terms = vect.get_feature_names()\n",
    "vocab = vect.vocabulary_\n",
    "print(\"Vocabulary has %d distinct terms\" % len(terms))"
   ]
  },
  {
   "cell_type": "code",
   "execution_count": 737,
   "metadata": {},
   "outputs": [
    {
     "name": "stdout",
     "output_type": "stream",
     "text": [
      "['100 baikal', '100 bonds', '100 britain', '100 cent', '100 chosen', '100 companies', '100 countries', '100 date', '100 debt', '100 debts', '100 december', '100 decline', '100 depending', '100 difficult', '100 don', '100 employees', '100 exchange', '100 fighting', '100 firms', '100 foreign', '100 fresh', '100 gazprom', '100 gigabytes', '100 guarantee', '100 hard', '100 home', '100 hours', '100 iconic', '100 ids', '100 include', '100 index', '100 january', '100 jobs', '100 kfb', '100 km', '100 lawsuits', '100 lifetime', '100 list', '100 meet', '100 mentally', '100 metres', '100 million', '100 month', '100 multilateral', '100 new', '100 nigerian', '100 page', '100 parent', '100 people', '100 points', '100 popular', '100 portability', '100 really', '100 record', '100 rupees', '100 said', '100 server', '100 seven', '100 size', '100 staff', '100 sure', '100 telecom', '100 times', '100 trillion', '100 uk', '100 worth', '100 years', '1000', '1000 web', '1000m', '1000m major', '1000m swedish', '100bn', '100bn proving', '100bn red', '100m', '100m 120m', '100m 20', '100m 200m', '100m 38m', '100m 52m', '100m analysts', '100m champion', '100m deal', '100m euros', '100m final', '100m gold', '100m hurdles', '100m new', '100m personal', '100m represents', '100m scheme', '100m silver', '100m steal', '100m title', '100m withdrew', '100m world', '100s', '100s 000s', '101']\n"
     ]
    }
   ],
   "source": [
    "\"\"\"show some of the vocabualry we have\"\"\"\n",
    "print(terms[500:600])"
   ]
  },
  {
   "cell_type": "code",
   "execution_count": 738,
   "metadata": {},
   "outputs": [
    {
     "data": {
      "text/plain": [
       "2670"
      ]
     },
     "execution_count": 738,
     "metadata": {},
     "output_type": "execute_result"
    }
   ],
   "source": [
    "# what column is the term '2003 records' on?\n",
    "vocab_nb['2003 records']"
   ]
  },
  {
   "cell_type": "markdown",
   "metadata": {},
   "source": [
    "## Building and evaluating a model\n",
    "The multinomial Naive Bayes classifier is suitable for classification with **discrete features** (e.g., word counts for text classification). The multinomial distribution normally requires integer feature counts. However, in practice, fractional counts such as tf-idf may also work."
   ]
  },
  {
   "cell_type": "code",
   "execution_count": 739,
   "metadata": {},
   "outputs": [],
   "source": [
    "# import and instantiate a Multinomial Naive Bayes model\n",
    "from sklearn.naive_bayes import MultinomialNB\n",
    "nb = MultinomialNB()"
   ]
  },
  {
   "cell_type": "code",
   "execution_count": 740,
   "metadata": {},
   "outputs": [
    {
     "name": "stdout",
     "output_type": "stream",
     "text": [
      "CPU times: user 34.9 ms, sys: 16.8 ms, total: 51.8 ms\n",
      "Wall time: 52.2 ms\n"
     ]
    },
    {
     "data": {
      "text/plain": [
       "MultinomialNB(alpha=1.0, class_prior=None, fit_prior=True)"
      ]
     },
     "execution_count": 740,
     "metadata": {},
     "output_type": "execute_result"
    }
   ],
   "source": [
    "# train the model using X_train_dtm (timing it with an IPython \"magic command\")\n",
    "%time nb.fit(X_train_dtm, y_train)"
   ]
  },
  {
   "cell_type": "code",
   "execution_count": 741,
   "metadata": {},
   "outputs": [
    {
     "data": {
      "text/plain": [
       "array([ 2.,  0.,  2.,  2.,  1.,  1.,  2.,  0.,  1.,  1.,  0.,  1.,  2.,\n",
       "        2.,  1.,  0.,  0.,  1.,  0.,  2.,  1.,  1.,  2.,  2.,  2.,  2.,\n",
       "        2.,  2.,  2.,  2.,  2.,  1.,  0.,  0.,  1.,  2.,  2.,  0.,  1.,\n",
       "        2.,  1.,  0.,  1.,  0.,  0.,  2.,  1.,  1.,  0.,  2.,  2.,  0.,\n",
       "        1.,  1.,  2.,  0.,  1.,  0.,  2.,  0.,  1.,  2.,  2.,  0.,  1.,\n",
       "        0.,  1.,  0.,  1.,  2.,  1.,  2.,  1.,  2.,  2.,  2.,  1.,  2.,\n",
       "        2.,  0.,  1.,  2.,  0.,  2.,  2.,  2.,  2.,  2.,  0.,  0.,  1.,\n",
       "        0.,  2.,  0.,  0.,  1.,  0.,  1.,  0.,  1.,  1.,  2.,  2.,  1.,\n",
       "        1.,  1.,  2.,  2.,  2.,  1.,  2.,  1.,  2.,  0.,  1.,  2.,  1.,\n",
       "        2.,  1.,  0.,  2.,  1.,  1.,  2.,  0.,  2.,  2.,  2.,  1.,  2.,\n",
       "        2.,  1.,  1.,  0.,  1.,  0.,  1.,  2.,  2.,  2.,  2.,  1.,  0.,\n",
       "        2.,  2.,  2.,  2.,  2.,  2.,  1.,  0.,  0.,  2.,  0.,  0.,  1.,\n",
       "        1.,  1.,  0.,  1.,  2.,  2.,  0.,  2.,  0.,  1.,  1.,  0.,  1.,\n",
       "        2.,  1.,  1.,  0.,  2.,  2.,  0.,  1.,  0.,  2.,  2.,  0.,  1.,\n",
       "        2.,  1.,  1.,  0.,  0.,  1.,  1.,  2.,  0.,  2.,  1.,  1.,  1.,\n",
       "        0.,  0.,  1.,  1.,  1.,  0.,  0.,  0.,  0.,  2.,  1.,  0.,  2.,\n",
       "        2.,  2.,  2.,  0.,  2.,  2.,  0.,  1.,  1.,  0.,  1.,  1.,  2.,\n",
       "        0.,  2.,  1.,  2.,  0.,  1.,  1.,  0.,  0.,  2.,  2.,  0.,  1.,\n",
       "        2.,  2.,  1.,  0.,  2.,  0.,  0.,  2.,  0.,  1.,  2.,  2.,  0.,\n",
       "        1.,  1.,  2.,  1.,  0.,  1.,  2.,  1.,  0.,  0.,  0.,  2.,  1.,\n",
       "        0.,  0.,  1.,  2.,  2.,  2.,  1.,  1.,  0.,  0.,  2.,  1.,  2.,\n",
       "        2.,  1.,  2.,  0.,  2.,  1.,  0.,  1.,  2.])"
      ]
     },
     "execution_count": 741,
     "metadata": {},
     "output_type": "execute_result"
    }
   ],
   "source": [
    "# make class predictions for X_test_dtm\n",
    "y_pred_class_nb = nb.predict(X_test_dtm)\n",
    "y_pred_class_nb"
   ]
  },
  {
   "cell_type": "code",
   "execution_count": 742,
   "metadata": {},
   "outputs": [
    {
     "data": {
      "text/plain": [
       "282"
      ]
     },
     "execution_count": 742,
     "metadata": {},
     "output_type": "execute_result"
    }
   ],
   "source": [
    "# print the size of the y_pred\n",
    "y_pred_class_nb.size"
   ]
  },
  {
   "cell_type": "code",
   "execution_count": 743,
   "metadata": {},
   "outputs": [
    {
     "name": "stdout",
     "output_type": "stream",
     "text": [
      "Accuracy_nb = 0.982%\n"
     ]
    }
   ],
   "source": [
    "# calculate accuracy_nb of class predictions\n",
    "from sklearn import metrics\n",
    "accuracy_nb = metrics.accuracy_score(y_test, y_pred_class_nb)\n",
    "print(\"Accuracy_nb = %.3f%%\" % accuracy_nb)"
   ]
  },
  {
   "cell_type": "markdown",
   "metadata": {},
   "source": [
    "### NB Classification Error: classifier incorrect %?"
   ]
  },
  {
   "cell_type": "code",
   "execution_count": 744,
   "metadata": {},
   "outputs": [
    {
     "name": "stdout",
     "output_type": "stream",
     "text": [
      "Incorrect accuracy_nb = 0.018%\n"
     ]
    }
   ],
   "source": [
    "print('Incorrect accuracy_nb = %.3f%%' % (1 - accuracy_nb))"
   ]
  },
  {
   "cell_type": "code",
   "execution_count": 745,
   "metadata": {},
   "outputs": [
    {
     "data": {
      "text/plain": [
       "2.0    0.372340\n",
       "1.0    0.333333\n",
       "0.0    0.294326\n",
       "Name: Category_num, dtype: float64"
      ]
     },
     "execution_count": 745,
     "metadata": {},
     "output_type": "execute_result"
    }
   ],
   "source": [
    "# calculate null accuracy_nb (for multi-class classification problems)\n",
    "y_test.value_counts().head() / len(y_test)"
   ]
  },
  {
   "cell_type": "code",
   "execution_count": 746,
   "metadata": {},
   "outputs": [],
   "source": [
    "# I took this code form this API: https://github.com/scikit-learn/scikit-learn/blob/master/examples/model_selection/plot_confusion_matrix.py\n",
    "def plot_confusion_matrix(cm, classes,\n",
    "                          normalize=False,\n",
    "                          title='Confusion matrix',\n",
    "                          cmap=plt.cm.Purples):\n",
    "    \"\"\"\n",
    "    This function prints and plots the confusion matrix.\n",
    "    Normalization can be applied by setting `normalize=True`.\n",
    "    \"\"\"\n",
    "    if normalize:\n",
    "        cm = cm.astype('float') / cm.sum(axis=1)[:, np.newaxis]\n",
    "        print(\"Normalized confusion matrix\")\n",
    "    else:\n",
    "        print('Confusion matrix, without normalization')\n",
    "\n",
    "    plt.imshow(cm, interpolation='nearest', cmap=cmap)\n",
    "    plt.title(title)\n",
    "    plt.colorbar()\n",
    "    tick_marks = np.arange(len(classes))\n",
    "    plt.xticks(tick_marks, classes, rotation=45)\n",
    "    plt.yticks(tick_marks, classes)\n",
    "\n",
    "    fmt = '.2f' if normalize else 'd'\n",
    "    thresh = cm.max() / 2.\n",
    "    for i, j in itertools.product(range(cm.shape[0]), range(cm.shape[1])):\n",
    "        plt.text(j, i, format(cm[i, j], fmt),\n",
    "                 horizontalalignment=\"center\",\n",
    "                 color=\"white\" if cm[i, j] > thresh else \"black\")\n",
    "\n",
    "    plt.tight_layout()\n",
    "    plt.ylabel('True label')\n",
    "    plt.xlabel('Predicted label')"
   ]
  },
  {
   "cell_type": "markdown",
   "metadata": {},
   "source": [
    "### Confusion matrix MultinomialNB"
   ]
  },
  {
   "cell_type": "code",
   "execution_count": 747,
   "metadata": {},
   "outputs": [
    {
     "data": {
      "text/plain": [
       "array([[ 79,   1,   3],\n",
       "       [  1,  93,   0],\n",
       "       [  0,   0, 105]])"
      ]
     },
     "execution_count": 747,
     "metadata": {},
     "output_type": "execute_result"
    }
   ],
   "source": [
    "# print the confusion matrix\n",
    "cm_nb = metrics.confusion_matrix(y_test, y_pred_class_nb)\n",
    "cm_nb"
   ]
  },
  {
   "cell_type": "markdown",
   "metadata": {},
   "source": [
    "![image One](images/confusion_matrix_updated_1.png)"
   ]
  },
  {
   "cell_type": "code",
   "execution_count": 748,
   "metadata": {},
   "outputs": [],
   "source": [
    "# get the lables\n",
    "target_names = [lables[0], lables[1],lables[2]]"
   ]
  },
  {
   "cell_type": "code",
   "execution_count": 749,
   "metadata": {},
   "outputs": [
    {
     "name": "stdout",
     "output_type": "stream",
     "text": [
      "             precision    recall  f1-score   support\n",
      "\n",
      " technology       0.99      0.95      0.97        83\n",
      "   business       0.99      0.99      0.99        94\n",
      "      sport       0.97      1.00      0.99       105\n",
      "\n",
      "avg / total       0.98      0.98      0.98       282\n",
      "\n"
     ]
    }
   ],
   "source": [
    "from sklearn.metrics import classification_report\n",
    "target_names = [lables[0], lables[1],lables[2]]\n",
    "print(classification_report(y_test, y_pred_class_nb, target_names=target_names))"
   ]
  },
  {
   "cell_type": "markdown",
   "metadata": {},
   "source": [
    "# Analyse the Results Above:\n",
    "- We can see that we were able to predict most of the tags correctlly from the table.\n",
    "- ***For class 0 (technology)*** -> 79 out 83 were correcttly predicted. Only 4 were predicted wrong. 1 predicted as 1 (business) and 3 as 2 (sport).\n",
    "- ***For class 1 (business)*** -> 93 out 94 were correcttly predicted. Only 1 was predicted wrong. 1 predicted as 0 (technology).\n",
    "- ***For class 2 (sport)*** -> 105 out 105 were correcttly predicted."
   ]
  },
  {
   "cell_type": "code",
   "execution_count": 750,
   "metadata": {},
   "outputs": [
    {
     "name": "stdout",
     "output_type": "stream",
     "text": [
      "Confusion matrix, without normalization\n"
     ]
    },
    {
     "data": {
      "image/png": "[encoded data removed]",
      "text/plain": [
       "<matplotlib.figure.Figure at 0x1a15855eb8>"
      ]
     },
     "metadata": {},
     "output_type": "display_data"
    }
   ],
   "source": [
    "# plot non-normalized confusion matrix\n",
    "plot_confusion_matrix(cm_nb, lables, title='Confusion matrix, without normalization')"
   ]
  },
  {
   "cell_type": "code",
   "execution_count": 751,
   "metadata": {},
   "outputs": [
    {
     "name": "stdout",
     "output_type": "stream",
     "text": [
      "Normalized confusion matrix\n"
     ]
    },
    {
     "data": {
      "image/png": "[encoded data removed]",
      "text/plain": [
       "<matplotlib.figure.Figure at 0x1a2f08a630>"
      ]
     },
     "metadata": {},
     "output_type": "display_data"
    }
   ],
   "source": [
    "# normalized confusion matrix\n",
    "plot_confusion_matrix(cm_nb, lables, normalize=True, title='Confusion matrix, with normalization')"
   ]
  },
  {
   "cell_type": "markdown",
   "metadata": {},
   "source": [
    "# Analyse Results Above:\n",
    "1. We can see that we were able to "
   ]
  },
  {
   "cell_type": "code",
   "execution_count": 752,
   "metadata": {},
   "outputs": [
    {
     "data": {
      "text/plain": [
       "1369    \\nReport: Benitez delight after crucial win\\n\\...\n",
       "866     \\n\\nSix years ago, Intercom invented business ...\n",
       "777     \\n\\nCould Half-Life 2 possibly live up to the ...\n",
       "1366    \\nPlayers sought for $1m prize\\n\\nUK gamers ar...\n",
       "Name: Body, dtype: object"
      ]
     },
     "execution_count": 752,
     "metadata": {},
     "output_type": "execute_result"
    }
   ],
   "source": [
    "# print message text for the false positives\n",
    "X_test[y_test < y_pred_class_nb]"
   ]
  },
  {
   "cell_type": "code",
   "execution_count": 753,
   "metadata": {},
   "outputs": [
    {
     "data": {
      "text/plain": [
       "529    \\nMaking your office work for you\\n\\nOur missi...\n",
       "Name: Body, dtype: object"
      ]
     },
     "execution_count": 753,
     "metadata": {},
     "output_type": "execute_result"
    }
   ],
   "source": [
    "# print message text for the false negatives\n",
    "X_test[y_test > y_pred_class_nb]"
   ]
  },
  {
   "cell_type": "markdown",
   "metadata": {},
   "source": [
    "### Labels meaning:\n",
    "we assigned each category a value:\n",
    "+ 0 => technology.\n",
    "+ 1 => business.\n",
    "+ 2 => sport."
   ]
  },
  {
   "cell_type": "code",
   "execution_count": 754,
   "metadata": {},
   "outputs": [
    {
     "data": {
      "text/plain": [
       "['technology', 'business', 'sport']"
      ]
     },
     "execution_count": 754,
     "metadata": {},
     "output_type": "execute_result"
    }
   ],
   "source": [
    "lables"
   ]
  },
  {
   "cell_type": "code",
   "execution_count": 755,
   "metadata": {},
   "outputs": [
    {
     "data": {
      "text/plain": [
       "1112    2.0\n",
       "1256    0.0\n",
       "177     2.0\n",
       "101     2.0\n",
       "1037    1.0\n",
       "616     1.0\n",
       "767     2.0\n",
       "546     0.0\n",
       "1163    1.0\n",
       "283     1.0\n",
       "Name: Category_num, dtype: float64"
      ]
     },
     "execution_count": 755,
     "metadata": {},
     "output_type": "execute_result"
    }
   ],
   "source": [
    "y_test[:10]"
   ]
  },
  {
   "cell_type": "code",
   "execution_count": 756,
   "metadata": {},
   "outputs": [
    {
     "data": {
      "text/plain": [
       "array([ 2.,  0.,  2.,  2.,  1.,  1.,  2.,  0.,  1.,  1.,  0.,  1.,  2.,\n",
       "        2.,  1.,  0.,  0.,  1.,  0.,  2.,  1.,  1.,  2.,  2.,  2.,  2.,\n",
       "        2.,  2.,  2.,  2.,  2.,  1.,  0.,  0.,  1.,  2.,  2.,  0.,  1.,\n",
       "        2.,  1.,  0.,  1.,  0.,  0.,  2.,  1.,  1.,  0.,  2.,  2.,  0.,\n",
       "        1.,  1.,  2.,  0.,  1.,  0.,  2.,  0.,  1.,  2.,  2.,  0.,  1.,\n",
       "        0.,  1.,  0.,  1.,  2.,  1.,  2.,  1.,  2.,  2.,  2.,  1.,  2.,\n",
       "        2.,  0.,  1.,  2.,  0.,  2.,  2.,  2.,  2.,  2.,  0.,  0.,  1.,\n",
       "        0.,  2.,  0.,  0.,  1.,  0.,  1.,  0.,  1.,  1.,  2.,  2.,  1.,\n",
       "        1.,  1.,  2.,  2.,  2.,  1.,  2.,  1.,  2.,  0.,  1.,  2.,  1.,\n",
       "        2.,  1.,  0.,  2.,  1.,  1.,  2.,  0.,  2.,  2.,  2.,  1.,  2.,\n",
       "        2.,  1.,  1.,  0.,  1.,  0.,  1.,  2.,  2.,  2.,  2.,  1.,  0.,\n",
       "        2.,  2.,  2.,  2.,  2.,  2.,  1.,  0.,  0.,  2.,  0.,  0.,  1.,\n",
       "        1.,  1.,  0.,  1.,  2.,  2.,  0.,  2.,  0.,  1.,  1.,  0.,  1.,\n",
       "        2.,  1.,  1.,  0.,  2.,  2.,  0.,  1.,  0.,  2.,  2.,  0.,  1.,\n",
       "        2.,  1.,  1.,  0.,  0.,  1.,  1.,  2.,  0.,  2.,  1.,  1.,  1.,\n",
       "        0.,  0.,  1.,  1.,  1.,  0.,  0.,  0.,  0.,  2.,  1.,  0.,  2.,\n",
       "        2.,  2.,  2.,  0.,  2.,  2.,  0.,  1.,  1.,  0.,  1.,  1.,  2.,\n",
       "        0.,  2.,  1.,  2.,  0.,  1.,  1.,  0.,  0.,  2.,  2.,  0.,  1.,\n",
       "        2.,  2.,  1.,  0.,  2.,  0.,  0.,  2.,  0.,  1.,  2.,  2.,  0.,\n",
       "        1.,  1.,  2.,  1.,  0.,  1.,  2.,  1.,  0.,  0.,  0.,  2.,  1.,\n",
       "        0.,  0.,  1.,  2.,  2.,  2.,  1.,  1.,  0.,  0.,  2.,  1.,  2.,\n",
       "        2.,  1.,  2.,  0.,  2.,  1.,  0.,  1.,  2.])"
      ]
     },
     "execution_count": 756,
     "metadata": {},
     "output_type": "execute_result"
    }
   ],
   "source": [
    "y_pred_class_nb"
   ]
  },
  {
   "cell_type": "markdown",
   "metadata": {},
   "source": [
    "# Sample test:"
   ]
  },
  {
   "cell_type": "code",
   "execution_count": 757,
   "metadata": {},
   "outputs": [
    {
     "data": {
      "text/html": [
       "<div>\n",
       "<style>\n",
       "    .dataframe thead tr:only-child th {\n",
       "        text-align: right;\n",
       "    }\n",
       "\n",
       "    .dataframe thead th {\n",
       "        text-align: left;\n",
       "    }\n",
       "\n",
       "    .dataframe tbody tr th {\n",
       "        vertical-align: top;\n",
       "    }\n",
       "</style>\n",
       "<table border=\"1\" class=\"dataframe\">\n",
       "  <thead>\n",
       "    <tr style=\"text-align: right;\">\n",
       "      <th></th>\n",
       "      <th>Category</th>\n",
       "      <th>Titile</th>\n",
       "      <th>Body</th>\n",
       "      <th>Category_num</th>\n",
       "    </tr>\n",
       "  </thead>\n",
       "  <tbody>\n",
       "    <tr>\n",
       "      <th>1112</th>\n",
       "      <td>sport</td>\n",
       "      <td>Leeds v Saracens (Fri)</td>\n",
       "      <td>\\nLeeds v Saracens (Fri)\\n\\nHeadingley\\n\\nFrid...</td>\n",
       "      <td>2.0</td>\n",
       "    </tr>\n",
       "  </tbody>\n",
       "</table>\n",
       "</div>"
      ],
      "text/plain": [
       "     Category                  Titile  \\\n",
       "1112    sport  Leeds v Saracens (Fri)   \n",
       "\n",
       "                                                   Body  Category_num  \n",
       "1112  \\nLeeds v Saracens (Fri)\\n\\nHeadingley\\n\\nFrid...           2.0  "
      ]
     },
     "execution_count": 757,
     "metadata": {},
     "output_type": "execute_result"
    }
   ],
   "source": [
    "merged_df[1112:1113]"
   ]
  },
  {
   "cell_type": "markdown",
   "metadata": {},
   "source": [
    "### Create a df with y_pred_class_nb and X_test"
   ]
  },
  {
   "cell_type": "code",
   "execution_count": 758,
   "metadata": {},
   "outputs": [],
   "source": [
    "X_test_df = X_test.to_frame()\n",
    "y_pred_class_df_nb = pd.DataFrame({'Predicted Category': y_pred_class_nb,\n",
    "                   \"Body\":  X_test})"
   ]
  },
  {
   "cell_type": "code",
   "execution_count": 759,
   "metadata": {},
   "outputs": [
    {
     "data": {
      "text/html": [
       "<div>\n",
       "<style>\n",
       "    .dataframe thead tr:only-child th {\n",
       "        text-align: right;\n",
       "    }\n",
       "\n",
       "    .dataframe thead th {\n",
       "        text-align: left;\n",
       "    }\n",
       "\n",
       "    .dataframe tbody tr th {\n",
       "        vertical-align: top;\n",
       "    }\n",
       "</style>\n",
       "<table border=\"1\" class=\"dataframe\">\n",
       "  <thead>\n",
       "    <tr style=\"text-align: right;\">\n",
       "      <th></th>\n",
       "      <th>Body</th>\n",
       "      <th>Predicted Category</th>\n",
       "    </tr>\n",
       "  </thead>\n",
       "  <tbody>\n",
       "    <tr>\n",
       "      <th>1112</th>\n",
       "      <td>\\nLeeds v Saracens (Fri)\\n\\nHeadingley\\n\\nFrid...</td>\n",
       "      <td>2.0</td>\n",
       "    </tr>\n",
       "    <tr>\n",
       "      <th>1256</th>\n",
       "      <td>\\n\\nThe Online News's online search engine was...</td>\n",
       "      <td>0.0</td>\n",
       "    </tr>\n",
       "    <tr>\n",
       "      <th>177</th>\n",
       "      <td>\\n\\nJuninho's agent has confirmed that the pla...</td>\n",
       "      <td>2.0</td>\n",
       "    </tr>\n",
       "    <tr>\n",
       "      <th>101</th>\n",
       "      <td>\\nSports Stock Tips\\n\\nSports stocks are the b...</td>\n",
       "      <td>2.0</td>\n",
       "    </tr>\n",
       "    <tr>\n",
       "      <th>1037</th>\n",
       "      <td>\\n\\nUK house prices dipped slightly in Novembe...</td>\n",
       "      <td>1.0</td>\n",
       "    </tr>\n",
       "  </tbody>\n",
       "</table>\n",
       "</div>"
      ],
      "text/plain": [
       "                                                   Body  Predicted Category\n",
       "1112  \\nLeeds v Saracens (Fri)\\n\\nHeadingley\\n\\nFrid...                 2.0\n",
       "1256  \\n\\nThe Online News's online search engine was...                 0.0\n",
       "177   \\n\\nJuninho's agent has confirmed that the pla...                 2.0\n",
       "101   \\nSports Stock Tips\\n\\nSports stocks are the b...                 2.0\n",
       "1037  \\n\\nUK house prices dipped slightly in Novembe...                 1.0"
      ]
     },
     "execution_count": 759,
     "metadata": {},
     "output_type": "execute_result"
    }
   ],
   "source": [
    "y_pred_class_df_nb.head()"
   ]
  },
  {
   "cell_type": "markdown",
   "metadata": {},
   "source": [
    "### Test the Category prediction for NB"
   ]
  },
  {
   "cell_type": "code",
   "execution_count": 760,
   "metadata": {},
   "outputs": [
    {
     "data": {
      "text/html": [
       "<div>\n",
       "<style>\n",
       "    .dataframe thead tr:only-child th {\n",
       "        text-align: right;\n",
       "    }\n",
       "\n",
       "    .dataframe thead th {\n",
       "        text-align: left;\n",
       "    }\n",
       "\n",
       "    .dataframe tbody tr th {\n",
       "        vertical-align: top;\n",
       "    }\n",
       "</style>\n",
       "<table border=\"1\" class=\"dataframe\">\n",
       "  <thead>\n",
       "    <tr style=\"text-align: right;\">\n",
       "      <th></th>\n",
       "      <th>Category</th>\n",
       "      <th>Titile</th>\n",
       "      <th>Body</th>\n",
       "      <th>Category_num</th>\n",
       "      <th>Body</th>\n",
       "      <th>Predicted Category</th>\n",
       "    </tr>\n",
       "  </thead>\n",
       "  <tbody>\n",
       "    <tr>\n",
       "      <th>3</th>\n",
       "      <td>business</td>\n",
       "      <td>Barclays shares up on merger talk</td>\n",
       "      <td>\\nBarclays shares up on merger talk\\n\\nShares ...</td>\n",
       "      <td>1.0</td>\n",
       "      <td>\\nBarclays shares up on merger talk\\n\\nShares ...</td>\n",
       "      <td>1.0</td>\n",
       "    </tr>\n",
       "    <tr>\n",
       "      <th>12</th>\n",
       "      <td>business</td>\n",
       "      <td>Bush to get 'tough' on deficit</td>\n",
       "      <td>\\nBush to get 'tough' on deficit\\n\\nUS preside...</td>\n",
       "      <td>1.0</td>\n",
       "      <td>\\nBush to get 'tough' on deficit\\n\\nUS preside...</td>\n",
       "      <td>1.0</td>\n",
       "    </tr>\n",
       "    <tr>\n",
       "      <th>19</th>\n",
       "      <td>sport</td>\n",
       "      <td>Charvis set to lose fitness bid</td>\n",
       "      <td>\\n\\nFlanker Colin Charvis is unlikely to play ...</td>\n",
       "      <td>2.0</td>\n",
       "      <td>\\n\\nFlanker Colin Charvis is unlikely to play ...</td>\n",
       "      <td>2.0</td>\n",
       "    </tr>\n",
       "    <tr>\n",
       "      <th>37</th>\n",
       "      <td>business</td>\n",
       "      <td>Fannie Mae 'should restate books'</td>\n",
       "      <td>\\n\\nUS mortgage company Fannie Mae should rest...</td>\n",
       "      <td>1.0</td>\n",
       "      <td>\\n\\nUS mortgage company Fannie Mae should rest...</td>\n",
       "      <td>1.0</td>\n",
       "    </tr>\n",
       "    <tr>\n",
       "      <th>47</th>\n",
       "      <td>technology</td>\n",
       "      <td>Gangsters dominate gaming chart</td>\n",
       "      <td>\\n\\nVideo games on consoles and computers prov...</td>\n",
       "      <td>0.0</td>\n",
       "      <td>\\n\\nVideo games on consoles and computers prov...</td>\n",
       "      <td>0.0</td>\n",
       "    </tr>\n",
       "    <tr>\n",
       "      <th>48</th>\n",
       "      <td>sport</td>\n",
       "      <td>Gardener wins double in Glasgow</td>\n",
       "      <td>\\nGardener wins double in Glasgow\\n\\nBritain's...</td>\n",
       "      <td>2.0</td>\n",
       "      <td>\\nGardener wins double in Glasgow\\n\\nBritain's...</td>\n",
       "      <td>2.0</td>\n",
       "    </tr>\n",
       "    <tr>\n",
       "      <th>49</th>\n",
       "      <td>business</td>\n",
       "      <td>Gazprom 'in $36m back-tax claim'</td>\n",
       "      <td>\\n\\nThe nuclear unit of Russian energy giant G...</td>\n",
       "      <td>1.0</td>\n",
       "      <td>\\n\\nThe nuclear unit of Russian energy giant G...</td>\n",
       "      <td>1.0</td>\n",
       "    </tr>\n",
       "    <tr>\n",
       "      <th>51</th>\n",
       "      <td>business</td>\n",
       "      <td>Germany calls for EU reform</td>\n",
       "      <td>\\nGermany calls for EU reform\\n\\nGerman Chance...</td>\n",
       "      <td>1.0</td>\n",
       "      <td>\\nGermany calls for EU reform\\n\\nGerman Chance...</td>\n",
       "      <td>1.0</td>\n",
       "    </tr>\n",
       "    <tr>\n",
       "      <th>56</th>\n",
       "      <td>sport</td>\n",
       "      <td>Henman decides to quit Davis Cup</td>\n",
       "      <td>\\nHenman decides to quit Davis Cup\\n\\nTim Henm...</td>\n",
       "      <td>2.0</td>\n",
       "      <td>\\nHenman decides to quit Davis Cup\\n\\nTim Henm...</td>\n",
       "      <td>2.0</td>\n",
       "    </tr>\n",
       "    <tr>\n",
       "      <th>58</th>\n",
       "      <td>sport</td>\n",
       "      <td>Hodgson shoulders England blame</td>\n",
       "      <td>\\n\\nFly-half Charlie Hodgson admitted his wayw...</td>\n",
       "      <td>2.0</td>\n",
       "      <td>\\n\\nFly-half Charlie Hodgson admitted his wayw...</td>\n",
       "      <td>2.0</td>\n",
       "    </tr>\n",
       "    <tr>\n",
       "      <th>60</th>\n",
       "      <td>sport</td>\n",
       "      <td>Holmes secures comeback victory</td>\n",
       "      <td>\\nHolmes secures comeback victory\\n\\nBritain's...</td>\n",
       "      <td>2.0</td>\n",
       "      <td>\\nHolmes secures comeback victory\\n\\nBritain's...</td>\n",
       "      <td>2.0</td>\n",
       "    </tr>\n",
       "    <tr>\n",
       "      <th>65</th>\n",
       "      <td>sport</td>\n",
       "      <td>Jansen suffers a further setback</td>\n",
       "      <td>\\nJansen suffers a further setback\\n\\nBlackbur...</td>\n",
       "      <td>2.0</td>\n",
       "      <td>\\nJansen suffers a further setback\\n\\nBlackbur...</td>\n",
       "      <td>2.0</td>\n",
       "    </tr>\n",
       "    <tr>\n",
       "      <th>73</th>\n",
       "      <td>technology</td>\n",
       "      <td>Mobile games come of age</td>\n",
       "      <td>\\n\\nThe Online News News website takes a look ...</td>\n",
       "      <td>0.0</td>\n",
       "      <td>\\n\\nThe Online News News website takes a look ...</td>\n",
       "      <td>0.0</td>\n",
       "    </tr>\n",
       "    <tr>\n",
       "      <th>75</th>\n",
       "      <td>sport</td>\n",
       "      <td>Mourinho sends out warning shot</td>\n",
       "      <td>\\n\\nChelsea boss Jose Mourinho believes his te...</td>\n",
       "      <td>2.0</td>\n",
       "      <td>\\n\\nChelsea boss Jose Mourinho believes his te...</td>\n",
       "      <td>2.0</td>\n",
       "    </tr>\n",
       "    <tr>\n",
       "      <th>80</th>\n",
       "      <td>sport</td>\n",
       "      <td>Off-colour Gardener storms to win</td>\n",
       "      <td>\\n\\nBritain's Jason Gardener shook off an upse...</td>\n",
       "      <td>2.0</td>\n",
       "      <td>\\n\\nBritain's Jason Gardener shook off an upse...</td>\n",
       "      <td>2.0</td>\n",
       "    </tr>\n",
       "    <tr>\n",
       "      <th>81</th>\n",
       "      <td>business</td>\n",
       "      <td>Oil companies get Russian setback</td>\n",
       "      <td>\\n\\nInternational oil and mining companies hav...</td>\n",
       "      <td>1.0</td>\n",
       "      <td>\\n\\nInternational oil and mining companies hav...</td>\n",
       "      <td>1.0</td>\n",
       "    </tr>\n",
       "    <tr>\n",
       "      <th>87</th>\n",
       "      <td>technology</td>\n",
       "      <td>Remote control rifle range debuts</td>\n",
       "      <td>\\nRemote control rifle range debuts\\n\\nSoon yo...</td>\n",
       "      <td>0.0</td>\n",
       "      <td>\\nRemote control rifle range debuts\\n\\nSoon yo...</td>\n",
       "      <td>0.0</td>\n",
       "    </tr>\n",
       "    <tr>\n",
       "      <th>88</th>\n",
       "      <td>sport</td>\n",
       "      <td>Robinson ready for difficult task</td>\n",
       "      <td>\\n\\nEngland coach Andy Robinson faces the firs...</td>\n",
       "      <td>2.0</td>\n",
       "      <td>\\n\\nEngland coach Andy Robinson faces the firs...</td>\n",
       "      <td>2.0</td>\n",
       "    </tr>\n",
       "    <tr>\n",
       "      <th>91</th>\n",
       "      <td>business</td>\n",
       "      <td>S Korean lender faces liquidation</td>\n",
       "      <td>\\nS Korean lender faces liquidation\\n\\nCredito...</td>\n",
       "      <td>1.0</td>\n",
       "      <td>\\nS Korean lender faces liquidation\\n\\nCredito...</td>\n",
       "      <td>1.0</td>\n",
       "    </tr>\n",
       "    <tr>\n",
       "      <th>94</th>\n",
       "      <td>sport</td>\n",
       "      <td>Safin plays down Wimbledon hopes</td>\n",
       "      <td>\\n\\nNewly-crowned Australian Open champion Mar...</td>\n",
       "      <td>2.0</td>\n",
       "      <td>\\n\\nNewly-crowned Australian Open champion Mar...</td>\n",
       "      <td>2.0</td>\n",
       "    </tr>\n",
       "    <tr>\n",
       "      <th>98</th>\n",
       "      <td>business</td>\n",
       "      <td>Senior Fannie Mae bosses resign</td>\n",
       "      <td>\\n\\nThe two most senior executives at US mortg...</td>\n",
       "      <td>1.0</td>\n",
       "      <td>\\n\\nThe two most senior executives at US mortg...</td>\n",
       "      <td>1.0</td>\n",
       "    </tr>\n",
       "    <tr>\n",
       "      <th>101</th>\n",
       "      <td>sport</td>\n",
       "      <td>Sports Stock Tips</td>\n",
       "      <td>\\nSports Stock Tips\\n\\nSports stocks are the b...</td>\n",
       "      <td>2.0</td>\n",
       "      <td>\\nSports Stock Tips\\n\\nSports stocks are the b...</td>\n",
       "      <td>2.0</td>\n",
       "    </tr>\n",
       "    <tr>\n",
       "      <th>107</th>\n",
       "      <td>technology</td>\n",
       "      <td>US peer-to-peer pirates convicted</td>\n",
       "      <td>\\nUS peer-to-peer pirates convicted\\n\\nThe fir...</td>\n",
       "      <td>0.0</td>\n",
       "      <td>\\nUS peer-to-peer pirates convicted\\n\\nThe fir...</td>\n",
       "      <td>0.0</td>\n",
       "    </tr>\n",
       "    <tr>\n",
       "      <th>108</th>\n",
       "      <td>technology</td>\n",
       "      <td>US top of supercomputing charts</td>\n",
       "      <td>\\n\\nThe US has pushed Japan off the top of the...</td>\n",
       "      <td>0.0</td>\n",
       "      <td>\\n\\nThe US has pushed Japan off the top of the...</td>\n",
       "      <td>0.0</td>\n",
       "    </tr>\n",
       "    <tr>\n",
       "      <th>111</th>\n",
       "      <td>sport</td>\n",
       "      <td>Williams says he will never quit</td>\n",
       "      <td>\\n\\nDefiant Matt Williams says he will not qui...</td>\n",
       "      <td>2.0</td>\n",
       "      <td>\\n\\nDefiant Matt Williams says he will not qui...</td>\n",
       "      <td>2.0</td>\n",
       "    </tr>\n",
       "    <tr>\n",
       "      <th>115</th>\n",
       "      <td>technology</td>\n",
       "      <td>Xbox power cable 'fire fear'</td>\n",
       "      <td>\\nXbox power cable 'fire fear'\\n\\nMicrosoft ha...</td>\n",
       "      <td>0.0</td>\n",
       "      <td>\\nXbox power cable 'fire fear'\\n\\nMicrosoft ha...</td>\n",
       "      <td>0.0</td>\n",
       "    </tr>\n",
       "    <tr>\n",
       "      <th>119</th>\n",
       "      <td>sport</td>\n",
       "      <td>A November to remember</td>\n",
       "      <td>\\nA November to remember\\n\\nLast Saturday, one...</td>\n",
       "      <td>2.0</td>\n",
       "      <td>\\nA November to remember\\n\\nLast Saturday, one...</td>\n",
       "      <td>2.0</td>\n",
       "    </tr>\n",
       "    <tr>\n",
       "      <th>120</th>\n",
       "      <td>technology</td>\n",
       "      <td>A question of trust and technology</td>\n",
       "      <td>\\nA question of trust and technology\\n\\nA majo...</td>\n",
       "      <td>0.0</td>\n",
       "      <td>\\nA question of trust and technology\\n\\nA majo...</td>\n",
       "      <td>0.0</td>\n",
       "    </tr>\n",
       "    <tr>\n",
       "      <th>131</th>\n",
       "      <td>technology</td>\n",
       "      <td>Blogs take on the mainstream</td>\n",
       "      <td>\\nBlogs take on the mainstream\\n\\nWeb logs or ...</td>\n",
       "      <td>0.0</td>\n",
       "      <td>\\nBlogs take on the mainstream\\n\\nWeb logs or ...</td>\n",
       "      <td>0.0</td>\n",
       "    </tr>\n",
       "    <tr>\n",
       "      <th>133</th>\n",
       "      <td>business</td>\n",
       "      <td>Bush to outline 'toughest' budget</td>\n",
       "      <td>\\n\\nPresident Bush is to send his toughest bud...</td>\n",
       "      <td>1.0</td>\n",
       "      <td>\\n\\nPresident Bush is to send his toughest bud...</td>\n",
       "      <td>1.0</td>\n",
       "    </tr>\n",
       "    <tr>\n",
       "      <th>...</th>\n",
       "      <td>...</td>\n",
       "      <td>...</td>\n",
       "      <td>...</td>\n",
       "      <td>...</td>\n",
       "      <td>...</td>\n",
       "      <td>...</td>\n",
       "    </tr>\n",
       "    <tr>\n",
       "      <th>1232</th>\n",
       "      <td>business</td>\n",
       "      <td>IMF 'cuts' German growth estimate</td>\n",
       "      <td>\\nIMF 'cuts' German growth estimate\\n\\nThe Int...</td>\n",
       "      <td>1.0</td>\n",
       "      <td>\\nIMF 'cuts' German growth estimate\\n\\nThe Int...</td>\n",
       "      <td>1.0</td>\n",
       "    </tr>\n",
       "    <tr>\n",
       "      <th>1233</th>\n",
       "      <td>business</td>\n",
       "      <td>Indonesians face fuel price rise</td>\n",
       "      <td>\\n\\nIndonesia's government has confirmed it is...</td>\n",
       "      <td>1.0</td>\n",
       "      <td>\\n\\nIndonesia's government has confirmed it is...</td>\n",
       "      <td>1.0</td>\n",
       "    </tr>\n",
       "    <tr>\n",
       "      <th>1241</th>\n",
       "      <td>technology</td>\n",
       "      <td>Junk e-mails on relentless rise</td>\n",
       "      <td>\\nJunk e-mails on relentless rise\\n\\nSpam traf...</td>\n",
       "      <td>0.0</td>\n",
       "      <td>\\nJunk e-mails on relentless rise\\n\\nSpam traf...</td>\n",
       "      <td>0.0</td>\n",
       "    </tr>\n",
       "    <tr>\n",
       "      <th>1251</th>\n",
       "      <td>sport</td>\n",
       "      <td>Mourinho defiant on Chelsea form</td>\n",
       "      <td>\\nMourinho defiant on Chelsea form\\n\\nChelsea ...</td>\n",
       "      <td>2.0</td>\n",
       "      <td>\\nMourinho defiant on Chelsea form\\n\\nChelsea ...</td>\n",
       "      <td>2.0</td>\n",
       "    </tr>\n",
       "    <tr>\n",
       "      <th>1256</th>\n",
       "      <td>technology</td>\n",
       "      <td>Online News web search aids odd queries</td>\n",
       "      <td>\\n\\nThe Online News's online search engine was...</td>\n",
       "      <td>0.0</td>\n",
       "      <td>\\n\\nThe Online News's online search engine was...</td>\n",
       "      <td>0.0</td>\n",
       "    </tr>\n",
       "    <tr>\n",
       "      <th>1280</th>\n",
       "      <td>technology</td>\n",
       "      <td>Toxic web links help virus spread</td>\n",
       "      <td>\\n\\nVirus writers have begun using the power o...</td>\n",
       "      <td>0.0</td>\n",
       "      <td>\\n\\nVirus writers have begun using the power o...</td>\n",
       "      <td>0.0</td>\n",
       "    </tr>\n",
       "    <tr>\n",
       "      <th>1286</th>\n",
       "      <td>business</td>\n",
       "      <td>US to probe airline travel chaos</td>\n",
       "      <td>\\nUS to probe airline travel chaos\\n\\nThe US g...</td>\n",
       "      <td>1.0</td>\n",
       "      <td>\\nUS to probe airline travel chaos\\n\\nThe US g...</td>\n",
       "      <td>1.0</td>\n",
       "    </tr>\n",
       "    <tr>\n",
       "      <th>1291</th>\n",
       "      <td>technology</td>\n",
       "      <td>Windows worm travels with Tetris</td>\n",
       "      <td>\\nWindows worm travels with Tetris\\n\\nUsers ar...</td>\n",
       "      <td>0.0</td>\n",
       "      <td>\\nWindows worm travels with Tetris\\n\\nUsers ar...</td>\n",
       "      <td>0.0</td>\n",
       "    </tr>\n",
       "    <tr>\n",
       "      <th>1293</th>\n",
       "      <td>business</td>\n",
       "      <td>Worldcom ex-boss launches defence</td>\n",
       "      <td>\\n\\nLawyers defending former WorldCom chief Be...</td>\n",
       "      <td>1.0</td>\n",
       "      <td>\\n\\nLawyers defending former WorldCom chief Be...</td>\n",
       "      <td>1.0</td>\n",
       "    </tr>\n",
       "    <tr>\n",
       "      <th>1295</th>\n",
       "      <td>business</td>\n",
       "      <td>Absa and Barclays talks continue</td>\n",
       "      <td>\\n\\nSouth Africa biggest retail bank Absa has ...</td>\n",
       "      <td>1.0</td>\n",
       "      <td>\\n\\nSouth Africa biggest retail bank Absa has ...</td>\n",
       "      <td>1.0</td>\n",
       "    </tr>\n",
       "    <tr>\n",
       "      <th>1301</th>\n",
       "      <td>sport</td>\n",
       "      <td>Barbarians 19-47 New Zealand</td>\n",
       "      <td>\\n\\nNew Zealand proved too strong for an Austr...</td>\n",
       "      <td>2.0</td>\n",
       "      <td>\\n\\nNew Zealand proved too strong for an Austr...</td>\n",
       "      <td>2.0</td>\n",
       "    </tr>\n",
       "    <tr>\n",
       "      <th>1302</th>\n",
       "      <td>sport</td>\n",
       "      <td>Big guns ease through in San Jose</td>\n",
       "      <td>\\n\\nTop-seeded Americans Andy Roddick and Andr...</td>\n",
       "      <td>2.0</td>\n",
       "      <td>\\n\\nTop-seeded Americans Andy Roddick and Andr...</td>\n",
       "      <td>2.0</td>\n",
       "    </tr>\n",
       "    <tr>\n",
       "      <th>1313</th>\n",
       "      <td>sport</td>\n",
       "      <td>D'Arcy injury adds to Ireland woe</td>\n",
       "      <td>\\n\\nGordon D'Arcy has been ruled out of the Ir...</td>\n",
       "      <td>2.0</td>\n",
       "      <td>\\n\\nGordon D'Arcy has been ruled out of the Ir...</td>\n",
       "      <td>2.0</td>\n",
       "    </tr>\n",
       "    <tr>\n",
       "      <th>1325</th>\n",
       "      <td>business</td>\n",
       "      <td>France Telecom gets Orange boost</td>\n",
       "      <td>\\n\\nStrong growth in subscriptions to mobile p...</td>\n",
       "      <td>1.0</td>\n",
       "      <td>\\n\\nStrong growth in subscriptions to mobile p...</td>\n",
       "      <td>1.0</td>\n",
       "    </tr>\n",
       "    <tr>\n",
       "      <th>1329</th>\n",
       "      <td>technology</td>\n",
       "      <td>Gizmondo gadget hits the shelves</td>\n",
       "      <td>\\nGizmondo gadget hits the shelves\\n\\nThe Gizm...</td>\n",
       "      <td>0.0</td>\n",
       "      <td>\\nGizmondo gadget hits the shelves\\n\\nThe Gizm...</td>\n",
       "      <td>0.0</td>\n",
       "    </tr>\n",
       "    <tr>\n",
       "      <th>1331</th>\n",
       "      <td>technology</td>\n",
       "      <td>Global digital divide 'narrowing'</td>\n",
       "      <td>\\nGlobal digital divide 'narrowing'\\n\\nThe \"di...</td>\n",
       "      <td>0.0</td>\n",
       "      <td>\\nGlobal digital divide 'narrowing'\\n\\nThe \"di...</td>\n",
       "      <td>0.0</td>\n",
       "    </tr>\n",
       "    <tr>\n",
       "      <th>1333</th>\n",
       "      <td>sport</td>\n",
       "      <td>Hamm bows out for US</td>\n",
       "      <td>\\n\\nWomen's football legend Mia Hamm has playe...</td>\n",
       "      <td>2.0</td>\n",
       "      <td>\\n\\nWomen's football legend Mia Hamm has playe...</td>\n",
       "      <td>2.0</td>\n",
       "    </tr>\n",
       "    <tr>\n",
       "      <th>1341</th>\n",
       "      <td>business</td>\n",
       "      <td>Irish markets reach all-time high</td>\n",
       "      <td>\\n\\nIrish shares have risen to a record high, ...</td>\n",
       "      <td>1.0</td>\n",
       "      <td>\\n\\nIrish shares have risen to a record high, ...</td>\n",
       "      <td>1.0</td>\n",
       "    </tr>\n",
       "    <tr>\n",
       "      <th>1353</th>\n",
       "      <td>technology</td>\n",
       "      <td>Microsoft plans 'safer ID' system</td>\n",
       "      <td>\\n\\nMicrosoft is planning to make Windows and ...</td>\n",
       "      <td>0.0</td>\n",
       "      <td>\\n\\nMicrosoft is planning to make Windows and ...</td>\n",
       "      <td>0.0</td>\n",
       "    </tr>\n",
       "    <tr>\n",
       "      <th>1357</th>\n",
       "      <td>sport</td>\n",
       "      <td>Moya fights back for Indian title</td>\n",
       "      <td>\\n\\nCarlos Moya became the first man to succes...</td>\n",
       "      <td>2.0</td>\n",
       "      <td>\\n\\nCarlos Moya became the first man to succes...</td>\n",
       "      <td>2.0</td>\n",
       "    </tr>\n",
       "    <tr>\n",
       "      <th>1359</th>\n",
       "      <td>sport</td>\n",
       "      <td>Munster Cup tie switched to Spain</td>\n",
       "      <td>\\nMunster Cup tie switched to Spain\\n\\nMunster...</td>\n",
       "      <td>2.0</td>\n",
       "      <td>\\nMunster Cup tie switched to Spain\\n\\nMunster...</td>\n",
       "      <td>2.0</td>\n",
       "    </tr>\n",
       "    <tr>\n",
       "      <th>1366</th>\n",
       "      <td>technology</td>\n",
       "      <td>Players sought for $1m prize</td>\n",
       "      <td>\\nPlayers sought for $1m prize\\n\\nUK gamers ar...</td>\n",
       "      <td>0.0</td>\n",
       "      <td>\\nPlayers sought for $1m prize\\n\\nUK gamers ar...</td>\n",
       "      <td>2.0</td>\n",
       "    </tr>\n",
       "    <tr>\n",
       "      <th>1367</th>\n",
       "      <td>sport</td>\n",
       "      <td>QPR keeper Day heads for Preston</td>\n",
       "      <td>\\nQPR keeper Day heads for Preston\\n\\nQueens P...</td>\n",
       "      <td>2.0</td>\n",
       "      <td>\\nQPR keeper Day heads for Preston\\n\\nQueens P...</td>\n",
       "      <td>2.0</td>\n",
       "    </tr>\n",
       "    <tr>\n",
       "      <th>1368</th>\n",
       "      <td>business</td>\n",
       "      <td>Renault boss hails 'great year'</td>\n",
       "      <td>\\n\\nStrong sales outside western Europe helped...</td>\n",
       "      <td>1.0</td>\n",
       "      <td>\\n\\nStrong sales outside western Europe helped...</td>\n",
       "      <td>1.0</td>\n",
       "    </tr>\n",
       "    <tr>\n",
       "      <th>1369</th>\n",
       "      <td>technology</td>\n",
       "      <td>Report: Benitez delight after crucial win</td>\n",
       "      <td>\\nReport: Benitez delight after crucial win\\n\\...</td>\n",
       "      <td>0.0</td>\n",
       "      <td>\\nReport: Benitez delight after crucial win\\n\\...</td>\n",
       "      <td>2.0</td>\n",
       "    </tr>\n",
       "    <tr>\n",
       "      <th>1370</th>\n",
       "      <td>technology</td>\n",
       "      <td>Rings of steel combat net attacks</td>\n",
       "      <td>\\nRings of steel combat net attacks\\n\\nGamblin...</td>\n",
       "      <td>0.0</td>\n",
       "      <td>\\nRings of steel combat net attacks\\n\\nGamblin...</td>\n",
       "      <td>0.0</td>\n",
       "    </tr>\n",
       "    <tr>\n",
       "      <th>1378</th>\n",
       "      <td>technology</td>\n",
       "      <td>Sony PSP tipped as a 'must-have'</td>\n",
       "      <td>\\nSony PSP tipped as a 'must-have'\\n\\nSony's P...</td>\n",
       "      <td>0.0</td>\n",
       "      <td>\\nSony PSP tipped as a 'must-have'\\n\\nSony's P...</td>\n",
       "      <td>0.0</td>\n",
       "    </tr>\n",
       "    <tr>\n",
       "      <th>1380</th>\n",
       "      <td>technology</td>\n",
       "      <td>T-Mobile bets on 'pocket office'</td>\n",
       "      <td>\\n\\nT-Mobile has launched its latest \"pocket o...</td>\n",
       "      <td>0.0</td>\n",
       "      <td>\\n\\nT-Mobile has launched its latest \"pocket o...</td>\n",
       "      <td>0.0</td>\n",
       "    </tr>\n",
       "    <tr>\n",
       "      <th>1386</th>\n",
       "      <td>technology</td>\n",
       "      <td>UK gets official virus alert site</td>\n",
       "      <td>\\n\\nA rapid alerting service that tells home c...</td>\n",
       "      <td>0.0</td>\n",
       "      <td>\\n\\nA rapid alerting service that tells home c...</td>\n",
       "      <td>0.0</td>\n",
       "    </tr>\n",
       "    <tr>\n",
       "      <th>1388</th>\n",
       "      <td>business</td>\n",
       "      <td>US company admits Benin bribery</td>\n",
       "      <td>\\n\\nA US defence and telecommunications compan...</td>\n",
       "      <td>1.0</td>\n",
       "      <td>\\n\\nA US defence and telecommunications compan...</td>\n",
       "      <td>1.0</td>\n",
       "    </tr>\n",
       "  </tbody>\n",
       "</table>\n",
       "<p>282 rows × 6 columns</p>\n",
       "</div>"
      ],
      "text/plain": [
       "        Category                                     Titile  \\\n",
       "3       business          Barclays shares up on merger talk   \n",
       "12      business             Bush to get 'tough' on deficit   \n",
       "19         sport            Charvis set to lose fitness bid   \n",
       "37      business          Fannie Mae 'should restate books'   \n",
       "47    technology            Gangsters dominate gaming chart   \n",
       "48         sport            Gardener wins double in Glasgow   \n",
       "49      business           Gazprom 'in $36m back-tax claim'   \n",
       "51      business                Germany calls for EU reform   \n",
       "56         sport           Henman decides to quit Davis Cup   \n",
       "58         sport            Hodgson shoulders England blame   \n",
       "60         sport            Holmes secures comeback victory   \n",
       "65         sport           Jansen suffers a further setback   \n",
       "73    technology                   Mobile games come of age   \n",
       "75         sport            Mourinho sends out warning shot   \n",
       "80         sport          Off-colour Gardener storms to win   \n",
       "81      business          Oil companies get Russian setback   \n",
       "87    technology          Remote control rifle range debuts   \n",
       "88         sport          Robinson ready for difficult task   \n",
       "91      business          S Korean lender faces liquidation   \n",
       "94         sport           Safin plays down Wimbledon hopes   \n",
       "98      business            Senior Fannie Mae bosses resign   \n",
       "101        sport                          Sports Stock Tips   \n",
       "107   technology          US peer-to-peer pirates convicted   \n",
       "108   technology            US top of supercomputing charts   \n",
       "111        sport           Williams says he will never quit   \n",
       "115   technology               Xbox power cable 'fire fear'   \n",
       "119        sport                     A November to remember   \n",
       "120   technology         A question of trust and technology   \n",
       "131   technology               Blogs take on the mainstream   \n",
       "133     business          Bush to outline 'toughest' budget   \n",
       "...          ...                                        ...   \n",
       "1232    business          IMF 'cuts' German growth estimate   \n",
       "1233    business           Indonesians face fuel price rise   \n",
       "1241  technology            Junk e-mails on relentless rise   \n",
       "1251       sport           Mourinho defiant on Chelsea form   \n",
       "1256  technology    Online News web search aids odd queries   \n",
       "1280  technology          Toxic web links help virus spread   \n",
       "1286    business           US to probe airline travel chaos   \n",
       "1291  technology           Windows worm travels with Tetris   \n",
       "1293    business          Worldcom ex-boss launches defence   \n",
       "1295    business           Absa and Barclays talks continue   \n",
       "1301       sport               Barbarians 19-47 New Zealand   \n",
       "1302       sport          Big guns ease through in San Jose   \n",
       "1313       sport          D'Arcy injury adds to Ireland woe   \n",
       "1325    business           France Telecom gets Orange boost   \n",
       "1329  technology           Gizmondo gadget hits the shelves   \n",
       "1331  technology          Global digital divide 'narrowing'   \n",
       "1333       sport                       Hamm bows out for US   \n",
       "1341    business          Irish markets reach all-time high   \n",
       "1353  technology          Microsoft plans 'safer ID' system   \n",
       "1357       sport          Moya fights back for Indian title   \n",
       "1359       sport          Munster Cup tie switched to Spain   \n",
       "1366  technology               Players sought for $1m prize   \n",
       "1367       sport           QPR keeper Day heads for Preston   \n",
       "1368    business            Renault boss hails 'great year'   \n",
       "1369  technology  Report: Benitez delight after crucial win   \n",
       "1370  technology          Rings of steel combat net attacks   \n",
       "1378  technology           Sony PSP tipped as a 'must-have'   \n",
       "1380  technology           T-Mobile bets on 'pocket office'   \n",
       "1386  technology          UK gets official virus alert site   \n",
       "1388    business            US company admits Benin bribery   \n",
       "\n",
       "                                                   Body  Category_num  \\\n",
       "3     \\nBarclays shares up on merger talk\\n\\nShares ...           1.0   \n",
       "12    \\nBush to get 'tough' on deficit\\n\\nUS preside...           1.0   \n",
       "19    \\n\\nFlanker Colin Charvis is unlikely to play ...           2.0   \n",
       "37    \\n\\nUS mortgage company Fannie Mae should rest...           1.0   \n",
       "47    \\n\\nVideo games on consoles and computers prov...           0.0   \n",
       "48    \\nGardener wins double in Glasgow\\n\\nBritain's...           2.0   \n",
       "49    \\n\\nThe nuclear unit of Russian energy giant G...           1.0   \n",
       "51    \\nGermany calls for EU reform\\n\\nGerman Chance...           1.0   \n",
       "56    \\nHenman decides to quit Davis Cup\\n\\nTim Henm...           2.0   \n",
       "58    \\n\\nFly-half Charlie Hodgson admitted his wayw...           2.0   \n",
       "60    \\nHolmes secures comeback victory\\n\\nBritain's...           2.0   \n",
       "65    \\nJansen suffers a further setback\\n\\nBlackbur...           2.0   \n",
       "73    \\n\\nThe Online News News website takes a look ...           0.0   \n",
       "75    \\n\\nChelsea boss Jose Mourinho believes his te...           2.0   \n",
       "80    \\n\\nBritain's Jason Gardener shook off an upse...           2.0   \n",
       "81    \\n\\nInternational oil and mining companies hav...           1.0   \n",
       "87    \\nRemote control rifle range debuts\\n\\nSoon yo...           0.0   \n",
       "88    \\n\\nEngland coach Andy Robinson faces the firs...           2.0   \n",
       "91    \\nS Korean lender faces liquidation\\n\\nCredito...           1.0   \n",
       "94    \\n\\nNewly-crowned Australian Open champion Mar...           2.0   \n",
       "98    \\n\\nThe two most senior executives at US mortg...           1.0   \n",
       "101   \\nSports Stock Tips\\n\\nSports stocks are the b...           2.0   \n",
       "107   \\nUS peer-to-peer pirates convicted\\n\\nThe fir...           0.0   \n",
       "108   \\n\\nThe US has pushed Japan off the top of the...           0.0   \n",
       "111   \\n\\nDefiant Matt Williams says he will not qui...           2.0   \n",
       "115   \\nXbox power cable 'fire fear'\\n\\nMicrosoft ha...           0.0   \n",
       "119   \\nA November to remember\\n\\nLast Saturday, one...           2.0   \n",
       "120   \\nA question of trust and technology\\n\\nA majo...           0.0   \n",
       "131   \\nBlogs take on the mainstream\\n\\nWeb logs or ...           0.0   \n",
       "133   \\n\\nPresident Bush is to send his toughest bud...           1.0   \n",
       "...                                                 ...           ...   \n",
       "1232  \\nIMF 'cuts' German growth estimate\\n\\nThe Int...           1.0   \n",
       "1233  \\n\\nIndonesia's government has confirmed it is...           1.0   \n",
       "1241  \\nJunk e-mails on relentless rise\\n\\nSpam traf...           0.0   \n",
       "1251  \\nMourinho defiant on Chelsea form\\n\\nChelsea ...           2.0   \n",
       "1256  \\n\\nThe Online News's online search engine was...           0.0   \n",
       "1280  \\n\\nVirus writers have begun using the power o...           0.0   \n",
       "1286  \\nUS to probe airline travel chaos\\n\\nThe US g...           1.0   \n",
       "1291  \\nWindows worm travels with Tetris\\n\\nUsers ar...           0.0   \n",
       "1293  \\n\\nLawyers defending former WorldCom chief Be...           1.0   \n",
       "1295  \\n\\nSouth Africa biggest retail bank Absa has ...           1.0   \n",
       "1301  \\n\\nNew Zealand proved too strong for an Austr...           2.0   \n",
       "1302  \\n\\nTop-seeded Americans Andy Roddick and Andr...           2.0   \n",
       "1313  \\n\\nGordon D'Arcy has been ruled out of the Ir...           2.0   \n",
       "1325  \\n\\nStrong growth in subscriptions to mobile p...           1.0   \n",
       "1329  \\nGizmondo gadget hits the shelves\\n\\nThe Gizm...           0.0   \n",
       "1331  \\nGlobal digital divide 'narrowing'\\n\\nThe \"di...           0.0   \n",
       "1333  \\n\\nWomen's football legend Mia Hamm has playe...           2.0   \n",
       "1341  \\n\\nIrish shares have risen to a record high, ...           1.0   \n",
       "1353  \\n\\nMicrosoft is planning to make Windows and ...           0.0   \n",
       "1357  \\n\\nCarlos Moya became the first man to succes...           2.0   \n",
       "1359  \\nMunster Cup tie switched to Spain\\n\\nMunster...           2.0   \n",
       "1366  \\nPlayers sought for $1m prize\\n\\nUK gamers ar...           0.0   \n",
       "1367  \\nQPR keeper Day heads for Preston\\n\\nQueens P...           2.0   \n",
       "1368  \\n\\nStrong sales outside western Europe helped...           1.0   \n",
       "1369  \\nReport: Benitez delight after crucial win\\n\\...           0.0   \n",
       "1370  \\nRings of steel combat net attacks\\n\\nGamblin...           0.0   \n",
       "1378  \\nSony PSP tipped as a 'must-have'\\n\\nSony's P...           0.0   \n",
       "1380  \\n\\nT-Mobile has launched its latest \"pocket o...           0.0   \n",
       "1386  \\n\\nA rapid alerting service that tells home c...           0.0   \n",
       "1388  \\n\\nA US defence and telecommunications compan...           1.0   \n",
       "\n",
       "                                                   Body  Predicted Category  \n",
       "3     \\nBarclays shares up on merger talk\\n\\nShares ...                 1.0  \n",
       "12    \\nBush to get 'tough' on deficit\\n\\nUS preside...                 1.0  \n",
       "19    \\n\\nFlanker Colin Charvis is unlikely to play ...                 2.0  \n",
       "37    \\n\\nUS mortgage company Fannie Mae should rest...                 1.0  \n",
       "47    \\n\\nVideo games on consoles and computers prov...                 0.0  \n",
       "48    \\nGardener wins double in Glasgow\\n\\nBritain's...                 2.0  \n",
       "49    \\n\\nThe nuclear unit of Russian energy giant G...                 1.0  \n",
       "51    \\nGermany calls for EU reform\\n\\nGerman Chance...                 1.0  \n",
       "56    \\nHenman decides to quit Davis Cup\\n\\nTim Henm...                 2.0  \n",
       "58    \\n\\nFly-half Charlie Hodgson admitted his wayw...                 2.0  \n",
       "60    \\nHolmes secures comeback victory\\n\\nBritain's...                 2.0  \n",
       "65    \\nJansen suffers a further setback\\n\\nBlackbur...                 2.0  \n",
       "73    \\n\\nThe Online News News website takes a look ...                 0.0  \n",
       "75    \\n\\nChelsea boss Jose Mourinho believes his te...                 2.0  \n",
       "80    \\n\\nBritain's Jason Gardener shook off an upse...                 2.0  \n",
       "81    \\n\\nInternational oil and mining companies hav...                 1.0  \n",
       "87    \\nRemote control rifle range debuts\\n\\nSoon yo...                 0.0  \n",
       "88    \\n\\nEngland coach Andy Robinson faces the firs...                 2.0  \n",
       "91    \\nS Korean lender faces liquidation\\n\\nCredito...                 1.0  \n",
       "94    \\n\\nNewly-crowned Australian Open champion Mar...                 2.0  \n",
       "98    \\n\\nThe two most senior executives at US mortg...                 1.0  \n",
       "101   \\nSports Stock Tips\\n\\nSports stocks are the b...                 2.0  \n",
       "107   \\nUS peer-to-peer pirates convicted\\n\\nThe fir...                 0.0  \n",
       "108   \\n\\nThe US has pushed Japan off the top of the...                 0.0  \n",
       "111   \\n\\nDefiant Matt Williams says he will not qui...                 2.0  \n",
       "115   \\nXbox power cable 'fire fear'\\n\\nMicrosoft ha...                 0.0  \n",
       "119   \\nA November to remember\\n\\nLast Saturday, one...                 2.0  \n",
       "120   \\nA question of trust and technology\\n\\nA majo...                 0.0  \n",
       "131   \\nBlogs take on the mainstream\\n\\nWeb logs or ...                 0.0  \n",
       "133   \\n\\nPresident Bush is to send his toughest bud...                 1.0  \n",
       "...                                                 ...                 ...  \n",
       "1232  \\nIMF 'cuts' German growth estimate\\n\\nThe Int...                 1.0  \n",
       "1233  \\n\\nIndonesia's government has confirmed it is...                 1.0  \n",
       "1241  \\nJunk e-mails on relentless rise\\n\\nSpam traf...                 0.0  \n",
       "1251  \\nMourinho defiant on Chelsea form\\n\\nChelsea ...                 2.0  \n",
       "1256  \\n\\nThe Online News's online search engine was...                 0.0  \n",
       "1280  \\n\\nVirus writers have begun using the power o...                 0.0  \n",
       "1286  \\nUS to probe airline travel chaos\\n\\nThe US g...                 1.0  \n",
       "1291  \\nWindows worm travels with Tetris\\n\\nUsers ar...                 0.0  \n",
       "1293  \\n\\nLawyers defending former WorldCom chief Be...                 1.0  \n",
       "1295  \\n\\nSouth Africa biggest retail bank Absa has ...                 1.0  \n",
       "1301  \\n\\nNew Zealand proved too strong for an Austr...                 2.0  \n",
       "1302  \\n\\nTop-seeded Americans Andy Roddick and Andr...                 2.0  \n",
       "1313  \\n\\nGordon D'Arcy has been ruled out of the Ir...                 2.0  \n",
       "1325  \\n\\nStrong growth in subscriptions to mobile p...                 1.0  \n",
       "1329  \\nGizmondo gadget hits the shelves\\n\\nThe Gizm...                 0.0  \n",
       "1331  \\nGlobal digital divide 'narrowing'\\n\\nThe \"di...                 0.0  \n",
       "1333  \\n\\nWomen's football legend Mia Hamm has playe...                 2.0  \n",
       "1341  \\n\\nIrish shares have risen to a record high, ...                 1.0  \n",
       "1353  \\n\\nMicrosoft is planning to make Windows and ...                 0.0  \n",
       "1357  \\n\\nCarlos Moya became the first man to succes...                 2.0  \n",
       "1359  \\nMunster Cup tie switched to Spain\\n\\nMunster...                 2.0  \n",
       "1366  \\nPlayers sought for $1m prize\\n\\nUK gamers ar...                 2.0  \n",
       "1367  \\nQPR keeper Day heads for Preston\\n\\nQueens P...                 2.0  \n",
       "1368  \\n\\nStrong sales outside western Europe helped...                 1.0  \n",
       "1369  \\nReport: Benitez delight after crucial win\\n\\...                 2.0  \n",
       "1370  \\nRings of steel combat net attacks\\n\\nGamblin...                 0.0  \n",
       "1378  \\nSony PSP tipped as a 'must-have'\\n\\nSony's P...                 0.0  \n",
       "1380  \\n\\nT-Mobile has launched its latest \"pocket o...                 0.0  \n",
       "1386  \\n\\nA rapid alerting service that tells home c...                 0.0  \n",
       "1388  \\n\\nA US defence and telecommunications compan...                 1.0  \n",
       "\n",
       "[282 rows x 6 columns]"
      ]
     },
     "execution_count": 760,
     "metadata": {},
     "output_type": "execute_result"
    }
   ],
   "source": [
    "# merge thme for readiblity\n",
    "overAll_pred_class_df_nb = pd.concat([merged_df, y_pred_class_df_nb], axis=1)\n",
    "# Drop NaN values\n",
    "overAll_pred_class_df_nb = overAll_pred_class_df_nb.dropna(axis=0,how='any')\n",
    "overAll_pred_class_df_nb"
   ]
  },
  {
   "cell_type": "markdown",
   "metadata": {},
   "source": [
    "### Full content of the article"
   ]
  },
  {
   "cell_type": "code",
   "execution_count": 761,
   "metadata": {},
   "outputs": [
    {
     "data": {
      "text/plain": [
       "array(['sport', 'Leeds v Saracens (Fri)',\n",
       "       \"\\nLeeds v Saracens (Fri)\\n\\nHeadingley\\n\\nFriday, 25 February\\n\\n2000 GMT\\n\\nThe Tykes have brought in Newcastle prop Ed Kalman and Tom McGee from the Borders on loan while fly-half Craig McMullen has joined from Narbonne. Raphael Ibanez is named at hooker for Saracens in one of four changes. Simon Raiwalui and Ben Russell are also selected in the pack while Kevin Sorrell comes in at outside centre.\\n\\n- Friday's game at Headingley got the go-ahead on Friday after passing an early pitch inspection. Leeds: Balshaw; Rees, Christophers, Bell, Doherty; McMullen, Dickens; McGee, Rawlinson, Gerber; Murphy, Palmer (capt), Morgan, Parks, Popham. Replacements: Kalman, Regan, Hyde, Rigney, McMillan, Rock, Vickerman. Saracens: Bartholomeusz; Castaignede, Sorrell, Harris, Vaikona; Jackson, Bracken; Yates, Ibanez, Visagie; Raiwalui, Fullarton; Randell, Russell, Vyvyan (capt). Replacements: Cairns, Lloyd, Broster, Chesney, Johnston, Rauluni, Little.\",\n",
       "       2.0], dtype=object)"
      ]
     },
     "execution_count": 761,
     "metadata": {},
     "output_type": "execute_result"
    }
   ],
   "source": [
    "merged_df_index = merged_df.as_matrix()\n",
    "merged_df_index[1112]"
   ]
  },
  {
   "cell_type": "code",
   "execution_count": 762,
   "metadata": {},
   "outputs": [
    {
     "data": {
      "text/plain": [
       "array([ 0.13597069,  0.14699416,  0.04177381,  0.17840968,  0.93623811,\n",
       "        0.76684104,  0.03832146,  0.0628393 ,  0.7258362 ,  0.91379836])"
      ]
     },
     "execution_count": 762,
     "metadata": {},
     "output_type": "execute_result"
    }
   ],
   "source": [
    "# calculate predicted probabilities for X_test_dtm (poorly calibrated)\n",
    "y_pred_prob = nb.predict_proba(X_test_dtm)[:, 1]\n",
    "y_pred_prob[:10]"
   ]
  },
  {
   "cell_type": "markdown",
   "metadata": {},
   "source": [
    "# ++++++++++++++++++++++++++++++++++++++++++++++++++++++"
   ]
  },
  {
   "cell_type": "markdown",
   "metadata": {},
   "source": [
    "# Comparing models"
   ]
  },
  {
   "cell_type": "code",
   "execution_count": 763,
   "metadata": {},
   "outputs": [],
   "source": [
    "# import and instantiate a logistic regression model\n",
    "from sklearn.linear_model import LogisticRegression\n",
    "from sklearn.neighbors  import KNeighborsClassifier\n",
    "# logreg = LogisticRegression()\n",
    "knn = KNeighborsClassifier(n_neighbors=len(lables))"
   ]
  },
  {
   "cell_type": "code",
   "execution_count": 764,
   "metadata": {},
   "outputs": [
    {
     "name": "stdout",
     "output_type": "stream",
     "text": [
      "CPU times: user 4.47 ms, sys: 2.54 ms, total: 7.02 ms\n",
      "Wall time: 5.17 ms\n"
     ]
    },
    {
     "data": {
      "text/plain": [
       "KNeighborsClassifier(algorithm='auto', leaf_size=30, metric='minkowski',\n",
       "           metric_params=None, n_jobs=1, n_neighbors=3, p=2,\n",
       "           weights='uniform')"
      ]
     },
     "execution_count": 764,
     "metadata": {},
     "output_type": "execute_result"
    }
   ],
   "source": [
    "# train the model using X_train_dtm\n",
    "%time knn.fit(X_train_dtm, y_train)"
   ]
  },
  {
   "cell_type": "code",
   "execution_count": 765,
   "metadata": {},
   "outputs": [],
   "source": [
    "# make class predictions for X_test_dtm\n",
    "y_pred_class_knn = knn.predict(X_test_dtm)"
   ]
  },
  {
   "cell_type": "code",
   "execution_count": 766,
   "metadata": {},
   "outputs": [
    {
     "data": {
      "text/plain": [
       "array([ 0.,  0.,  0.,  0.,  1.,  1.,  0.,  0.,  1.,  1.])"
      ]
     },
     "execution_count": 766,
     "metadata": {},
     "output_type": "execute_result"
    }
   ],
   "source": [
    "# calculate predicted probabilities for X_test_dtm (well calibrated)\n",
    "y_pred_prob = knn.predict_proba(X_test_dtm)[:, 1]\n",
    "y_pred_prob[:10]"
   ]
  },
  {
   "cell_type": "code",
   "execution_count": 767,
   "metadata": {},
   "outputs": [
    {
     "name": "stdout",
     "output_type": "stream",
     "text": [
      "Accuracy = 0.950%\n"
     ]
    }
   ],
   "source": [
    "# calculate accuracy_knn\n",
    "accuracy_knn = metrics.accuracy_score(y_test, y_pred_class_knn)\n",
    "print(\"Accuracy = %.3f%%\" % accuracy_knn)"
   ]
  },
  {
   "cell_type": "code",
   "execution_count": 768,
   "metadata": {},
   "outputs": [
    {
     "name": "stdout",
     "output_type": "stream",
     "text": [
      "Incorrect Accuracy = 0.050%\n"
     ]
    }
   ],
   "source": [
    "print('Incorrect Accuracy = %.3f%%' % (1 - accuracy_knn))"
   ]
  },
  {
   "cell_type": "markdown",
   "metadata": {},
   "source": [
    "### KNN Classification Error: classifier incorrect %?"
   ]
  },
  {
   "cell_type": "code",
   "execution_count": 769,
   "metadata": {},
   "outputs": [
    {
     "data": {
      "text/plain": [
       "2.0    0.372340\n",
       "1.0    0.333333\n",
       "0.0    0.294326\n",
       "Name: Category_num, dtype: float64"
      ]
     },
     "execution_count": 769,
     "metadata": {},
     "output_type": "execute_result"
    }
   ],
   "source": [
    "# calculate null accuracy_nb (for multi-class classification problems)\n",
    "y_test.value_counts().head() / len(y_test)"
   ]
  },
  {
   "cell_type": "code",
   "execution_count": 770,
   "metadata": {},
   "outputs": [
    {
     "data": {
      "text/plain": [
       "array([[ 78,   4,   1],\n",
       "       [  6,  87,   1],\n",
       "       [  1,   1, 103]])"
      ]
     },
     "execution_count": 770,
     "metadata": {},
     "output_type": "execute_result"
    }
   ],
   "source": [
    "# print the confusion matrix\n",
    "cm_knn = metrics.confusion_matrix(y_test, y_pred_class_knn)\n",
    "cm_knn"
   ]
  },
  {
   "cell_type": "markdown",
   "metadata": {},
   "source": [
    "### Confusion matrix KNeighborsClassifier\n",
    "![confusion matrix](images/confusion_matrix_updated_2.png)"
   ]
  },
  {
   "cell_type": "code",
   "execution_count": 771,
   "metadata": {},
   "outputs": [
    {
     "name": "stdout",
     "output_type": "stream",
     "text": [
      "             precision    recall  f1-score   support\n",
      "\n",
      " technology       0.92      0.94      0.93        83\n",
      "   business       0.95      0.93      0.94        94\n",
      "      sport       0.98      0.98      0.98       105\n",
      "\n",
      "avg / total       0.95      0.95      0.95       282\n",
      "\n"
     ]
    }
   ],
   "source": [
    "print(classification_report(y_test, y_pred_class_knn, target_names=target_names))"
   ]
  },
  {
   "cell_type": "markdown",
   "metadata": {},
   "source": [
    "# Analyse the Results Above:\n",
    "- We can see that we were able to predict most of the tags correctlly from the table.\n",
    "- ***For class 0 (technology)*** -> 78 out 83 were correcttly predicted. Only 5 were predicted wrong. 4 predicted as 1 (business) and 1 as 2 (sport).\n",
    "- ***For class 1 (business)*** -> 87 out 94 were correcttly predicted. Only 7 were predicted wrong. 6 predicted as 0 (technology) and 1 as 2 (sport).\n",
    "- ***For class 2 (sport)*** -> 103 out 105 were correcttly predicted. Only 2 were predicted wrong. 1 predicted as 0 (technology) and 1 as 1 (business)."
   ]
  },
  {
   "cell_type": "code",
   "execution_count": 772,
   "metadata": {},
   "outputs": [
    {
     "name": "stdout",
     "output_type": "stream",
     "text": [
      "Confusion matrix, without normalization\n"
     ]
    },
    {
     "data": {
      "image/png": "[encoded data removed]",
      "text/plain": [
       "<matplotlib.figure.Figure at 0x1a31496748>"
      ]
     },
     "metadata": {},
     "output_type": "display_data"
    }
   ],
   "source": [
    "# Plot non-normalized confusion matrix\n",
    "plot_confusion_matrix(cm_knn, lables, title='Confusion matrix, without normalization')"
   ]
  },
  {
   "cell_type": "code",
   "execution_count": 773,
   "metadata": {},
   "outputs": [
    {
     "name": "stdout",
     "output_type": "stream",
     "text": [
      "Normalized confusion matrix\n"
     ]
    },
    {
     "data": {
      "image/png": "[encoded data removed]",
      "text/plain": [
       "<matplotlib.figure.Figure at 0x1a2e130f98>"
      ]
     },
     "metadata": {},
     "output_type": "display_data"
    }
   ],
   "source": [
    "# plot normalized confusion matrix\n",
    "plot_confusion_matrix(cm_knn, lables, normalize=True, title='Confusion matrix, with normalization')"
   ]
  },
  {
   "cell_type": "code",
   "execution_count": 774,
   "metadata": {},
   "outputs": [],
   "source": [
    "y_pred_class_df_knn = pd.DataFrame({'Predicted Category': y_pred_class_knn,\n",
    "                   \"Body\":  X_test})"
   ]
  },
  {
   "cell_type": "code",
   "execution_count": 775,
   "metadata": {},
   "outputs": [
    {
     "data": {
      "text/html": [
       "<div>\n",
       "<style>\n",
       "    .dataframe thead tr:only-child th {\n",
       "        text-align: right;\n",
       "    }\n",
       "\n",
       "    .dataframe thead th {\n",
       "        text-align: left;\n",
       "    }\n",
       "\n",
       "    .dataframe tbody tr th {\n",
       "        vertical-align: top;\n",
       "    }\n",
       "</style>\n",
       "<table border=\"1\" class=\"dataframe\">\n",
       "  <thead>\n",
       "    <tr style=\"text-align: right;\">\n",
       "      <th></th>\n",
       "      <th>Body</th>\n",
       "      <th>Predicted Category</th>\n",
       "    </tr>\n",
       "  </thead>\n",
       "  <tbody>\n",
       "    <tr>\n",
       "      <th>1112</th>\n",
       "      <td>\\nLeeds v Saracens (Fri)\\n\\nHeadingley\\n\\nFrid...</td>\n",
       "      <td>2.0</td>\n",
       "    </tr>\n",
       "    <tr>\n",
       "      <th>1256</th>\n",
       "      <td>\\n\\nThe Online News's online search engine was...</td>\n",
       "      <td>0.0</td>\n",
       "    </tr>\n",
       "    <tr>\n",
       "      <th>177</th>\n",
       "      <td>\\n\\nJuninho's agent has confirmed that the pla...</td>\n",
       "      <td>2.0</td>\n",
       "    </tr>\n",
       "    <tr>\n",
       "      <th>101</th>\n",
       "      <td>\\nSports Stock Tips\\n\\nSports stocks are the b...</td>\n",
       "      <td>2.0</td>\n",
       "    </tr>\n",
       "    <tr>\n",
       "      <th>1037</th>\n",
       "      <td>\\n\\nUK house prices dipped slightly in Novembe...</td>\n",
       "      <td>1.0</td>\n",
       "    </tr>\n",
       "  </tbody>\n",
       "</table>\n",
       "</div>"
      ],
      "text/plain": [
       "                                                   Body  Predicted Category\n",
       "1112  \\nLeeds v Saracens (Fri)\\n\\nHeadingley\\n\\nFrid...                 2.0\n",
       "1256  \\n\\nThe Online News's online search engine was...                 0.0\n",
       "177   \\n\\nJuninho's agent has confirmed that the pla...                 2.0\n",
       "101   \\nSports Stock Tips\\n\\nSports stocks are the b...                 2.0\n",
       "1037  \\n\\nUK house prices dipped slightly in Novembe...                 1.0"
      ]
     },
     "execution_count": 775,
     "metadata": {},
     "output_type": "execute_result"
    }
   ],
   "source": [
    "y_pred_class_df_nb.head()"
   ]
  },
  {
   "cell_type": "markdown",
   "metadata": {},
   "source": [
    "### Test the Category prediction for KNN"
   ]
  },
  {
   "cell_type": "code",
   "execution_count": 776,
   "metadata": {},
   "outputs": [
    {
     "data": {
      "text/html": [
       "<div>\n",
       "<style>\n",
       "    .dataframe thead tr:only-child th {\n",
       "        text-align: right;\n",
       "    }\n",
       "\n",
       "    .dataframe thead th {\n",
       "        text-align: left;\n",
       "    }\n",
       "\n",
       "    .dataframe tbody tr th {\n",
       "        vertical-align: top;\n",
       "    }\n",
       "</style>\n",
       "<table border=\"1\" class=\"dataframe\">\n",
       "  <thead>\n",
       "    <tr style=\"text-align: right;\">\n",
       "      <th></th>\n",
       "      <th>Category</th>\n",
       "      <th>Titile</th>\n",
       "      <th>Body</th>\n",
       "      <th>Category_num</th>\n",
       "      <th>Body</th>\n",
       "      <th>Predicted Category</th>\n",
       "    </tr>\n",
       "  </thead>\n",
       "  <tbody>\n",
       "    <tr>\n",
       "      <th>3</th>\n",
       "      <td>business</td>\n",
       "      <td>Barclays shares up on merger talk</td>\n",
       "      <td>\\nBarclays shares up on merger talk\\n\\nShares ...</td>\n",
       "      <td>1.0</td>\n",
       "      <td>\\nBarclays shares up on merger talk\\n\\nShares ...</td>\n",
       "      <td>1.0</td>\n",
       "    </tr>\n",
       "    <tr>\n",
       "      <th>12</th>\n",
       "      <td>business</td>\n",
       "      <td>Bush to get 'tough' on deficit</td>\n",
       "      <td>\\nBush to get 'tough' on deficit\\n\\nUS preside...</td>\n",
       "      <td>1.0</td>\n",
       "      <td>\\nBush to get 'tough' on deficit\\n\\nUS preside...</td>\n",
       "      <td>1.0</td>\n",
       "    </tr>\n",
       "    <tr>\n",
       "      <th>19</th>\n",
       "      <td>sport</td>\n",
       "      <td>Charvis set to lose fitness bid</td>\n",
       "      <td>\\n\\nFlanker Colin Charvis is unlikely to play ...</td>\n",
       "      <td>2.0</td>\n",
       "      <td>\\n\\nFlanker Colin Charvis is unlikely to play ...</td>\n",
       "      <td>2.0</td>\n",
       "    </tr>\n",
       "    <tr>\n",
       "      <th>37</th>\n",
       "      <td>business</td>\n",
       "      <td>Fannie Mae 'should restate books'</td>\n",
       "      <td>\\n\\nUS mortgage company Fannie Mae should rest...</td>\n",
       "      <td>1.0</td>\n",
       "      <td>\\n\\nUS mortgage company Fannie Mae should rest...</td>\n",
       "      <td>0.0</td>\n",
       "    </tr>\n",
       "    <tr>\n",
       "      <th>47</th>\n",
       "      <td>technology</td>\n",
       "      <td>Gangsters dominate gaming chart</td>\n",
       "      <td>\\n\\nVideo games on consoles and computers prov...</td>\n",
       "      <td>0.0</td>\n",
       "      <td>\\n\\nVideo games on consoles and computers prov...</td>\n",
       "      <td>0.0</td>\n",
       "    </tr>\n",
       "    <tr>\n",
       "      <th>48</th>\n",
       "      <td>sport</td>\n",
       "      <td>Gardener wins double in Glasgow</td>\n",
       "      <td>\\nGardener wins double in Glasgow\\n\\nBritain's...</td>\n",
       "      <td>2.0</td>\n",
       "      <td>\\nGardener wins double in Glasgow\\n\\nBritain's...</td>\n",
       "      <td>2.0</td>\n",
       "    </tr>\n",
       "    <tr>\n",
       "      <th>49</th>\n",
       "      <td>business</td>\n",
       "      <td>Gazprom 'in $36m back-tax claim'</td>\n",
       "      <td>\\n\\nThe nuclear unit of Russian energy giant G...</td>\n",
       "      <td>1.0</td>\n",
       "      <td>\\n\\nThe nuclear unit of Russian energy giant G...</td>\n",
       "      <td>1.0</td>\n",
       "    </tr>\n",
       "    <tr>\n",
       "      <th>51</th>\n",
       "      <td>business</td>\n",
       "      <td>Germany calls for EU reform</td>\n",
       "      <td>\\nGermany calls for EU reform\\n\\nGerman Chance...</td>\n",
       "      <td>1.0</td>\n",
       "      <td>\\nGermany calls for EU reform\\n\\nGerman Chance...</td>\n",
       "      <td>1.0</td>\n",
       "    </tr>\n",
       "    <tr>\n",
       "      <th>56</th>\n",
       "      <td>sport</td>\n",
       "      <td>Henman decides to quit Davis Cup</td>\n",
       "      <td>\\nHenman decides to quit Davis Cup\\n\\nTim Henm...</td>\n",
       "      <td>2.0</td>\n",
       "      <td>\\nHenman decides to quit Davis Cup\\n\\nTim Henm...</td>\n",
       "      <td>2.0</td>\n",
       "    </tr>\n",
       "    <tr>\n",
       "      <th>58</th>\n",
       "      <td>sport</td>\n",
       "      <td>Hodgson shoulders England blame</td>\n",
       "      <td>\\n\\nFly-half Charlie Hodgson admitted his wayw...</td>\n",
       "      <td>2.0</td>\n",
       "      <td>\\n\\nFly-half Charlie Hodgson admitted his wayw...</td>\n",
       "      <td>2.0</td>\n",
       "    </tr>\n",
       "    <tr>\n",
       "      <th>60</th>\n",
       "      <td>sport</td>\n",
       "      <td>Holmes secures comeback victory</td>\n",
       "      <td>\\nHolmes secures comeback victory\\n\\nBritain's...</td>\n",
       "      <td>2.0</td>\n",
       "      <td>\\nHolmes secures comeback victory\\n\\nBritain's...</td>\n",
       "      <td>2.0</td>\n",
       "    </tr>\n",
       "    <tr>\n",
       "      <th>65</th>\n",
       "      <td>sport</td>\n",
       "      <td>Jansen suffers a further setback</td>\n",
       "      <td>\\nJansen suffers a further setback\\n\\nBlackbur...</td>\n",
       "      <td>2.0</td>\n",
       "      <td>\\nJansen suffers a further setback\\n\\nBlackbur...</td>\n",
       "      <td>2.0</td>\n",
       "    </tr>\n",
       "    <tr>\n",
       "      <th>73</th>\n",
       "      <td>technology</td>\n",
       "      <td>Mobile games come of age</td>\n",
       "      <td>\\n\\nThe Online News News website takes a look ...</td>\n",
       "      <td>0.0</td>\n",
       "      <td>\\n\\nThe Online News News website takes a look ...</td>\n",
       "      <td>0.0</td>\n",
       "    </tr>\n",
       "    <tr>\n",
       "      <th>75</th>\n",
       "      <td>sport</td>\n",
       "      <td>Mourinho sends out warning shot</td>\n",
       "      <td>\\n\\nChelsea boss Jose Mourinho believes his te...</td>\n",
       "      <td>2.0</td>\n",
       "      <td>\\n\\nChelsea boss Jose Mourinho believes his te...</td>\n",
       "      <td>2.0</td>\n",
       "    </tr>\n",
       "    <tr>\n",
       "      <th>80</th>\n",
       "      <td>sport</td>\n",
       "      <td>Off-colour Gardener storms to win</td>\n",
       "      <td>\\n\\nBritain's Jason Gardener shook off an upse...</td>\n",
       "      <td>2.0</td>\n",
       "      <td>\\n\\nBritain's Jason Gardener shook off an upse...</td>\n",
       "      <td>2.0</td>\n",
       "    </tr>\n",
       "    <tr>\n",
       "      <th>81</th>\n",
       "      <td>business</td>\n",
       "      <td>Oil companies get Russian setback</td>\n",
       "      <td>\\n\\nInternational oil and mining companies hav...</td>\n",
       "      <td>1.0</td>\n",
       "      <td>\\n\\nInternational oil and mining companies hav...</td>\n",
       "      <td>1.0</td>\n",
       "    </tr>\n",
       "    <tr>\n",
       "      <th>87</th>\n",
       "      <td>technology</td>\n",
       "      <td>Remote control rifle range debuts</td>\n",
       "      <td>\\nRemote control rifle range debuts\\n\\nSoon yo...</td>\n",
       "      <td>0.0</td>\n",
       "      <td>\\nRemote control rifle range debuts\\n\\nSoon yo...</td>\n",
       "      <td>0.0</td>\n",
       "    </tr>\n",
       "    <tr>\n",
       "      <th>88</th>\n",
       "      <td>sport</td>\n",
       "      <td>Robinson ready for difficult task</td>\n",
       "      <td>\\n\\nEngland coach Andy Robinson faces the firs...</td>\n",
       "      <td>2.0</td>\n",
       "      <td>\\n\\nEngland coach Andy Robinson faces the firs...</td>\n",
       "      <td>2.0</td>\n",
       "    </tr>\n",
       "    <tr>\n",
       "      <th>91</th>\n",
       "      <td>business</td>\n",
       "      <td>S Korean lender faces liquidation</td>\n",
       "      <td>\\nS Korean lender faces liquidation\\n\\nCredito...</td>\n",
       "      <td>1.0</td>\n",
       "      <td>\\nS Korean lender faces liquidation\\n\\nCredito...</td>\n",
       "      <td>1.0</td>\n",
       "    </tr>\n",
       "    <tr>\n",
       "      <th>94</th>\n",
       "      <td>sport</td>\n",
       "      <td>Safin plays down Wimbledon hopes</td>\n",
       "      <td>\\n\\nNewly-crowned Australian Open champion Mar...</td>\n",
       "      <td>2.0</td>\n",
       "      <td>\\n\\nNewly-crowned Australian Open champion Mar...</td>\n",
       "      <td>2.0</td>\n",
       "    </tr>\n",
       "    <tr>\n",
       "      <th>98</th>\n",
       "      <td>business</td>\n",
       "      <td>Senior Fannie Mae bosses resign</td>\n",
       "      <td>\\n\\nThe two most senior executives at US mortg...</td>\n",
       "      <td>1.0</td>\n",
       "      <td>\\n\\nThe two most senior executives at US mortg...</td>\n",
       "      <td>1.0</td>\n",
       "    </tr>\n",
       "    <tr>\n",
       "      <th>101</th>\n",
       "      <td>sport</td>\n",
       "      <td>Sports Stock Tips</td>\n",
       "      <td>\\nSports Stock Tips\\n\\nSports stocks are the b...</td>\n",
       "      <td>2.0</td>\n",
       "      <td>\\nSports Stock Tips\\n\\nSports stocks are the b...</td>\n",
       "      <td>0.0</td>\n",
       "    </tr>\n",
       "    <tr>\n",
       "      <th>107</th>\n",
       "      <td>technology</td>\n",
       "      <td>US peer-to-peer pirates convicted</td>\n",
       "      <td>\\nUS peer-to-peer pirates convicted\\n\\nThe fir...</td>\n",
       "      <td>0.0</td>\n",
       "      <td>\\nUS peer-to-peer pirates convicted\\n\\nThe fir...</td>\n",
       "      <td>0.0</td>\n",
       "    </tr>\n",
       "    <tr>\n",
       "      <th>108</th>\n",
       "      <td>technology</td>\n",
       "      <td>US top of supercomputing charts</td>\n",
       "      <td>\\n\\nThe US has pushed Japan off the top of the...</td>\n",
       "      <td>0.0</td>\n",
       "      <td>\\n\\nThe US has pushed Japan off the top of the...</td>\n",
       "      <td>0.0</td>\n",
       "    </tr>\n",
       "    <tr>\n",
       "      <th>111</th>\n",
       "      <td>sport</td>\n",
       "      <td>Williams says he will never quit</td>\n",
       "      <td>\\n\\nDefiant Matt Williams says he will not qui...</td>\n",
       "      <td>2.0</td>\n",
       "      <td>\\n\\nDefiant Matt Williams says he will not qui...</td>\n",
       "      <td>2.0</td>\n",
       "    </tr>\n",
       "    <tr>\n",
       "      <th>115</th>\n",
       "      <td>technology</td>\n",
       "      <td>Xbox power cable 'fire fear'</td>\n",
       "      <td>\\nXbox power cable 'fire fear'\\n\\nMicrosoft ha...</td>\n",
       "      <td>0.0</td>\n",
       "      <td>\\nXbox power cable 'fire fear'\\n\\nMicrosoft ha...</td>\n",
       "      <td>0.0</td>\n",
       "    </tr>\n",
       "    <tr>\n",
       "      <th>119</th>\n",
       "      <td>sport</td>\n",
       "      <td>A November to remember</td>\n",
       "      <td>\\nA November to remember\\n\\nLast Saturday, one...</td>\n",
       "      <td>2.0</td>\n",
       "      <td>\\nA November to remember\\n\\nLast Saturday, one...</td>\n",
       "      <td>2.0</td>\n",
       "    </tr>\n",
       "    <tr>\n",
       "      <th>120</th>\n",
       "      <td>technology</td>\n",
       "      <td>A question of trust and technology</td>\n",
       "      <td>\\nA question of trust and technology\\n\\nA majo...</td>\n",
       "      <td>0.0</td>\n",
       "      <td>\\nA question of trust and technology\\n\\nA majo...</td>\n",
       "      <td>0.0</td>\n",
       "    </tr>\n",
       "    <tr>\n",
       "      <th>131</th>\n",
       "      <td>technology</td>\n",
       "      <td>Blogs take on the mainstream</td>\n",
       "      <td>\\nBlogs take on the mainstream\\n\\nWeb logs or ...</td>\n",
       "      <td>0.0</td>\n",
       "      <td>\\nBlogs take on the mainstream\\n\\nWeb logs or ...</td>\n",
       "      <td>0.0</td>\n",
       "    </tr>\n",
       "    <tr>\n",
       "      <th>133</th>\n",
       "      <td>business</td>\n",
       "      <td>Bush to outline 'toughest' budget</td>\n",
       "      <td>\\n\\nPresident Bush is to send his toughest bud...</td>\n",
       "      <td>1.0</td>\n",
       "      <td>\\n\\nPresident Bush is to send his toughest bud...</td>\n",
       "      <td>1.0</td>\n",
       "    </tr>\n",
       "    <tr>\n",
       "      <th>...</th>\n",
       "      <td>...</td>\n",
       "      <td>...</td>\n",
       "      <td>...</td>\n",
       "      <td>...</td>\n",
       "      <td>...</td>\n",
       "      <td>...</td>\n",
       "    </tr>\n",
       "    <tr>\n",
       "      <th>1232</th>\n",
       "      <td>business</td>\n",
       "      <td>IMF 'cuts' German growth estimate</td>\n",
       "      <td>\\nIMF 'cuts' German growth estimate\\n\\nThe Int...</td>\n",
       "      <td>1.0</td>\n",
       "      <td>\\nIMF 'cuts' German growth estimate\\n\\nThe Int...</td>\n",
       "      <td>1.0</td>\n",
       "    </tr>\n",
       "    <tr>\n",
       "      <th>1233</th>\n",
       "      <td>business</td>\n",
       "      <td>Indonesians face fuel price rise</td>\n",
       "      <td>\\n\\nIndonesia's government has confirmed it is...</td>\n",
       "      <td>1.0</td>\n",
       "      <td>\\n\\nIndonesia's government has confirmed it is...</td>\n",
       "      <td>1.0</td>\n",
       "    </tr>\n",
       "    <tr>\n",
       "      <th>1241</th>\n",
       "      <td>technology</td>\n",
       "      <td>Junk e-mails on relentless rise</td>\n",
       "      <td>\\nJunk e-mails on relentless rise\\n\\nSpam traf...</td>\n",
       "      <td>0.0</td>\n",
       "      <td>\\nJunk e-mails on relentless rise\\n\\nSpam traf...</td>\n",
       "      <td>0.0</td>\n",
       "    </tr>\n",
       "    <tr>\n",
       "      <th>1251</th>\n",
       "      <td>sport</td>\n",
       "      <td>Mourinho defiant on Chelsea form</td>\n",
       "      <td>\\nMourinho defiant on Chelsea form\\n\\nChelsea ...</td>\n",
       "      <td>2.0</td>\n",
       "      <td>\\nMourinho defiant on Chelsea form\\n\\nChelsea ...</td>\n",
       "      <td>2.0</td>\n",
       "    </tr>\n",
       "    <tr>\n",
       "      <th>1256</th>\n",
       "      <td>technology</td>\n",
       "      <td>Online News web search aids odd queries</td>\n",
       "      <td>\\n\\nThe Online News's online search engine was...</td>\n",
       "      <td>0.0</td>\n",
       "      <td>\\n\\nThe Online News's online search engine was...</td>\n",
       "      <td>0.0</td>\n",
       "    </tr>\n",
       "    <tr>\n",
       "      <th>1280</th>\n",
       "      <td>technology</td>\n",
       "      <td>Toxic web links help virus spread</td>\n",
       "      <td>\\n\\nVirus writers have begun using the power o...</td>\n",
       "      <td>0.0</td>\n",
       "      <td>\\n\\nVirus writers have begun using the power o...</td>\n",
       "      <td>0.0</td>\n",
       "    </tr>\n",
       "    <tr>\n",
       "      <th>1286</th>\n",
       "      <td>business</td>\n",
       "      <td>US to probe airline travel chaos</td>\n",
       "      <td>\\nUS to probe airline travel chaos\\n\\nThe US g...</td>\n",
       "      <td>1.0</td>\n",
       "      <td>\\nUS to probe airline travel chaos\\n\\nThe US g...</td>\n",
       "      <td>1.0</td>\n",
       "    </tr>\n",
       "    <tr>\n",
       "      <th>1291</th>\n",
       "      <td>technology</td>\n",
       "      <td>Windows worm travels with Tetris</td>\n",
       "      <td>\\nWindows worm travels with Tetris\\n\\nUsers ar...</td>\n",
       "      <td>0.0</td>\n",
       "      <td>\\nWindows worm travels with Tetris\\n\\nUsers ar...</td>\n",
       "      <td>0.0</td>\n",
       "    </tr>\n",
       "    <tr>\n",
       "      <th>1293</th>\n",
       "      <td>business</td>\n",
       "      <td>Worldcom ex-boss launches defence</td>\n",
       "      <td>\\n\\nLawyers defending former WorldCom chief Be...</td>\n",
       "      <td>1.0</td>\n",
       "      <td>\\n\\nLawyers defending former WorldCom chief Be...</td>\n",
       "      <td>1.0</td>\n",
       "    </tr>\n",
       "    <tr>\n",
       "      <th>1295</th>\n",
       "      <td>business</td>\n",
       "      <td>Absa and Barclays talks continue</td>\n",
       "      <td>\\n\\nSouth Africa biggest retail bank Absa has ...</td>\n",
       "      <td>1.0</td>\n",
       "      <td>\\n\\nSouth Africa biggest retail bank Absa has ...</td>\n",
       "      <td>1.0</td>\n",
       "    </tr>\n",
       "    <tr>\n",
       "      <th>1301</th>\n",
       "      <td>sport</td>\n",
       "      <td>Barbarians 19-47 New Zealand</td>\n",
       "      <td>\\n\\nNew Zealand proved too strong for an Austr...</td>\n",
       "      <td>2.0</td>\n",
       "      <td>\\n\\nNew Zealand proved too strong for an Austr...</td>\n",
       "      <td>2.0</td>\n",
       "    </tr>\n",
       "    <tr>\n",
       "      <th>1302</th>\n",
       "      <td>sport</td>\n",
       "      <td>Big guns ease through in San Jose</td>\n",
       "      <td>\\n\\nTop-seeded Americans Andy Roddick and Andr...</td>\n",
       "      <td>2.0</td>\n",
       "      <td>\\n\\nTop-seeded Americans Andy Roddick and Andr...</td>\n",
       "      <td>2.0</td>\n",
       "    </tr>\n",
       "    <tr>\n",
       "      <th>1313</th>\n",
       "      <td>sport</td>\n",
       "      <td>D'Arcy injury adds to Ireland woe</td>\n",
       "      <td>\\n\\nGordon D'Arcy has been ruled out of the Ir...</td>\n",
       "      <td>2.0</td>\n",
       "      <td>\\n\\nGordon D'Arcy has been ruled out of the Ir...</td>\n",
       "      <td>2.0</td>\n",
       "    </tr>\n",
       "    <tr>\n",
       "      <th>1325</th>\n",
       "      <td>business</td>\n",
       "      <td>France Telecom gets Orange boost</td>\n",
       "      <td>\\n\\nStrong growth in subscriptions to mobile p...</td>\n",
       "      <td>1.0</td>\n",
       "      <td>\\n\\nStrong growth in subscriptions to mobile p...</td>\n",
       "      <td>1.0</td>\n",
       "    </tr>\n",
       "    <tr>\n",
       "      <th>1329</th>\n",
       "      <td>technology</td>\n",
       "      <td>Gizmondo gadget hits the shelves</td>\n",
       "      <td>\\nGizmondo gadget hits the shelves\\n\\nThe Gizm...</td>\n",
       "      <td>0.0</td>\n",
       "      <td>\\nGizmondo gadget hits the shelves\\n\\nThe Gizm...</td>\n",
       "      <td>0.0</td>\n",
       "    </tr>\n",
       "    <tr>\n",
       "      <th>1331</th>\n",
       "      <td>technology</td>\n",
       "      <td>Global digital divide 'narrowing'</td>\n",
       "      <td>\\nGlobal digital divide 'narrowing'\\n\\nThe \"di...</td>\n",
       "      <td>0.0</td>\n",
       "      <td>\\nGlobal digital divide 'narrowing'\\n\\nThe \"di...</td>\n",
       "      <td>0.0</td>\n",
       "    </tr>\n",
       "    <tr>\n",
       "      <th>1333</th>\n",
       "      <td>sport</td>\n",
       "      <td>Hamm bows out for US</td>\n",
       "      <td>\\n\\nWomen's football legend Mia Hamm has playe...</td>\n",
       "      <td>2.0</td>\n",
       "      <td>\\n\\nWomen's football legend Mia Hamm has playe...</td>\n",
       "      <td>2.0</td>\n",
       "    </tr>\n",
       "    <tr>\n",
       "      <th>1341</th>\n",
       "      <td>business</td>\n",
       "      <td>Irish markets reach all-time high</td>\n",
       "      <td>\\n\\nIrish shares have risen to a record high, ...</td>\n",
       "      <td>1.0</td>\n",
       "      <td>\\n\\nIrish shares have risen to a record high, ...</td>\n",
       "      <td>1.0</td>\n",
       "    </tr>\n",
       "    <tr>\n",
       "      <th>1353</th>\n",
       "      <td>technology</td>\n",
       "      <td>Microsoft plans 'safer ID' system</td>\n",
       "      <td>\\n\\nMicrosoft is planning to make Windows and ...</td>\n",
       "      <td>0.0</td>\n",
       "      <td>\\n\\nMicrosoft is planning to make Windows and ...</td>\n",
       "      <td>0.0</td>\n",
       "    </tr>\n",
       "    <tr>\n",
       "      <th>1357</th>\n",
       "      <td>sport</td>\n",
       "      <td>Moya fights back for Indian title</td>\n",
       "      <td>\\n\\nCarlos Moya became the first man to succes...</td>\n",
       "      <td>2.0</td>\n",
       "      <td>\\n\\nCarlos Moya became the first man to succes...</td>\n",
       "      <td>2.0</td>\n",
       "    </tr>\n",
       "    <tr>\n",
       "      <th>1359</th>\n",
       "      <td>sport</td>\n",
       "      <td>Munster Cup tie switched to Spain</td>\n",
       "      <td>\\nMunster Cup tie switched to Spain\\n\\nMunster...</td>\n",
       "      <td>2.0</td>\n",
       "      <td>\\nMunster Cup tie switched to Spain\\n\\nMunster...</td>\n",
       "      <td>2.0</td>\n",
       "    </tr>\n",
       "    <tr>\n",
       "      <th>1366</th>\n",
       "      <td>technology</td>\n",
       "      <td>Players sought for $1m prize</td>\n",
       "      <td>\\nPlayers sought for $1m prize\\n\\nUK gamers ar...</td>\n",
       "      <td>0.0</td>\n",
       "      <td>\\nPlayers sought for $1m prize\\n\\nUK gamers ar...</td>\n",
       "      <td>0.0</td>\n",
       "    </tr>\n",
       "    <tr>\n",
       "      <th>1367</th>\n",
       "      <td>sport</td>\n",
       "      <td>QPR keeper Day heads for Preston</td>\n",
       "      <td>\\nQPR keeper Day heads for Preston\\n\\nQueens P...</td>\n",
       "      <td>2.0</td>\n",
       "      <td>\\nQPR keeper Day heads for Preston\\n\\nQueens P...</td>\n",
       "      <td>2.0</td>\n",
       "    </tr>\n",
       "    <tr>\n",
       "      <th>1368</th>\n",
       "      <td>business</td>\n",
       "      <td>Renault boss hails 'great year'</td>\n",
       "      <td>\\n\\nStrong sales outside western Europe helped...</td>\n",
       "      <td>1.0</td>\n",
       "      <td>\\n\\nStrong sales outside western Europe helped...</td>\n",
       "      <td>1.0</td>\n",
       "    </tr>\n",
       "    <tr>\n",
       "      <th>1369</th>\n",
       "      <td>technology</td>\n",
       "      <td>Report: Benitez delight after crucial win</td>\n",
       "      <td>\\nReport: Benitez delight after crucial win\\n\\...</td>\n",
       "      <td>0.0</td>\n",
       "      <td>\\nReport: Benitez delight after crucial win\\n\\...</td>\n",
       "      <td>2.0</td>\n",
       "    </tr>\n",
       "    <tr>\n",
       "      <th>1370</th>\n",
       "      <td>technology</td>\n",
       "      <td>Rings of steel combat net attacks</td>\n",
       "      <td>\\nRings of steel combat net attacks\\n\\nGamblin...</td>\n",
       "      <td>0.0</td>\n",
       "      <td>\\nRings of steel combat net attacks\\n\\nGamblin...</td>\n",
       "      <td>0.0</td>\n",
       "    </tr>\n",
       "    <tr>\n",
       "      <th>1378</th>\n",
       "      <td>technology</td>\n",
       "      <td>Sony PSP tipped as a 'must-have'</td>\n",
       "      <td>\\nSony PSP tipped as a 'must-have'\\n\\nSony's P...</td>\n",
       "      <td>0.0</td>\n",
       "      <td>\\nSony PSP tipped as a 'must-have'\\n\\nSony's P...</td>\n",
       "      <td>0.0</td>\n",
       "    </tr>\n",
       "    <tr>\n",
       "      <th>1380</th>\n",
       "      <td>technology</td>\n",
       "      <td>T-Mobile bets on 'pocket office'</td>\n",
       "      <td>\\n\\nT-Mobile has launched its latest \"pocket o...</td>\n",
       "      <td>0.0</td>\n",
       "      <td>\\n\\nT-Mobile has launched its latest \"pocket o...</td>\n",
       "      <td>0.0</td>\n",
       "    </tr>\n",
       "    <tr>\n",
       "      <th>1386</th>\n",
       "      <td>technology</td>\n",
       "      <td>UK gets official virus alert site</td>\n",
       "      <td>\\n\\nA rapid alerting service that tells home c...</td>\n",
       "      <td>0.0</td>\n",
       "      <td>\\n\\nA rapid alerting service that tells home c...</td>\n",
       "      <td>0.0</td>\n",
       "    </tr>\n",
       "    <tr>\n",
       "      <th>1388</th>\n",
       "      <td>business</td>\n",
       "      <td>US company admits Benin bribery</td>\n",
       "      <td>\\n\\nA US defence and telecommunications compan...</td>\n",
       "      <td>1.0</td>\n",
       "      <td>\\n\\nA US defence and telecommunications compan...</td>\n",
       "      <td>1.0</td>\n",
       "    </tr>\n",
       "  </tbody>\n",
       "</table>\n",
       "<p>282 rows × 6 columns</p>\n",
       "</div>"
      ],
      "text/plain": [
       "        Category                                     Titile  \\\n",
       "3       business          Barclays shares up on merger talk   \n",
       "12      business             Bush to get 'tough' on deficit   \n",
       "19         sport            Charvis set to lose fitness bid   \n",
       "37      business          Fannie Mae 'should restate books'   \n",
       "47    technology            Gangsters dominate gaming chart   \n",
       "48         sport            Gardener wins double in Glasgow   \n",
       "49      business           Gazprom 'in $36m back-tax claim'   \n",
       "51      business                Germany calls for EU reform   \n",
       "56         sport           Henman decides to quit Davis Cup   \n",
       "58         sport            Hodgson shoulders England blame   \n",
       "60         sport            Holmes secures comeback victory   \n",
       "65         sport           Jansen suffers a further setback   \n",
       "73    technology                   Mobile games come of age   \n",
       "75         sport            Mourinho sends out warning shot   \n",
       "80         sport          Off-colour Gardener storms to win   \n",
       "81      business          Oil companies get Russian setback   \n",
       "87    technology          Remote control rifle range debuts   \n",
       "88         sport          Robinson ready for difficult task   \n",
       "91      business          S Korean lender faces liquidation   \n",
       "94         sport           Safin plays down Wimbledon hopes   \n",
       "98      business            Senior Fannie Mae bosses resign   \n",
       "101        sport                          Sports Stock Tips   \n",
       "107   technology          US peer-to-peer pirates convicted   \n",
       "108   technology            US top of supercomputing charts   \n",
       "111        sport           Williams says he will never quit   \n",
       "115   technology               Xbox power cable 'fire fear'   \n",
       "119        sport                     A November to remember   \n",
       "120   technology         A question of trust and technology   \n",
       "131   technology               Blogs take on the mainstream   \n",
       "133     business          Bush to outline 'toughest' budget   \n",
       "...          ...                                        ...   \n",
       "1232    business          IMF 'cuts' German growth estimate   \n",
       "1233    business           Indonesians face fuel price rise   \n",
       "1241  technology            Junk e-mails on relentless rise   \n",
       "1251       sport           Mourinho defiant on Chelsea form   \n",
       "1256  technology    Online News web search aids odd queries   \n",
       "1280  technology          Toxic web links help virus spread   \n",
       "1286    business           US to probe airline travel chaos   \n",
       "1291  technology           Windows worm travels with Tetris   \n",
       "1293    business          Worldcom ex-boss launches defence   \n",
       "1295    business           Absa and Barclays talks continue   \n",
       "1301       sport               Barbarians 19-47 New Zealand   \n",
       "1302       sport          Big guns ease through in San Jose   \n",
       "1313       sport          D'Arcy injury adds to Ireland woe   \n",
       "1325    business           France Telecom gets Orange boost   \n",
       "1329  technology           Gizmondo gadget hits the shelves   \n",
       "1331  technology          Global digital divide 'narrowing'   \n",
       "1333       sport                       Hamm bows out for US   \n",
       "1341    business          Irish markets reach all-time high   \n",
       "1353  technology          Microsoft plans 'safer ID' system   \n",
       "1357       sport          Moya fights back for Indian title   \n",
       "1359       sport          Munster Cup tie switched to Spain   \n",
       "1366  technology               Players sought for $1m prize   \n",
       "1367       sport           QPR keeper Day heads for Preston   \n",
       "1368    business            Renault boss hails 'great year'   \n",
       "1369  technology  Report: Benitez delight after crucial win   \n",
       "1370  technology          Rings of steel combat net attacks   \n",
       "1378  technology           Sony PSP tipped as a 'must-have'   \n",
       "1380  technology           T-Mobile bets on 'pocket office'   \n",
       "1386  technology          UK gets official virus alert site   \n",
       "1388    business            US company admits Benin bribery   \n",
       "\n",
       "                                                   Body  Category_num  \\\n",
       "3     \\nBarclays shares up on merger talk\\n\\nShares ...           1.0   \n",
       "12    \\nBush to get 'tough' on deficit\\n\\nUS preside...           1.0   \n",
       "19    \\n\\nFlanker Colin Charvis is unlikely to play ...           2.0   \n",
       "37    \\n\\nUS mortgage company Fannie Mae should rest...           1.0   \n",
       "47    \\n\\nVideo games on consoles and computers prov...           0.0   \n",
       "48    \\nGardener wins double in Glasgow\\n\\nBritain's...           2.0   \n",
       "49    \\n\\nThe nuclear unit of Russian energy giant G...           1.0   \n",
       "51    \\nGermany calls for EU reform\\n\\nGerman Chance...           1.0   \n",
       "56    \\nHenman decides to quit Davis Cup\\n\\nTim Henm...           2.0   \n",
       "58    \\n\\nFly-half Charlie Hodgson admitted his wayw...           2.0   \n",
       "60    \\nHolmes secures comeback victory\\n\\nBritain's...           2.0   \n",
       "65    \\nJansen suffers a further setback\\n\\nBlackbur...           2.0   \n",
       "73    \\n\\nThe Online News News website takes a look ...           0.0   \n",
       "75    \\n\\nChelsea boss Jose Mourinho believes his te...           2.0   \n",
       "80    \\n\\nBritain's Jason Gardener shook off an upse...           2.0   \n",
       "81    \\n\\nInternational oil and mining companies hav...           1.0   \n",
       "87    \\nRemote control rifle range debuts\\n\\nSoon yo...           0.0   \n",
       "88    \\n\\nEngland coach Andy Robinson faces the firs...           2.0   \n",
       "91    \\nS Korean lender faces liquidation\\n\\nCredito...           1.0   \n",
       "94    \\n\\nNewly-crowned Australian Open champion Mar...           2.0   \n",
       "98    \\n\\nThe two most senior executives at US mortg...           1.0   \n",
       "101   \\nSports Stock Tips\\n\\nSports stocks are the b...           2.0   \n",
       "107   \\nUS peer-to-peer pirates convicted\\n\\nThe fir...           0.0   \n",
       "108   \\n\\nThe US has pushed Japan off the top of the...           0.0   \n",
       "111   \\n\\nDefiant Matt Williams says he will not qui...           2.0   \n",
       "115   \\nXbox power cable 'fire fear'\\n\\nMicrosoft ha...           0.0   \n",
       "119   \\nA November to remember\\n\\nLast Saturday, one...           2.0   \n",
       "120   \\nA question of trust and technology\\n\\nA majo...           0.0   \n",
       "131   \\nBlogs take on the mainstream\\n\\nWeb logs or ...           0.0   \n",
       "133   \\n\\nPresident Bush is to send his toughest bud...           1.0   \n",
       "...                                                 ...           ...   \n",
       "1232  \\nIMF 'cuts' German growth estimate\\n\\nThe Int...           1.0   \n",
       "1233  \\n\\nIndonesia's government has confirmed it is...           1.0   \n",
       "1241  \\nJunk e-mails on relentless rise\\n\\nSpam traf...           0.0   \n",
       "1251  \\nMourinho defiant on Chelsea form\\n\\nChelsea ...           2.0   \n",
       "1256  \\n\\nThe Online News's online search engine was...           0.0   \n",
       "1280  \\n\\nVirus writers have begun using the power o...           0.0   \n",
       "1286  \\nUS to probe airline travel chaos\\n\\nThe US g...           1.0   \n",
       "1291  \\nWindows worm travels with Tetris\\n\\nUsers ar...           0.0   \n",
       "1293  \\n\\nLawyers defending former WorldCom chief Be...           1.0   \n",
       "1295  \\n\\nSouth Africa biggest retail bank Absa has ...           1.0   \n",
       "1301  \\n\\nNew Zealand proved too strong for an Austr...           2.0   \n",
       "1302  \\n\\nTop-seeded Americans Andy Roddick and Andr...           2.0   \n",
       "1313  \\n\\nGordon D'Arcy has been ruled out of the Ir...           2.0   \n",
       "1325  \\n\\nStrong growth in subscriptions to mobile p...           1.0   \n",
       "1329  \\nGizmondo gadget hits the shelves\\n\\nThe Gizm...           0.0   \n",
       "1331  \\nGlobal digital divide 'narrowing'\\n\\nThe \"di...           0.0   \n",
       "1333  \\n\\nWomen's football legend Mia Hamm has playe...           2.0   \n",
       "1341  \\n\\nIrish shares have risen to a record high, ...           1.0   \n",
       "1353  \\n\\nMicrosoft is planning to make Windows and ...           0.0   \n",
       "1357  \\n\\nCarlos Moya became the first man to succes...           2.0   \n",
       "1359  \\nMunster Cup tie switched to Spain\\n\\nMunster...           2.0   \n",
       "1366  \\nPlayers sought for $1m prize\\n\\nUK gamers ar...           0.0   \n",
       "1367  \\nQPR keeper Day heads for Preston\\n\\nQueens P...           2.0   \n",
       "1368  \\n\\nStrong sales outside western Europe helped...           1.0   \n",
       "1369  \\nReport: Benitez delight after crucial win\\n\\...           0.0   \n",
       "1370  \\nRings of steel combat net attacks\\n\\nGamblin...           0.0   \n",
       "1378  \\nSony PSP tipped as a 'must-have'\\n\\nSony's P...           0.0   \n",
       "1380  \\n\\nT-Mobile has launched its latest \"pocket o...           0.0   \n",
       "1386  \\n\\nA rapid alerting service that tells home c...           0.0   \n",
       "1388  \\n\\nA US defence and telecommunications compan...           1.0   \n",
       "\n",
       "                                                   Body  Predicted Category  \n",
       "3     \\nBarclays shares up on merger talk\\n\\nShares ...                 1.0  \n",
       "12    \\nBush to get 'tough' on deficit\\n\\nUS preside...                 1.0  \n",
       "19    \\n\\nFlanker Colin Charvis is unlikely to play ...                 2.0  \n",
       "37    \\n\\nUS mortgage company Fannie Mae should rest...                 0.0  \n",
       "47    \\n\\nVideo games on consoles and computers prov...                 0.0  \n",
       "48    \\nGardener wins double in Glasgow\\n\\nBritain's...                 2.0  \n",
       "49    \\n\\nThe nuclear unit of Russian energy giant G...                 1.0  \n",
       "51    \\nGermany calls for EU reform\\n\\nGerman Chance...                 1.0  \n",
       "56    \\nHenman decides to quit Davis Cup\\n\\nTim Henm...                 2.0  \n",
       "58    \\n\\nFly-half Charlie Hodgson admitted his wayw...                 2.0  \n",
       "60    \\nHolmes secures comeback victory\\n\\nBritain's...                 2.0  \n",
       "65    \\nJansen suffers a further setback\\n\\nBlackbur...                 2.0  \n",
       "73    \\n\\nThe Online News News website takes a look ...                 0.0  \n",
       "75    \\n\\nChelsea boss Jose Mourinho believes his te...                 2.0  \n",
       "80    \\n\\nBritain's Jason Gardener shook off an upse...                 2.0  \n",
       "81    \\n\\nInternational oil and mining companies hav...                 1.0  \n",
       "87    \\nRemote control rifle range debuts\\n\\nSoon yo...                 0.0  \n",
       "88    \\n\\nEngland coach Andy Robinson faces the firs...                 2.0  \n",
       "91    \\nS Korean lender faces liquidation\\n\\nCredito...                 1.0  \n",
       "94    \\n\\nNewly-crowned Australian Open champion Mar...                 2.0  \n",
       "98    \\n\\nThe two most senior executives at US mortg...                 1.0  \n",
       "101   \\nSports Stock Tips\\n\\nSports stocks are the b...                 0.0  \n",
       "107   \\nUS peer-to-peer pirates convicted\\n\\nThe fir...                 0.0  \n",
       "108   \\n\\nThe US has pushed Japan off the top of the...                 0.0  \n",
       "111   \\n\\nDefiant Matt Williams says he will not qui...                 2.0  \n",
       "115   \\nXbox power cable 'fire fear'\\n\\nMicrosoft ha...                 0.0  \n",
       "119   \\nA November to remember\\n\\nLast Saturday, one...                 2.0  \n",
       "120   \\nA question of trust and technology\\n\\nA majo...                 0.0  \n",
       "131   \\nBlogs take on the mainstream\\n\\nWeb logs or ...                 0.0  \n",
       "133   \\n\\nPresident Bush is to send his toughest bud...                 1.0  \n",
       "...                                                 ...                 ...  \n",
       "1232  \\nIMF 'cuts' German growth estimate\\n\\nThe Int...                 1.0  \n",
       "1233  \\n\\nIndonesia's government has confirmed it is...                 1.0  \n",
       "1241  \\nJunk e-mails on relentless rise\\n\\nSpam traf...                 0.0  \n",
       "1251  \\nMourinho defiant on Chelsea form\\n\\nChelsea ...                 2.0  \n",
       "1256  \\n\\nThe Online News's online search engine was...                 0.0  \n",
       "1280  \\n\\nVirus writers have begun using the power o...                 0.0  \n",
       "1286  \\nUS to probe airline travel chaos\\n\\nThe US g...                 1.0  \n",
       "1291  \\nWindows worm travels with Tetris\\n\\nUsers ar...                 0.0  \n",
       "1293  \\n\\nLawyers defending former WorldCom chief Be...                 1.0  \n",
       "1295  \\n\\nSouth Africa biggest retail bank Absa has ...                 1.0  \n",
       "1301  \\n\\nNew Zealand proved too strong for an Austr...                 2.0  \n",
       "1302  \\n\\nTop-seeded Americans Andy Roddick and Andr...                 2.0  \n",
       "1313  \\n\\nGordon D'Arcy has been ruled out of the Ir...                 2.0  \n",
       "1325  \\n\\nStrong growth in subscriptions to mobile p...                 1.0  \n",
       "1329  \\nGizmondo gadget hits the shelves\\n\\nThe Gizm...                 0.0  \n",
       "1331  \\nGlobal digital divide 'narrowing'\\n\\nThe \"di...                 0.0  \n",
       "1333  \\n\\nWomen's football legend Mia Hamm has playe...                 2.0  \n",
       "1341  \\n\\nIrish shares have risen to a record high, ...                 1.0  \n",
       "1353  \\n\\nMicrosoft is planning to make Windows and ...                 0.0  \n",
       "1357  \\n\\nCarlos Moya became the first man to succes...                 2.0  \n",
       "1359  \\nMunster Cup tie switched to Spain\\n\\nMunster...                 2.0  \n",
       "1366  \\nPlayers sought for $1m prize\\n\\nUK gamers ar...                 0.0  \n",
       "1367  \\nQPR keeper Day heads for Preston\\n\\nQueens P...                 2.0  \n",
       "1368  \\n\\nStrong sales outside western Europe helped...                 1.0  \n",
       "1369  \\nReport: Benitez delight after crucial win\\n\\...                 2.0  \n",
       "1370  \\nRings of steel combat net attacks\\n\\nGamblin...                 0.0  \n",
       "1378  \\nSony PSP tipped as a 'must-have'\\n\\nSony's P...                 0.0  \n",
       "1380  \\n\\nT-Mobile has launched its latest \"pocket o...                 0.0  \n",
       "1386  \\n\\nA rapid alerting service that tells home c...                 0.0  \n",
       "1388  \\n\\nA US defence and telecommunications compan...                 1.0  \n",
       "\n",
       "[282 rows x 6 columns]"
      ]
     },
     "execution_count": 776,
     "metadata": {},
     "output_type": "execute_result"
    }
   ],
   "source": [
    "# merge thme for readiblity\n",
    "overAll_pred_class_df_knn = pd.concat([merged_df, y_pred_class_df_knn], axis=1)\n",
    "# Drop NaN values\n",
    "overAll_pred_class_df_knn = overAll_pred_class_df_knn.dropna(axis=0,how='any')\n",
    "overAll_pred_class_df_knn"
   ]
  },
  {
   "cell_type": "markdown",
   "metadata": {},
   "source": [
    "## Test the prediction of the **MultinomialNB**."
   ]
  },
  {
   "cell_type": "code",
   "execution_count": 777,
   "metadata": {},
   "outputs": [
    {
     "name": "stdout",
     "output_type": "stream",
     "text": [
      "Tech : 80\n",
      "Business: 94\n",
      "Sport: 108\n"
     ]
    }
   ],
   "source": [
    "predict = nb.predict(X_test_dtm)\n",
    "num_tech = (predict == 0).sum()\n",
    "num_business = (predict == 1).sum()\n",
    "num_sport = (predict == 2).sum()\n",
    "print(\"Tech : %d\" % num_tech)\n",
    "print(\"Business: %d\" % num_business)\n",
    "print(\"Sport: %d\" % num_sport)"
   ]
  },
  {
   "cell_type": "markdown",
   "metadata": {},
   "source": [
    "## Test the prediction of the **KNeighborsClassifier**."
   ]
  },
  {
   "cell_type": "code",
   "execution_count": 778,
   "metadata": {},
   "outputs": [
    {
     "name": "stdout",
     "output_type": "stream",
     "text": [
      "Tech : 85\n",
      "Business: 92\n",
      "Sport: 105\n"
     ]
    }
   ],
   "source": [
    "predict = knn.predict(X_test_dtm)\n",
    "num_tech = (predict == 0).sum()\n",
    "num_business = (predict == 1).sum()\n",
    "num_sport = (predict == 2).sum()\n",
    "print(\"Tech : %d\" % num_tech)\n",
    "print(\"Business: %d\" % num_business)\n",
    "print(\"Sport: %d\" % num_sport)"
   ]
  },
  {
   "cell_type": "markdown",
   "metadata": {},
   "source": [
    "## Examining a model for further insight\n",
    "\n",
    "We will examine our **trained Naive Bayes model** to calculate the approximate **\"category\" of each token**."
   ]
  },
  {
   "cell_type": "code",
   "execution_count": 779,
   "metadata": {},
   "outputs": [
    {
     "data": {
      "text/plain": [
       "195019"
      ]
     },
     "execution_count": 779,
     "metadata": {},
     "output_type": "execute_result"
    }
   ],
   "source": [
    "# store the vocabulary of X_train\n",
    "X_train_tokens = vect.get_feature_names()\n",
    "len(X_train_tokens)"
   ]
  },
  {
   "cell_type": "code",
   "execution_count": 780,
   "metadata": {},
   "outputs": [
    {
     "name": "stdout",
     "output_type": "stream",
     "text": [
      "['00', '00 early', '00 minute', '00 qualifying', '00 today', '000', '000 000', '000 100', '000 110', '000 133', '000 15', '000 198', '000 2005', '000 2006', '000 2007', '000 2008', '000 30', '000 300', '000 39', '000 425', '000 486', '000 82', '000 85', '000 accounts', '000 added', '000 advertise', '000 advisers', '000 afford', '000 american', '000 amf', '000 analysts', '000 announced', '000 annually', '000 apiece', '000 applicants', '000 august', '000 barrels', '000 battery', '000 bennett', '000 better', '000 books', '000 bpd', '000 bribe', '000 britannia', '000 broadband', '000 bsl', '000 bt', '000 business', '000 businesses', '000 bytes']\n"
     ]
    }
   ],
   "source": [
    "# examine the first 50 tokens\n",
    "print(X_train_tokens[:50])"
   ]
  },
  {
   "cell_type": "code",
   "execution_count": 781,
   "metadata": {},
   "outputs": [
    {
     "name": "stdout",
     "output_type": "stream",
     "text": [
      "['zola', 'zola absolutely', 'zola best', 'zola collapsed', 'zombies', 'zombies based', 'zombies bots', 'zombies giant', 'zombies mobile', 'zone', 'zone 1973', 'zone 85', 'zone countries', 'zone dealer', 'zone forecast', 'zone georgewbush', 'zone hand', 'zone retention', 'zone speed', 'zone substitute', 'zone time', 'zone world', 'zone written', 'zonealarm', 'zonealarm tools', 'zones', 'zones 16', 'zones egypt', 'zones enjoy', 'zones player', 'zones scrum', 'zones stalled', 'zoom', 'zoom capability', 'zooms', 'zooms likely', 'zuluaga', 'zuluaga colombia', 'zurich', 'zurich according', 'zurich financial', 'zurich london', 'zurich opera', 'zurich premiership', 'zurich reported', 'zvonareva', 'zvonareva lost', 'zvonareva russia', 'zvonareva struggled', 'zvonareva wimbledon']\n"
     ]
    }
   ],
   "source": [
    "# examine the last 50 tokens\n",
    "print(X_train_tokens[-50:])"
   ]
  },
  {
   "cell_type": "code",
   "execution_count": 782,
   "metadata": {},
   "outputs": [
    {
     "data": {
      "text/plain": [
       "array([[ 0.03753255,  0.        ,  0.04289114, ...,  0.        ,\n",
       "         0.        ,  0.        ],\n",
       "       [ 0.03492459,  0.        ,  0.        , ...,  0.        ,\n",
       "         0.        ,  0.        ],\n",
       "       [ 0.06542441,  0.03940521,  0.        , ...,  0.02927071,\n",
       "         0.05725613,  0.05725613]])"
      ]
     },
     "execution_count": 782,
     "metadata": {},
     "output_type": "execute_result"
    }
   ],
   "source": [
    "# Naive Bayes counts the number of times each token appears in each class\n",
    "nb.feature_count_"
   ]
  },
  {
   "cell_type": "code",
   "execution_count": 783,
   "metadata": {},
   "outputs": [
    {
     "data": {
      "text/plain": [
       "(3, 195019)"
      ]
     },
     "execution_count": 783,
     "metadata": {},
     "output_type": "execute_result"
    }
   ],
   "source": [
    "# rows represent classes, columns represent tokens\n",
    "nb.feature_count_.shape"
   ]
  },
  {
   "cell_type": "code",
   "execution_count": 784,
   "metadata": {},
   "outputs": [
    {
     "data": {
      "text/plain": [
       "array([ 0.03753255,  0.        ,  0.04289114, ...,  0.        ,\n",
       "        0.        ,  0.        ])"
      ]
     },
     "execution_count": 784,
     "metadata": {},
     "output_type": "execute_result"
    }
   ],
   "source": [
    "# number of times each token appears across all technology messages\n",
    "# ['technology', 'business', 'sport']\n",
    "technology_token_count = nb.feature_count_[0, :]\n",
    "technology_token_count"
   ]
  },
  {
   "cell_type": "code",
   "execution_count": 785,
   "metadata": {},
   "outputs": [
    {
     "data": {
      "text/plain": [
       "array([ 0.03492459,  0.        ,  0.        , ...,  0.        ,\n",
       "        0.        ,  0.        ])"
      ]
     },
     "execution_count": 785,
     "metadata": {},
     "output_type": "execute_result"
    }
   ],
   "source": [
    "# number of times each token appears across all business messages\n",
    "business_token_count = nb.feature_count_[1, :]\n",
    "business_token_count"
   ]
  },
  {
   "cell_type": "code",
   "execution_count": 786,
   "metadata": {},
   "outputs": [
    {
     "data": {
      "text/plain": [
       "array([ 0.06542441,  0.03940521,  0.        , ...,  0.02927071,\n",
       "        0.05725613,  0.05725613])"
      ]
     },
     "execution_count": 786,
     "metadata": {},
     "output_type": "execute_result"
    }
   ],
   "source": [
    "# number of times each token appears across all sport messages\n",
    "sport_token_count = nb.feature_count_[2, :]\n",
    "sport_token_count"
   ]
  },
  {
   "cell_type": "code",
   "execution_count": 787,
   "metadata": {},
   "outputs": [
    {
     "data": {
      "text/html": [
       "<div>\n",
       "<style>\n",
       "    .dataframe thead tr:only-child th {\n",
       "        text-align: right;\n",
       "    }\n",
       "\n",
       "    .dataframe thead th {\n",
       "        text-align: left;\n",
       "    }\n",
       "\n",
       "    .dataframe tbody tr th {\n",
       "        vertical-align: top;\n",
       "    }\n",
       "</style>\n",
       "<table border=\"1\" class=\"dataframe\">\n",
       "  <thead>\n",
       "    <tr style=\"text-align: right;\">\n",
       "      <th></th>\n",
       "      <th>business</th>\n",
       "      <th>sport</th>\n",
       "      <th>technology</th>\n",
       "    </tr>\n",
       "    <tr>\n",
       "      <th>token</th>\n",
       "      <th></th>\n",
       "      <th></th>\n",
       "      <th></th>\n",
       "    </tr>\n",
       "  </thead>\n",
       "  <tbody>\n",
       "    <tr>\n",
       "      <th>00</th>\n",
       "      <td>0.034925</td>\n",
       "      <td>0.065424</td>\n",
       "      <td>0.037533</td>\n",
       "    </tr>\n",
       "    <tr>\n",
       "      <th>00 early</th>\n",
       "      <td>0.000000</td>\n",
       "      <td>0.039405</td>\n",
       "      <td>0.000000</td>\n",
       "    </tr>\n",
       "    <tr>\n",
       "      <th>00 minute</th>\n",
       "      <td>0.000000</td>\n",
       "      <td>0.000000</td>\n",
       "      <td>0.042891</td>\n",
       "    </tr>\n",
       "    <tr>\n",
       "      <th>00 qualifying</th>\n",
       "      <td>0.000000</td>\n",
       "      <td>0.035360</td>\n",
       "      <td>0.000000</td>\n",
       "    </tr>\n",
       "    <tr>\n",
       "      <th>00 today</th>\n",
       "      <td>0.039911</td>\n",
       "      <td>0.000000</td>\n",
       "      <td>0.000000</td>\n",
       "    </tr>\n",
       "  </tbody>\n",
       "</table>\n",
       "</div>"
      ],
      "text/plain": [
       "               business     sport  technology\n",
       "token                                        \n",
       "00             0.034925  0.065424    0.037533\n",
       "00 early       0.000000  0.039405    0.000000\n",
       "00 minute      0.000000  0.000000    0.042891\n",
       "00 qualifying  0.000000  0.035360    0.000000\n",
       "00 today       0.039911  0.000000    0.000000"
      ]
     },
     "execution_count": 787,
     "metadata": {},
     "output_type": "execute_result"
    }
   ],
   "source": [
    "# create a DataFrame of tokens with their separate technology, business, and sport\n",
    "tokens = pd.DataFrame({'token':X_train_tokens, lables[0]:technology_token_count, lables[1]:business_token_count,lables[2]:sport_token_count}).set_index('token')\n",
    "tokens.head()"
   ]
  },
  {
   "cell_type": "code",
   "execution_count": 788,
   "metadata": {},
   "outputs": [
    {
     "data": {
      "text/html": [
       "<div>\n",
       "<style>\n",
       "    .dataframe thead tr:only-child th {\n",
       "        text-align: right;\n",
       "    }\n",
       "\n",
       "    .dataframe thead th {\n",
       "        text-align: left;\n",
       "    }\n",
       "\n",
       "    .dataframe tbody tr th {\n",
       "        vertical-align: top;\n",
       "    }\n",
       "</style>\n",
       "<table border=\"1\" class=\"dataframe\">\n",
       "  <thead>\n",
       "    <tr style=\"text-align: right;\">\n",
       "      <th></th>\n",
       "      <th>business</th>\n",
       "      <th>sport</th>\n",
       "      <th>technology</th>\n",
       "    </tr>\n",
       "    <tr>\n",
       "      <th>token</th>\n",
       "      <th></th>\n",
       "      <th></th>\n",
       "      <th></th>\n",
       "    </tr>\n",
       "  </thead>\n",
       "  <tbody>\n",
       "    <tr>\n",
       "      <th>revenue worth</th>\n",
       "      <td>0.0</td>\n",
       "      <td>0.000000</td>\n",
       "      <td>0.035173</td>\n",
       "    </tr>\n",
       "    <tr>\n",
       "      <th>releasing contamination</th>\n",
       "      <td>0.0</td>\n",
       "      <td>0.069304</td>\n",
       "      <td>0.000000</td>\n",
       "    </tr>\n",
       "    <tr>\n",
       "      <th>rensing jeremies</th>\n",
       "      <td>0.0</td>\n",
       "      <td>0.038929</td>\n",
       "      <td>0.000000</td>\n",
       "    </tr>\n",
       "    <tr>\n",
       "      <th>resurgence season</th>\n",
       "      <td>0.0</td>\n",
       "      <td>0.046488</td>\n",
       "      <td>0.000000</td>\n",
       "    </tr>\n",
       "    <tr>\n",
       "      <th>attacks involving</th>\n",
       "      <td>0.0</td>\n",
       "      <td>0.000000</td>\n",
       "      <td>0.076944</td>\n",
       "    </tr>\n",
       "  </tbody>\n",
       "</table>\n",
       "</div>"
      ],
      "text/plain": [
       "                         business     sport  technology\n",
       "token                                                  \n",
       "revenue worth                 0.0  0.000000    0.035173\n",
       "releasing contamination       0.0  0.069304    0.000000\n",
       "rensing jeremies              0.0  0.038929    0.000000\n",
       "resurgence season             0.0  0.046488    0.000000\n",
       "attacks involving             0.0  0.000000    0.076944"
      ]
     },
     "execution_count": 788,
     "metadata": {},
     "output_type": "execute_result"
    }
   ],
   "source": [
    "# examine 5 random DataFrame rows ... random_state = 6 so we get the same sample again\n",
    "tokens.sample(5, random_state=6)"
   ]
  },
  {
   "cell_type": "code",
   "execution_count": 789,
   "metadata": {},
   "outputs": [
    {
     "data": {
      "text/plain": [
       "array([ 308.,  397.,  421.])"
      ]
     },
     "execution_count": 789,
     "metadata": {},
     "output_type": "execute_result"
    }
   ],
   "source": [
    "# Naive Bayes counts the number of observations in each class\n",
    "nb.class_count_"
   ]
  },
  {
   "cell_type": "markdown",
   "metadata": {},
   "source": [
    "#### Before we can calculate the \"category\" of each token, we need to avoid **dividing by zero** and account for the **class imbalance**."
   ]
  },
  {
   "cell_type": "code",
   "execution_count": 790,
   "metadata": {},
   "outputs": [
    {
     "data": {
      "text/html": [
       "<div>\n",
       "<style>\n",
       "    .dataframe thead tr:only-child th {\n",
       "        text-align: right;\n",
       "    }\n",
       "\n",
       "    .dataframe thead th {\n",
       "        text-align: left;\n",
       "    }\n",
       "\n",
       "    .dataframe tbody tr th {\n",
       "        vertical-align: top;\n",
       "    }\n",
       "</style>\n",
       "<table border=\"1\" class=\"dataframe\">\n",
       "  <thead>\n",
       "    <tr style=\"text-align: right;\">\n",
       "      <th></th>\n",
       "      <th>business</th>\n",
       "      <th>sport</th>\n",
       "      <th>technology</th>\n",
       "    </tr>\n",
       "    <tr>\n",
       "      <th>token</th>\n",
       "      <th></th>\n",
       "      <th></th>\n",
       "      <th></th>\n",
       "    </tr>\n",
       "  </thead>\n",
       "  <tbody>\n",
       "    <tr>\n",
       "      <th>revenue worth</th>\n",
       "      <td>1.0</td>\n",
       "      <td>1.000000</td>\n",
       "      <td>1.035173</td>\n",
       "    </tr>\n",
       "    <tr>\n",
       "      <th>releasing contamination</th>\n",
       "      <td>1.0</td>\n",
       "      <td>1.069304</td>\n",
       "      <td>1.000000</td>\n",
       "    </tr>\n",
       "    <tr>\n",
       "      <th>rensing jeremies</th>\n",
       "      <td>1.0</td>\n",
       "      <td>1.038929</td>\n",
       "      <td>1.000000</td>\n",
       "    </tr>\n",
       "    <tr>\n",
       "      <th>resurgence season</th>\n",
       "      <td>1.0</td>\n",
       "      <td>1.046488</td>\n",
       "      <td>1.000000</td>\n",
       "    </tr>\n",
       "    <tr>\n",
       "      <th>attacks involving</th>\n",
       "      <td>1.0</td>\n",
       "      <td>1.000000</td>\n",
       "      <td>1.076944</td>\n",
       "    </tr>\n",
       "  </tbody>\n",
       "</table>\n",
       "</div>"
      ],
      "text/plain": [
       "                         business     sport  technology\n",
       "token                                                  \n",
       "revenue worth                 1.0  1.000000    1.035173\n",
       "releasing contamination       1.0  1.069304    1.000000\n",
       "rensing jeremies              1.0  1.038929    1.000000\n",
       "resurgence season             1.0  1.046488    1.000000\n",
       "attacks involving             1.0  1.000000    1.076944"
      ]
     },
     "execution_count": 790,
     "metadata": {},
     "output_type": "execute_result"
    }
   ],
   "source": [
    "# add 1 to avoid dividing by 0\n",
    "tokens[lables[0]] = tokens.technology + 1\n",
    "tokens[lables[1]] = tokens.business + 1\n",
    "tokens[lables[2]] = tokens.sport + 1\n",
    "tokens.sample(5, random_state=6)"
   ]
  },
  {
   "cell_type": "code",
   "execution_count": 791,
   "metadata": {},
   "outputs": [
    {
     "data": {
      "text/html": [
       "<div>\n",
       "<style>\n",
       "    .dataframe thead tr:only-child th {\n",
       "        text-align: right;\n",
       "    }\n",
       "\n",
       "    .dataframe thead th {\n",
       "        text-align: left;\n",
       "    }\n",
       "\n",
       "    .dataframe tbody tr th {\n",
       "        vertical-align: top;\n",
       "    }\n",
       "</style>\n",
       "<table border=\"1\" class=\"dataframe\">\n",
       "  <thead>\n",
       "    <tr style=\"text-align: right;\">\n",
       "      <th></th>\n",
       "      <th>business</th>\n",
       "      <th>sport</th>\n",
       "      <th>technology</th>\n",
       "      <th>business_to_sport_ratio</th>\n",
       "      <th>sport_to_technology_ratio</th>\n",
       "      <th>business_to_technology_ratio</th>\n",
       "    </tr>\n",
       "    <tr>\n",
       "      <th>token</th>\n",
       "      <th></th>\n",
       "      <th></th>\n",
       "      <th></th>\n",
       "      <th></th>\n",
       "      <th></th>\n",
       "      <th></th>\n",
       "    </tr>\n",
       "  </thead>\n",
       "  <tbody>\n",
       "    <tr>\n",
       "      <th>revenue worth</th>\n",
       "      <td>1.0</td>\n",
       "      <td>1.000000</td>\n",
       "      <td>1.035173</td>\n",
       "      <td>1.000000</td>\n",
       "      <td>0.966022</td>\n",
       "      <td>0.966022</td>\n",
       "    </tr>\n",
       "    <tr>\n",
       "      <th>releasing contamination</th>\n",
       "      <td>1.0</td>\n",
       "      <td>1.069304</td>\n",
       "      <td>1.000000</td>\n",
       "      <td>0.935188</td>\n",
       "      <td>1.069304</td>\n",
       "      <td>1.000000</td>\n",
       "    </tr>\n",
       "    <tr>\n",
       "      <th>rensing jeremies</th>\n",
       "      <td>1.0</td>\n",
       "      <td>1.038929</td>\n",
       "      <td>1.000000</td>\n",
       "      <td>0.962529</td>\n",
       "      <td>1.038929</td>\n",
       "      <td>1.000000</td>\n",
       "    </tr>\n",
       "    <tr>\n",
       "      <th>resurgence season</th>\n",
       "      <td>1.0</td>\n",
       "      <td>1.046488</td>\n",
       "      <td>1.000000</td>\n",
       "      <td>0.955577</td>\n",
       "      <td>1.046488</td>\n",
       "      <td>1.000000</td>\n",
       "    </tr>\n",
       "    <tr>\n",
       "      <th>attacks involving</th>\n",
       "      <td>1.0</td>\n",
       "      <td>1.000000</td>\n",
       "      <td>1.076944</td>\n",
       "      <td>1.000000</td>\n",
       "      <td>0.928554</td>\n",
       "      <td>0.928554</td>\n",
       "    </tr>\n",
       "  </tbody>\n",
       "</table>\n",
       "</div>"
      ],
      "text/plain": [
       "                         business     sport  technology  \\\n",
       "token                                                     \n",
       "revenue worth                 1.0  1.000000    1.035173   \n",
       "releasing contamination       1.0  1.069304    1.000000   \n",
       "rensing jeremies              1.0  1.038929    1.000000   \n",
       "resurgence season             1.0  1.046488    1.000000   \n",
       "attacks involving             1.0  1.000000    1.076944   \n",
       "\n",
       "                         business_to_sport_ratio  sport_to_technology_ratio  \\\n",
       "token                                                                         \n",
       "revenue worth                           1.000000                   0.966022   \n",
       "releasing contamination                 0.935188                   1.069304   \n",
       "rensing jeremies                        0.962529                   1.038929   \n",
       "resurgence season                       0.955577                   1.046488   \n",
       "attacks involving                       1.000000                   0.928554   \n",
       "\n",
       "                         business_to_technology_ratio  \n",
       "token                                                  \n",
       "revenue worth                                0.966022  \n",
       "releasing contamination                      1.000000  \n",
       "rensing jeremies                             1.000000  \n",
       "resurgence season                            1.000000  \n",
       "attacks involving                            0.928554  "
      ]
     },
     "execution_count": 791,
     "metadata": {},
     "output_type": "execute_result"
    }
   ],
   "source": [
    "# calculate the ratio of business_to_sport_ratio, sport_to_technology_ratio,\n",
    "# and business_to_technology_ratio for each token\n",
    "tokens['business_to_sport_ratio'] = tokens.business / tokens.sport\n",
    "tokens['sport_to_technology_ratio'] =  tokens.sport /  tokens.technology\n",
    "tokens['business_to_technology_ratio'] =  tokens.business / tokens.technology\n",
    "tokens.sample(5, random_state=6)"
   ]
  },
  {
   "cell_type": "code",
   "execution_count": 792,
   "metadata": {},
   "outputs": [
    {
     "data": {
      "text/html": [
       "<div>\n",
       "<style>\n",
       "    .dataframe thead tr:only-child th {\n",
       "        text-align: right;\n",
       "    }\n",
       "\n",
       "    .dataframe thead th {\n",
       "        text-align: left;\n",
       "    }\n",
       "\n",
       "    .dataframe tbody tr th {\n",
       "        vertical-align: top;\n",
       "    }\n",
       "</style>\n",
       "<table border=\"1\" class=\"dataframe\">\n",
       "  <thead>\n",
       "    <tr style=\"text-align: right;\">\n",
       "      <th></th>\n",
       "      <th>business</th>\n",
       "      <th>sport</th>\n",
       "      <th>technology</th>\n",
       "      <th>business_to_sport_ratio</th>\n",
       "      <th>sport_to_technology_ratio</th>\n",
       "      <th>business_to_technology_ratio</th>\n",
       "    </tr>\n",
       "    <tr>\n",
       "      <th>token</th>\n",
       "      <th></th>\n",
       "      <th></th>\n",
       "      <th></th>\n",
       "      <th></th>\n",
       "      <th></th>\n",
       "      <th></th>\n",
       "    </tr>\n",
       "  </thead>\n",
       "  <tbody>\n",
       "    <tr>\n",
       "      <th>bank</th>\n",
       "      <td>8.115480</td>\n",
       "      <td>1.000000</td>\n",
       "      <td>1.102348</td>\n",
       "      <td>8.115480</td>\n",
       "      <td>0.907155</td>\n",
       "      <td>7.361996</td>\n",
       "    </tr>\n",
       "    <tr>\n",
       "      <th>sales</th>\n",
       "      <td>7.827708</td>\n",
       "      <td>1.000000</td>\n",
       "      <td>2.081174</td>\n",
       "      <td>7.827708</td>\n",
       "      <td>0.480498</td>\n",
       "      <td>3.761198</td>\n",
       "    </tr>\n",
       "    <tr>\n",
       "      <th>growth</th>\n",
       "      <td>7.383704</td>\n",
       "      <td>1.000000</td>\n",
       "      <td>1.875627</td>\n",
       "      <td>7.383704</td>\n",
       "      <td>0.533155</td>\n",
       "      <td>3.936660</td>\n",
       "    </tr>\n",
       "    <tr>\n",
       "      <th>economy</th>\n",
       "      <td>7.371425</td>\n",
       "      <td>1.000000</td>\n",
       "      <td>1.039611</td>\n",
       "      <td>7.371425</td>\n",
       "      <td>0.961898</td>\n",
       "      <td>7.090558</td>\n",
       "    </tr>\n",
       "    <tr>\n",
       "      <th>oil</th>\n",
       "      <td>7.035165</td>\n",
       "      <td>1.000000</td>\n",
       "      <td>1.112411</td>\n",
       "      <td>7.035165</td>\n",
       "      <td>0.898948</td>\n",
       "      <td>6.324250</td>\n",
       "    </tr>\n",
       "    <tr>\n",
       "      <th>yukos</th>\n",
       "      <td>6.632378</td>\n",
       "      <td>1.000000</td>\n",
       "      <td>1.000000</td>\n",
       "      <td>6.632378</td>\n",
       "      <td>1.000000</td>\n",
       "      <td>6.632378</td>\n",
       "    </tr>\n",
       "    <tr>\n",
       "      <th>mr</th>\n",
       "      <td>8.175543</td>\n",
       "      <td>1.294586</td>\n",
       "      <td>6.203406</td>\n",
       "      <td>6.315181</td>\n",
       "      <td>0.208690</td>\n",
       "      <td>1.317912</td>\n",
       "    </tr>\n",
       "    <tr>\n",
       "      <th>economic</th>\n",
       "      <td>6.363782</td>\n",
       "      <td>1.020761</td>\n",
       "      <td>1.067414</td>\n",
       "      <td>6.234350</td>\n",
       "      <td>0.956293</td>\n",
       "      <td>5.961867</td>\n",
       "    </tr>\n",
       "    <tr>\n",
       "      <th>market</th>\n",
       "      <td>6.918792</td>\n",
       "      <td>1.128751</td>\n",
       "      <td>3.606844</td>\n",
       "      <td>6.129597</td>\n",
       "      <td>0.312947</td>\n",
       "      <td>1.918240</td>\n",
       "    </tr>\n",
       "    <tr>\n",
       "      <th>shares</th>\n",
       "      <td>6.178675</td>\n",
       "      <td>1.046113</td>\n",
       "      <td>1.090022</td>\n",
       "      <td>5.906317</td>\n",
       "      <td>0.959717</td>\n",
       "      <td>5.668395</td>\n",
       "    </tr>\n",
       "    <tr>\n",
       "      <th>prices</th>\n",
       "      <td>5.873443</td>\n",
       "      <td>1.000000</td>\n",
       "      <td>1.598560</td>\n",
       "      <td>5.873443</td>\n",
       "      <td>0.625563</td>\n",
       "      <td>3.674208</td>\n",
       "    </tr>\n",
       "    <tr>\n",
       "      <th>dollar</th>\n",
       "      <td>5.752069</td>\n",
       "      <td>1.000000</td>\n",
       "      <td>1.027736</td>\n",
       "      <td>5.752069</td>\n",
       "      <td>0.973012</td>\n",
       "      <td>5.596834</td>\n",
       "    </tr>\n",
       "    <tr>\n",
       "      <th>government</th>\n",
       "      <td>6.154691</td>\n",
       "      <td>1.119733</td>\n",
       "      <td>1.632736</td>\n",
       "      <td>5.496572</td>\n",
       "      <td>0.685801</td>\n",
       "      <td>3.769556</td>\n",
       "    </tr>\n",
       "    <tr>\n",
       "      <th>company</th>\n",
       "      <td>7.122247</td>\n",
       "      <td>1.393415</td>\n",
       "      <td>3.163323</td>\n",
       "      <td>5.111362</td>\n",
       "      <td>0.440491</td>\n",
       "      <td>2.251508</td>\n",
       "    </tr>\n",
       "    <tr>\n",
       "      <th>firm</th>\n",
       "      <td>6.098994</td>\n",
       "      <td>1.221062</td>\n",
       "      <td>3.158772</td>\n",
       "      <td>4.994825</td>\n",
       "      <td>0.386562</td>\n",
       "      <td>1.930811</td>\n",
       "    </tr>\n",
       "    <tr>\n",
       "      <th>analysts</th>\n",
       "      <td>4.570639</td>\n",
       "      <td>1.000000</td>\n",
       "      <td>2.164630</td>\n",
       "      <td>4.570639</td>\n",
       "      <td>0.461973</td>\n",
       "      <td>2.111511</td>\n",
       "    </tr>\n",
       "    <tr>\n",
       "      <th>stock</th>\n",
       "      <td>4.974026</td>\n",
       "      <td>1.109353</td>\n",
       "      <td>1.064383</td>\n",
       "      <td>4.483717</td>\n",
       "      <td>1.042250</td>\n",
       "      <td>4.673153</td>\n",
       "    </tr>\n",
       "    <tr>\n",
       "      <th>profits</th>\n",
       "      <td>4.395555</td>\n",
       "      <td>1.000000</td>\n",
       "      <td>1.129556</td>\n",
       "      <td>4.395555</td>\n",
       "      <td>0.885303</td>\n",
       "      <td>3.891399</td>\n",
       "    </tr>\n",
       "    <tr>\n",
       "      <th>china</th>\n",
       "      <td>5.479528</td>\n",
       "      <td>1.270010</td>\n",
       "      <td>1.930817</td>\n",
       "      <td>4.314554</td>\n",
       "      <td>0.657758</td>\n",
       "      <td>2.837933</td>\n",
       "    </tr>\n",
       "    <tr>\n",
       "      <th>companies</th>\n",
       "      <td>4.413850</td>\n",
       "      <td>1.023089</td>\n",
       "      <td>3.436295</td>\n",
       "      <td>4.314239</td>\n",
       "      <td>0.297730</td>\n",
       "      <td>1.284479</td>\n",
       "    </tr>\n",
       "    <tr>\n",
       "      <th>tax</th>\n",
       "      <td>4.211970</td>\n",
       "      <td>1.000000</td>\n",
       "      <td>1.028342</td>\n",
       "      <td>4.211970</td>\n",
       "      <td>0.972439</td>\n",
       "      <td>4.095885</td>\n",
       "    </tr>\n",
       "    <tr>\n",
       "      <th>business</th>\n",
       "      <td>4.783769</td>\n",
       "      <td>1.158219</td>\n",
       "      <td>2.110355</td>\n",
       "      <td>4.130280</td>\n",
       "      <td>0.548827</td>\n",
       "      <td>2.266808</td>\n",
       "    </tr>\n",
       "    <tr>\n",
       "      <th>euros</th>\n",
       "      <td>4.044923</td>\n",
       "      <td>1.000000</td>\n",
       "      <td>1.257229</td>\n",
       "      <td>4.044923</td>\n",
       "      <td>0.795400</td>\n",
       "      <td>3.217332</td>\n",
       "    </tr>\n",
       "    <tr>\n",
       "      <th>rates</th>\n",
       "      <td>4.358673</td>\n",
       "      <td>1.086562</td>\n",
       "      <td>1.171230</td>\n",
       "      <td>4.011437</td>\n",
       "      <td>0.927710</td>\n",
       "      <td>3.721450</td>\n",
       "    </tr>\n",
       "    <tr>\n",
       "      <th>india</th>\n",
       "      <td>4.253042</td>\n",
       "      <td>1.069576</td>\n",
       "      <td>1.513895</td>\n",
       "      <td>3.976383</td>\n",
       "      <td>0.706506</td>\n",
       "      <td>2.809337</td>\n",
       "    </tr>\n",
       "    <tr>\n",
       "      <th>trade</th>\n",
       "      <td>4.061843</td>\n",
       "      <td>1.024177</td>\n",
       "      <td>1.520721</td>\n",
       "      <td>3.965959</td>\n",
       "      <td>0.673481</td>\n",
       "      <td>2.670999</td>\n",
       "    </tr>\n",
       "    <tr>\n",
       "      <th>demand</th>\n",
       "      <td>4.186388</td>\n",
       "      <td>1.065940</td>\n",
       "      <td>1.862083</td>\n",
       "      <td>3.927416</td>\n",
       "      <td>0.572445</td>\n",
       "      <td>2.248229</td>\n",
       "    </tr>\n",
       "    <tr>\n",
       "      <th>state</th>\n",
       "      <td>4.425056</td>\n",
       "      <td>1.138345</td>\n",
       "      <td>1.720889</td>\n",
       "      <td>3.887271</td>\n",
       "      <td>0.661487</td>\n",
       "      <td>2.571378</td>\n",
       "    </tr>\n",
       "    <tr>\n",
       "      <th>rate</th>\n",
       "      <td>4.210376</td>\n",
       "      <td>1.093659</td>\n",
       "      <td>1.697357</td>\n",
       "      <td>3.849807</td>\n",
       "      <td>0.644331</td>\n",
       "      <td>2.480549</td>\n",
       "    </tr>\n",
       "    <tr>\n",
       "      <th>financial</th>\n",
       "      <td>4.286305</td>\n",
       "      <td>1.113658</td>\n",
       "      <td>1.453113</td>\n",
       "      <td>3.848851</td>\n",
       "      <td>0.766395</td>\n",
       "      <td>2.949740</td>\n",
       "    </tr>\n",
       "    <tr>\n",
       "      <th>...</th>\n",
       "      <td>...</td>\n",
       "      <td>...</td>\n",
       "      <td>...</td>\n",
       "      <td>...</td>\n",
       "      <td>...</td>\n",
       "      <td>...</td>\n",
       "    </tr>\n",
       "    <tr>\n",
       "      <th>victory</th>\n",
       "      <td>1.122958</td>\n",
       "      <td>4.609659</td>\n",
       "      <td>1.000000</td>\n",
       "      <td>0.243610</td>\n",
       "      <td>4.609659</td>\n",
       "      <td>1.122958</td>\n",
       "    </tr>\n",
       "    <tr>\n",
       "      <th>robinson</th>\n",
       "      <td>1.026490</td>\n",
       "      <td>4.218434</td>\n",
       "      <td>1.023863</td>\n",
       "      <td>0.243334</td>\n",
       "      <td>4.120116</td>\n",
       "      <td>1.002566</td>\n",
       "    </tr>\n",
       "    <tr>\n",
       "      <th>champions</th>\n",
       "      <td>1.000000</td>\n",
       "      <td>4.178405</td>\n",
       "      <td>1.039140</td>\n",
       "      <td>0.239326</td>\n",
       "      <td>4.021021</td>\n",
       "      <td>0.962334</td>\n",
       "    </tr>\n",
       "    <tr>\n",
       "      <th>champion</th>\n",
       "      <td>1.071368</td>\n",
       "      <td>4.510203</td>\n",
       "      <td>1.046019</td>\n",
       "      <td>0.237543</td>\n",
       "      <td>4.311780</td>\n",
       "      <td>1.024234</td>\n",
       "    </tr>\n",
       "    <tr>\n",
       "      <th>player</th>\n",
       "      <td>1.154169</td>\n",
       "      <td>4.913590</td>\n",
       "      <td>2.622400</td>\n",
       "      <td>0.234893</td>\n",
       "      <td>1.873700</td>\n",
       "      <td>0.440119</td>\n",
       "    </tr>\n",
       "    <tr>\n",
       "      <th>old</th>\n",
       "      <td>1.179969</td>\n",
       "      <td>5.113595</td>\n",
       "      <td>1.945697</td>\n",
       "      <td>0.230751</td>\n",
       "      <td>2.628156</td>\n",
       "      <td>0.606450</td>\n",
       "    </tr>\n",
       "    <tr>\n",
       "      <th>year old</th>\n",
       "      <td>1.097005</td>\n",
       "      <td>4.820635</td>\n",
       "      <td>1.165062</td>\n",
       "      <td>0.227564</td>\n",
       "      <td>4.137662</td>\n",
       "      <td>0.941584</td>\n",
       "    </tr>\n",
       "    <tr>\n",
       "      <th>squad</th>\n",
       "      <td>1.000000</td>\n",
       "      <td>4.473274</td>\n",
       "      <td>1.021067</td>\n",
       "      <td>0.223550</td>\n",
       "      <td>4.380981</td>\n",
       "      <td>0.979368</td>\n",
       "    </tr>\n",
       "    <tr>\n",
       "      <th>ve</th>\n",
       "      <td>1.175529</td>\n",
       "      <td>5.263109</td>\n",
       "      <td>1.488627</td>\n",
       "      <td>0.223353</td>\n",
       "      <td>3.535545</td>\n",
       "      <td>0.789673</td>\n",
       "    </tr>\n",
       "    <tr>\n",
       "      <th>season</th>\n",
       "      <td>1.390883</td>\n",
       "      <td>6.294191</td>\n",
       "      <td>1.068208</td>\n",
       "      <td>0.220979</td>\n",
       "      <td>5.892288</td>\n",
       "      <td>1.302071</td>\n",
       "    </tr>\n",
       "    <tr>\n",
       "      <th>got</th>\n",
       "      <td>1.152368</td>\n",
       "      <td>5.308126</td>\n",
       "      <td>1.518255</td>\n",
       "      <td>0.217095</td>\n",
       "      <td>3.496202</td>\n",
       "      <td>0.759008</td>\n",
       "    </tr>\n",
       "    <tr>\n",
       "      <th>goal</th>\n",
       "      <td>1.099787</td>\n",
       "      <td>5.322652</td>\n",
       "      <td>1.244032</td>\n",
       "      <td>0.206624</td>\n",
       "      <td>4.278549</td>\n",
       "      <td>0.884050</td>\n",
       "    </tr>\n",
       "    <tr>\n",
       "      <th>team</th>\n",
       "      <td>1.419890</td>\n",
       "      <td>6.925466</td>\n",
       "      <td>1.572495</td>\n",
       "      <td>0.205024</td>\n",
       "      <td>4.404125</td>\n",
       "      <td>0.902953</td>\n",
       "    </tr>\n",
       "    <tr>\n",
       "      <th>ball</th>\n",
       "      <td>1.000000</td>\n",
       "      <td>4.949968</td>\n",
       "      <td>1.185814</td>\n",
       "      <td>0.202022</td>\n",
       "      <td>4.174319</td>\n",
       "      <td>0.843302</td>\n",
       "    </tr>\n",
       "    <tr>\n",
       "      <th>ireland</th>\n",
       "      <td>1.248058</td>\n",
       "      <td>6.233374</td>\n",
       "      <td>1.071196</td>\n",
       "      <td>0.200222</td>\n",
       "      <td>5.819081</td>\n",
       "      <td>1.165107</td>\n",
       "    </tr>\n",
       "    <tr>\n",
       "      <th>rugby</th>\n",
       "      <td>1.044277</td>\n",
       "      <td>5.467715</td>\n",
       "      <td>1.149052</td>\n",
       "      <td>0.190990</td>\n",
       "      <td>4.758460</td>\n",
       "      <td>0.908816</td>\n",
       "    </tr>\n",
       "    <tr>\n",
       "      <th>league</th>\n",
       "      <td>1.112339</td>\n",
       "      <td>6.050703</td>\n",
       "      <td>1.080094</td>\n",
       "      <td>0.183836</td>\n",
       "      <td>5.602015</td>\n",
       "      <td>1.029854</td>\n",
       "    </tr>\n",
       "    <tr>\n",
       "      <th>england</th>\n",
       "      <td>1.797005</td>\n",
       "      <td>9.914736</td>\n",
       "      <td>1.141243</td>\n",
       "      <td>0.181246</td>\n",
       "      <td>8.687667</td>\n",
       "      <td>1.574604</td>\n",
       "    </tr>\n",
       "    <tr>\n",
       "      <th>coach</th>\n",
       "      <td>1.000000</td>\n",
       "      <td>5.589545</td>\n",
       "      <td>1.000000</td>\n",
       "      <td>0.178905</td>\n",
       "      <td>5.589545</td>\n",
       "      <td>1.000000</td>\n",
       "    </tr>\n",
       "    <tr>\n",
       "      <th>match</th>\n",
       "      <td>1.091424</td>\n",
       "      <td>6.139487</td>\n",
       "      <td>1.169570</td>\n",
       "      <td>0.177771</td>\n",
       "      <td>5.249354</td>\n",
       "      <td>0.933184</td>\n",
       "    </tr>\n",
       "    <tr>\n",
       "      <th>injury</th>\n",
       "      <td>1.000000</td>\n",
       "      <td>5.628347</td>\n",
       "      <td>1.077793</td>\n",
       "      <td>0.177672</td>\n",
       "      <td>5.222105</td>\n",
       "      <td>0.927822</td>\n",
       "    </tr>\n",
       "    <tr>\n",
       "      <th>wales</th>\n",
       "      <td>1.162146</td>\n",
       "      <td>6.616722</td>\n",
       "      <td>1.074537</td>\n",
       "      <td>0.175638</td>\n",
       "      <td>6.157742</td>\n",
       "      <td>1.081531</td>\n",
       "    </tr>\n",
       "    <tr>\n",
       "      <th>liverpool</th>\n",
       "      <td>1.000000</td>\n",
       "      <td>5.754935</td>\n",
       "      <td>1.021452</td>\n",
       "      <td>0.173764</td>\n",
       "      <td>5.634075</td>\n",
       "      <td>0.978999</td>\n",
       "    </tr>\n",
       "    <tr>\n",
       "      <th>play</th>\n",
       "      <td>1.175666</td>\n",
       "      <td>6.837398</td>\n",
       "      <td>2.450516</td>\n",
       "      <td>0.171946</td>\n",
       "      <td>2.790187</td>\n",
       "      <td>0.479763</td>\n",
       "    </tr>\n",
       "    <tr>\n",
       "      <th>arsenal</th>\n",
       "      <td>1.077527</td>\n",
       "      <td>6.269416</td>\n",
       "      <td>1.000000</td>\n",
       "      <td>0.171870</td>\n",
       "      <td>6.269416</td>\n",
       "      <td>1.077527</td>\n",
       "    </tr>\n",
       "    <tr>\n",
       "      <th>chelsea</th>\n",
       "      <td>1.103382</td>\n",
       "      <td>6.926522</td>\n",
       "      <td>1.021230</td>\n",
       "      <td>0.159298</td>\n",
       "      <td>6.782527</td>\n",
       "      <td>1.080444</td>\n",
       "    </tr>\n",
       "    <tr>\n",
       "      <th>players</th>\n",
       "      <td>1.100208</td>\n",
       "      <td>7.052917</td>\n",
       "      <td>3.499492</td>\n",
       "      <td>0.155993</td>\n",
       "      <td>2.015412</td>\n",
       "      <td>0.314391</td>\n",
       "    </tr>\n",
       "    <tr>\n",
       "      <th>cup</th>\n",
       "      <td>1.028416</td>\n",
       "      <td>7.186205</td>\n",
       "      <td>1.036971</td>\n",
       "      <td>0.143110</td>\n",
       "      <td>6.929999</td>\n",
       "      <td>0.991750</td>\n",
       "    </tr>\n",
       "    <tr>\n",
       "      <th>win</th>\n",
       "      <td>1.170653</td>\n",
       "      <td>8.191980</td>\n",
       "      <td>1.263275</td>\n",
       "      <td>0.142902</td>\n",
       "      <td>6.484714</td>\n",
       "      <td>0.926681</td>\n",
       "    </tr>\n",
       "    <tr>\n",
       "      <th>game</th>\n",
       "      <td>1.126725</td>\n",
       "      <td>8.941256</td>\n",
       "      <td>4.490691</td>\n",
       "      <td>0.126014</td>\n",
       "      <td>1.991064</td>\n",
       "      <td>0.250902</td>\n",
       "    </tr>\n",
       "  </tbody>\n",
       "</table>\n",
       "<p>195019 rows × 6 columns</p>\n",
       "</div>"
      ],
      "text/plain": [
       "            business     sport  technology  business_to_sport_ratio  \\\n",
       "token                                                                 \n",
       "bank        8.115480  1.000000    1.102348                 8.115480   \n",
       "sales       7.827708  1.000000    2.081174                 7.827708   \n",
       "growth      7.383704  1.000000    1.875627                 7.383704   \n",
       "economy     7.371425  1.000000    1.039611                 7.371425   \n",
       "oil         7.035165  1.000000    1.112411                 7.035165   \n",
       "yukos       6.632378  1.000000    1.000000                 6.632378   \n",
       "mr          8.175543  1.294586    6.203406                 6.315181   \n",
       "economic    6.363782  1.020761    1.067414                 6.234350   \n",
       "market      6.918792  1.128751    3.606844                 6.129597   \n",
       "shares      6.178675  1.046113    1.090022                 5.906317   \n",
       "prices      5.873443  1.000000    1.598560                 5.873443   \n",
       "dollar      5.752069  1.000000    1.027736                 5.752069   \n",
       "government  6.154691  1.119733    1.632736                 5.496572   \n",
       "company     7.122247  1.393415    3.163323                 5.111362   \n",
       "firm        6.098994  1.221062    3.158772                 4.994825   \n",
       "analysts    4.570639  1.000000    2.164630                 4.570639   \n",
       "stock       4.974026  1.109353    1.064383                 4.483717   \n",
       "profits     4.395555  1.000000    1.129556                 4.395555   \n",
       "china       5.479528  1.270010    1.930817                 4.314554   \n",
       "companies   4.413850  1.023089    3.436295                 4.314239   \n",
       "tax         4.211970  1.000000    1.028342                 4.211970   \n",
       "business    4.783769  1.158219    2.110355                 4.130280   \n",
       "euros       4.044923  1.000000    1.257229                 4.044923   \n",
       "rates       4.358673  1.086562    1.171230                 4.011437   \n",
       "india       4.253042  1.069576    1.513895                 3.976383   \n",
       "trade       4.061843  1.024177    1.520721                 3.965959   \n",
       "demand      4.186388  1.065940    1.862083                 3.927416   \n",
       "state       4.425056  1.138345    1.720889                 3.887271   \n",
       "rate        4.210376  1.093659    1.697357                 3.849807   \n",
       "financial   4.286305  1.113658    1.453113                 3.848851   \n",
       "...              ...       ...         ...                      ...   \n",
       "victory     1.122958  4.609659    1.000000                 0.243610   \n",
       "robinson    1.026490  4.218434    1.023863                 0.243334   \n",
       "champions   1.000000  4.178405    1.039140                 0.239326   \n",
       "champion    1.071368  4.510203    1.046019                 0.237543   \n",
       "player      1.154169  4.913590    2.622400                 0.234893   \n",
       "old         1.179969  5.113595    1.945697                 0.230751   \n",
       "year old    1.097005  4.820635    1.165062                 0.227564   \n",
       "squad       1.000000  4.473274    1.021067                 0.223550   \n",
       "ve          1.175529  5.263109    1.488627                 0.223353   \n",
       "season      1.390883  6.294191    1.068208                 0.220979   \n",
       "got         1.152368  5.308126    1.518255                 0.217095   \n",
       "goal        1.099787  5.322652    1.244032                 0.206624   \n",
       "team        1.419890  6.925466    1.572495                 0.205024   \n",
       "ball        1.000000  4.949968    1.185814                 0.202022   \n",
       "ireland     1.248058  6.233374    1.071196                 0.200222   \n",
       "rugby       1.044277  5.467715    1.149052                 0.190990   \n",
       "league      1.112339  6.050703    1.080094                 0.183836   \n",
       "england     1.797005  9.914736    1.141243                 0.181246   \n",
       "coach       1.000000  5.589545    1.000000                 0.178905   \n",
       "match       1.091424  6.139487    1.169570                 0.177771   \n",
       "injury      1.000000  5.628347    1.077793                 0.177672   \n",
       "wales       1.162146  6.616722    1.074537                 0.175638   \n",
       "liverpool   1.000000  5.754935    1.021452                 0.173764   \n",
       "play        1.175666  6.837398    2.450516                 0.171946   \n",
       "arsenal     1.077527  6.269416    1.000000                 0.171870   \n",
       "chelsea     1.103382  6.926522    1.021230                 0.159298   \n",
       "players     1.100208  7.052917    3.499492                 0.155993   \n",
       "cup         1.028416  7.186205    1.036971                 0.143110   \n",
       "win         1.170653  8.191980    1.263275                 0.142902   \n",
       "game        1.126725  8.941256    4.490691                 0.126014   \n",
       "\n",
       "            sport_to_technology_ratio  business_to_technology_ratio  \n",
       "token                                                                \n",
       "bank                         0.907155                      7.361996  \n",
       "sales                        0.480498                      3.761198  \n",
       "growth                       0.533155                      3.936660  \n",
       "economy                      0.961898                      7.090558  \n",
       "oil                          0.898948                      6.324250  \n",
       "yukos                        1.000000                      6.632378  \n",
       "mr                           0.208690                      1.317912  \n",
       "economic                     0.956293                      5.961867  \n",
       "market                       0.312947                      1.918240  \n",
       "shares                       0.959717                      5.668395  \n",
       "prices                       0.625563                      3.674208  \n",
       "dollar                       0.973012                      5.596834  \n",
       "government                   0.685801                      3.769556  \n",
       "company                      0.440491                      2.251508  \n",
       "firm                         0.386562                      1.930811  \n",
       "analysts                     0.461973                      2.111511  \n",
       "stock                        1.042250                      4.673153  \n",
       "profits                      0.885303                      3.891399  \n",
       "china                        0.657758                      2.837933  \n",
       "companies                    0.297730                      1.284479  \n",
       "tax                          0.972439                      4.095885  \n",
       "business                     0.548827                      2.266808  \n",
       "euros                        0.795400                      3.217332  \n",
       "rates                        0.927710                      3.721450  \n",
       "india                        0.706506                      2.809337  \n",
       "trade                        0.673481                      2.670999  \n",
       "demand                       0.572445                      2.248229  \n",
       "state                        0.661487                      2.571378  \n",
       "rate                         0.644331                      2.480549  \n",
       "financial                    0.766395                      2.949740  \n",
       "...                               ...                           ...  \n",
       "victory                      4.609659                      1.122958  \n",
       "robinson                     4.120116                      1.002566  \n",
       "champions                    4.021021                      0.962334  \n",
       "champion                     4.311780                      1.024234  \n",
       "player                       1.873700                      0.440119  \n",
       "old                          2.628156                      0.606450  \n",
       "year old                     4.137662                      0.941584  \n",
       "squad                        4.380981                      0.979368  \n",
       "ve                           3.535545                      0.789673  \n",
       "season                       5.892288                      1.302071  \n",
       "got                          3.496202                      0.759008  \n",
       "goal                         4.278549                      0.884050  \n",
       "team                         4.404125                      0.902953  \n",
       "ball                         4.174319                      0.843302  \n",
       "ireland                      5.819081                      1.165107  \n",
       "rugby                        4.758460                      0.908816  \n",
       "league                       5.602015                      1.029854  \n",
       "england                      8.687667                      1.574604  \n",
       "coach                        5.589545                      1.000000  \n",
       "match                        5.249354                      0.933184  \n",
       "injury                       5.222105                      0.927822  \n",
       "wales                        6.157742                      1.081531  \n",
       "liverpool                    5.634075                      0.978999  \n",
       "play                         2.790187                      0.479763  \n",
       "arsenal                      6.269416                      1.077527  \n",
       "chelsea                      6.782527                      1.080444  \n",
       "players                      2.015412                      0.314391  \n",
       "cup                          6.929999                      0.991750  \n",
       "win                          6.484714                      0.926681  \n",
       "game                         1.991064                      0.250902  \n",
       "\n",
       "[195019 rows x 6 columns]"
      ]
     },
     "execution_count": 792,
     "metadata": {},
     "output_type": "execute_result"
    }
   ],
   "source": [
    "# examine the DataFrame sorted by business_to_sport_ratio\n",
    "tokens.sort_values('business_to_sport_ratio', ascending=False)"
   ]
  },
  {
   "cell_type": "code",
   "execution_count": 793,
   "metadata": {},
   "outputs": [
    {
     "data": {
      "text/plain": [
       "2.7512942626191821"
      ]
     },
     "execution_count": 793,
     "metadata": {},
     "output_type": "execute_result"
    }
   ],
   "source": [
    "# look up the table for a given token\n",
    "tokens.loc['ebbers', 'business_to_sport_ratio']"
   ]
  },
  {
   "cell_type": "markdown",
   "metadata": {},
   "source": [
    "# Graphs Plotting"
   ]
  },
  {
   "cell_type": "code",
   "execution_count": 794,
   "metadata": {},
   "outputs": [
    {
     "data": {
      "text/plain": [
       "sport         526\n",
       "business      491\n",
       "technology    391\n",
       "Name: Category, dtype: int64"
      ]
     },
     "execution_count": 794,
     "metadata": {},
     "output_type": "execute_result"
    }
   ],
   "source": [
    "merged_df.Category.value_counts()"
   ]
  },
  {
   "cell_type": "code",
   "execution_count": 795,
   "metadata": {},
   "outputs": [
    {
     "data": {
      "text/plain": [
       "<matplotlib.axes._subplots.AxesSubplot at 0x1a2e1e9630>"
      ]
     },
     "execution_count": 795,
     "metadata": {},
     "output_type": "execute_result"
    },
    {
     "data": {
      "image/png": "[encoded data removed]",
      "text/plain": [
       "<matplotlib.figure.Figure at 0x1a342e9198>"
      ]
     },
     "metadata": {},
     "output_type": "display_data"
    }
   ],
   "source": [
    "# create three lists to hold the data for each category\n",
    "counts = merged_df.Category.value_counts().tolist()\n",
    "series = pd.Series([counts[2], counts[1], counts[0]], \n",
    "                   index=lables, \n",
    "                   name='Persecnt %')\n",
    "#  Display Pie chart:\n",
    "series.plot.pie(fontsize=14, autopct='%.2f%%', figsize=(6, 6))"
   ]
  },
  {
   "cell_type": "code",
   "execution_count": 796,
   "metadata": {},
   "outputs": [
    {
     "name": "stdout",
     "output_type": "stream",
     "text": [
      "month-jan-2017.html 122\n",
      "month-feb-2017.html 127\n",
      "month-mar-2017.html 122\n",
      "month-apr-2017.html 122\n",
      "month-may-2017.html 117\n",
      "month-jun-2017.html 118\n",
      "month-jul-2017.html 127\n",
      "month-aug-2017.html 119\n",
      "month-sep-2017.html 116\n",
      "month-oct-2017.html 128\n",
      "month-nov-2017.html 125\n",
      "month-dec-2017.html 118\n"
     ]
    },
    {
     "data": {
      "text/plain": [
       "<matplotlib.axes._subplots.AxesSubplot at 0x1a2eed5be0>"
      ]
     },
     "execution_count": 796,
     "metadata": {},
     "output_type": "execute_result"
    },
    {
     "data": {
      "image/png": "[encoded data removed]",
      "text/plain": [
       "<matplotlib.figure.Figure at 0x1a2f5a4e10>"
      ]
     },
     "metadata": {},
     "output_type": "display_data"
    }
   ],
   "source": [
    "months = []\n",
    "articles_count = []\n",
    "for item in month_number_of_articles:\n",
    "    for month,count in item.items():\n",
    "        months.append(month)\n",
    "        articles_count.append(count)\n",
    "        print('{} {}'.format(month, count))\n",
    "\n",
    "series = pd.Series(articles_count, index=months)\n",
    "# #  Display Pie chart:\n",
    "series.plot.bar(fontsize=14, figsize=(18, 6))"
   ]
  },
  {
   "cell_type": "code",
   "execution_count": 797,
   "metadata": {},
   "outputs": [
    {
     "data": {
      "text/plain": [
       "<matplotlib.figure.Figure at 0x1a33bd2cc0>"
      ]
     },
     "metadata": {},
     "output_type": "display_data"
    },
    {
     "data": {
      "image/png": "[encoded data removed]",
      "text/plain": [
       "<matplotlib.figure.Figure at 0x1a3007d6a0>"
      ]
     },
     "metadata": {},
     "output_type": "display_data"
    }
   ],
   "source": [
    "plt.figure()\n",
    "data = tokens.sample(5, random_state=6)\n",
    "data.plot.bar(fontsize=14,figsize=(20, 6))\n",
    "plt.show()"
   ]
  },
  {
   "cell_type": "markdown",
   "metadata": {},
   "source": [
    "### Tentative Conclusion\n",
    "Further in-depth studies and tests could be carried out to make statistically significant results. However, there doesn't seem to be much of a differen tbetween:\n",
    "- The **MultinomialNB and KNeighborsClassifier** in the accurcy. Both gave us very good ones **98% and 95%**.\n",
    "- **MultinomialNB** is very fast time: **39.3 ms** compared to **KNeighborsClassifier** time: **3.7 ms**.\n",
    "it worth to note that using **MultinomialNB** for intial testing is a good idea when you have a large data set and limited time. However, others might provide better results but takes longer time.\n",
    "- The prediction accuracy is almost identical in our case. The only different is the speed and times to train the data.\n",
    "- **\"The sport category\"** is the mosdt predicted documents overall with **100% MultinomialNB and 98% KNeighborsClassifier**\n",
    "\n",
    "Despiset the differences between the two, thir prections is very similar in our case using this specific data set and accuracy is very accurate. "
   ]
  },
  {
   "cell_type": "markdown",
   "metadata": {},
   "source": [
    "## Accuracy for both Classifier"
   ]
  },
  {
   "cell_type": "code",
   "execution_count": 798,
   "metadata": {},
   "outputs": [
    {
     "data": {
      "text/plain": [
       "([<matplotlib.axis.XTick at 0x1a33866b70>,\n",
       "  <matplotlib.axis.XTick at 0x1a2c8883c8>],\n",
       " <a list of 2 Text xticklabel objects>)"
      ]
     },
     "execution_count": 798,
     "metadata": {},
     "output_type": "execute_result"
    },
    {
     "data": {
      "image/png": "[encoded data removed]",
      "text/plain": [
       "<matplotlib.figure.Figure at 0x1a3007dc88>"
      ]
     },
     "metadata": {},
     "output_type": "display_data"
    }
   ],
   "source": [
    "acc_nb = float(accuracy_nb * 100)\n",
    "acc_knn = float(accuracy_knn * 100)\n",
    "data = {'Accuracy nb': acc_nb, 'Accuracy knn': acc_knn}\n",
    "plt.bar(range(len(data)), data.values(), width=0.6, align='center',color='gr')\n",
    "plt.title('MultinomialNB vs. KNeighborsClassifier Accuracy %')\n",
    "plt.xlabel('Classifier Name')\n",
    "plt.ylabel('Classifier Accuracy %')\n",
    "plt.tight_layout()\n",
    "plt.text(0.2,0.5, s= str('%.2f%%' % acc_nb),fontsize=24,horizontalalignment='center',transform=ax.transAxes, color='w')\n",
    "plt.text(0.85,0.5, s= str('%.2f%%' % acc_knn),fontsize=24,horizontalalignment='center',transform=ax.transAxes, color='w')\n",
    "plt.xticks(range(len(data)), data.keys())"
   ]
  },
  {
   "cell_type": "markdown",
   "metadata": {},
   "source": [
    "#### Finally:\n",
    "- Further analysis can be done to pair the most freacunet terms/words to see how they are assosiate with each other and do they state positive or negative meanings.\n",
    "- Different weighting and stop word filtering metrics could be used to further enhance the accuracy of the words-bag.\n",
    "- Experiment with different models to intermes of accuracy and speed to see which is the most fitting one for our useage."
   ]
  }
 ],
 "metadata": {
  "kernelspec": {
   "display_name": "Python 3",
   "language": "python",
   "name": "python3"
  },
  "language_info": {
   "codemirror_mode": {
    "name": "ipython",
    "version": 3
   },
   "file_extension": ".py",
   "mimetype": "text/x-python",
   "name": "python",
   "nbconvert_exporter": "python",
   "pygments_lexer": "ipython3",
   "version": "3.6.3"
  }
 },
 "nbformat": 4,
 "nbformat_minor": 2
}
